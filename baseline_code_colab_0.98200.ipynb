{
  "metadata": {
    "kernelspec": {
      "language": "python",
      "display_name": "Python 3",
      "name": "python3"
    },
    "language_info": {
      "pygments_lexer": "ipython3",
      "nbconvert_exporter": "python",
      "version": "3.6.4",
      "file_extension": ".py",
      "codemirror_mode": {
        "name": "ipython",
        "version": 3
      },
      "name": "python",
      "mimetype": "text/x-python"
    },
    "colab": {
      "name": "baseline-code-colab.ipynb의 사본의 사본",
      "provenance": [],
      "collapsed_sections": [],
      "background_execution": "on"
    },
    "accelerator": "GPU",
    "widgets": {
      "application/vnd.jupyter.widget-state+json": {
        "4f532c3cb775422ab884101eb2a74dc8": {
          "model_module": "@jupyter-widgets/controls",
          "model_name": "HBoxModel",
          "model_module_version": "1.5.0",
          "state": {
            "_dom_classes": [],
            "_model_module": "@jupyter-widgets/controls",
            "_model_module_version": "1.5.0",
            "_model_name": "HBoxModel",
            "_view_count": null,
            "_view_module": "@jupyter-widgets/controls",
            "_view_module_version": "1.5.0",
            "_view_name": "HBoxView",
            "box_style": "",
            "children": [
              "IPY_MODEL_696bb4263cb54804bedf80898ea1130c",
              "IPY_MODEL_293bfa0f8b0e4e6a90910c52384f8d8a",
              "IPY_MODEL_5a94a64fe98f4e45a88aa187a08989eb"
            ],
            "layout": "IPY_MODEL_0ab8a8732f1b4018bef846e86b522cc2"
          }
        },
        "696bb4263cb54804bedf80898ea1130c": {
          "model_module": "@jupyter-widgets/controls",
          "model_name": "HTMLModel",
          "model_module_version": "1.5.0",
          "state": {
            "_dom_classes": [],
            "_model_module": "@jupyter-widgets/controls",
            "_model_module_version": "1.5.0",
            "_model_name": "HTMLModel",
            "_view_count": null,
            "_view_module": "@jupyter-widgets/controls",
            "_view_module_version": "1.5.0",
            "_view_name": "HTMLView",
            "description": "",
            "description_tooltip": null,
            "layout": "IPY_MODEL_e1400f74c4ba49ae84191338ee119d28",
            "placeholder": "​",
            "style": "IPY_MODEL_31007c006bac40f497c55bdd380201f8",
            "value": "Downloading: 100%"
          }
        },
        "293bfa0f8b0e4e6a90910c52384f8d8a": {
          "model_module": "@jupyter-widgets/controls",
          "model_name": "FloatProgressModel",
          "model_module_version": "1.5.0",
          "state": {
            "_dom_classes": [],
            "_model_module": "@jupyter-widgets/controls",
            "_model_module_version": "1.5.0",
            "_model_name": "FloatProgressModel",
            "_view_count": null,
            "_view_module": "@jupyter-widgets/controls",
            "_view_module_version": "1.5.0",
            "_view_name": "ProgressView",
            "bar_style": "success",
            "description": "",
            "description_tooltip": null,
            "layout": "IPY_MODEL_238e03d44a7f459cbc6ddcee07207e4d",
            "max": 231508,
            "min": 0,
            "orientation": "horizontal",
            "style": "IPY_MODEL_f55045a32b4e48aea2b164a01aefc852",
            "value": 231508
          }
        },
        "5a94a64fe98f4e45a88aa187a08989eb": {
          "model_module": "@jupyter-widgets/controls",
          "model_name": "HTMLModel",
          "model_module_version": "1.5.0",
          "state": {
            "_dom_classes": [],
            "_model_module": "@jupyter-widgets/controls",
            "_model_module_version": "1.5.0",
            "_model_name": "HTMLModel",
            "_view_count": null,
            "_view_module": "@jupyter-widgets/controls",
            "_view_module_version": "1.5.0",
            "_view_name": "HTMLView",
            "description": "",
            "description_tooltip": null,
            "layout": "IPY_MODEL_028120be0b854eeaaecc433371fb2ac1",
            "placeholder": "​",
            "style": "IPY_MODEL_e26372c17f2f4c779be2f6351b60f5bf",
            "value": " 226k/226k [00:00&lt;00:00, 668kB/s]"
          }
        },
        "0ab8a8732f1b4018bef846e86b522cc2": {
          "model_module": "@jupyter-widgets/base",
          "model_name": "LayoutModel",
          "model_module_version": "1.2.0",
          "state": {
            "_model_module": "@jupyter-widgets/base",
            "_model_module_version": "1.2.0",
            "_model_name": "LayoutModel",
            "_view_count": null,
            "_view_module": "@jupyter-widgets/base",
            "_view_module_version": "1.2.0",
            "_view_name": "LayoutView",
            "align_content": null,
            "align_items": null,
            "align_self": null,
            "border": null,
            "bottom": null,
            "display": null,
            "flex": null,
            "flex_flow": null,
            "grid_area": null,
            "grid_auto_columns": null,
            "grid_auto_flow": null,
            "grid_auto_rows": null,
            "grid_column": null,
            "grid_gap": null,
            "grid_row": null,
            "grid_template_areas": null,
            "grid_template_columns": null,
            "grid_template_rows": null,
            "height": null,
            "justify_content": null,
            "justify_items": null,
            "left": null,
            "margin": null,
            "max_height": null,
            "max_width": null,
            "min_height": null,
            "min_width": null,
            "object_fit": null,
            "object_position": null,
            "order": null,
            "overflow": null,
            "overflow_x": null,
            "overflow_y": null,
            "padding": null,
            "right": null,
            "top": null,
            "visibility": null,
            "width": null
          }
        },
        "e1400f74c4ba49ae84191338ee119d28": {
          "model_module": "@jupyter-widgets/base",
          "model_name": "LayoutModel",
          "model_module_version": "1.2.0",
          "state": {
            "_model_module": "@jupyter-widgets/base",
            "_model_module_version": "1.2.0",
            "_model_name": "LayoutModel",
            "_view_count": null,
            "_view_module": "@jupyter-widgets/base",
            "_view_module_version": "1.2.0",
            "_view_name": "LayoutView",
            "align_content": null,
            "align_items": null,
            "align_self": null,
            "border": null,
            "bottom": null,
            "display": null,
            "flex": null,
            "flex_flow": null,
            "grid_area": null,
            "grid_auto_columns": null,
            "grid_auto_flow": null,
            "grid_auto_rows": null,
            "grid_column": null,
            "grid_gap": null,
            "grid_row": null,
            "grid_template_areas": null,
            "grid_template_columns": null,
            "grid_template_rows": null,
            "height": null,
            "justify_content": null,
            "justify_items": null,
            "left": null,
            "margin": null,
            "max_height": null,
            "max_width": null,
            "min_height": null,
            "min_width": null,
            "object_fit": null,
            "object_position": null,
            "order": null,
            "overflow": null,
            "overflow_x": null,
            "overflow_y": null,
            "padding": null,
            "right": null,
            "top": null,
            "visibility": null,
            "width": null
          }
        },
        "31007c006bac40f497c55bdd380201f8": {
          "model_module": "@jupyter-widgets/controls",
          "model_name": "DescriptionStyleModel",
          "model_module_version": "1.5.0",
          "state": {
            "_model_module": "@jupyter-widgets/controls",
            "_model_module_version": "1.5.0",
            "_model_name": "DescriptionStyleModel",
            "_view_count": null,
            "_view_module": "@jupyter-widgets/base",
            "_view_module_version": "1.2.0",
            "_view_name": "StyleView",
            "description_width": ""
          }
        },
        "238e03d44a7f459cbc6ddcee07207e4d": {
          "model_module": "@jupyter-widgets/base",
          "model_name": "LayoutModel",
          "model_module_version": "1.2.0",
          "state": {
            "_model_module": "@jupyter-widgets/base",
            "_model_module_version": "1.2.0",
            "_model_name": "LayoutModel",
            "_view_count": null,
            "_view_module": "@jupyter-widgets/base",
            "_view_module_version": "1.2.0",
            "_view_name": "LayoutView",
            "align_content": null,
            "align_items": null,
            "align_self": null,
            "border": null,
            "bottom": null,
            "display": null,
            "flex": null,
            "flex_flow": null,
            "grid_area": null,
            "grid_auto_columns": null,
            "grid_auto_flow": null,
            "grid_auto_rows": null,
            "grid_column": null,
            "grid_gap": null,
            "grid_row": null,
            "grid_template_areas": null,
            "grid_template_columns": null,
            "grid_template_rows": null,
            "height": null,
            "justify_content": null,
            "justify_items": null,
            "left": null,
            "margin": null,
            "max_height": null,
            "max_width": null,
            "min_height": null,
            "min_width": null,
            "object_fit": null,
            "object_position": null,
            "order": null,
            "overflow": null,
            "overflow_x": null,
            "overflow_y": null,
            "padding": null,
            "right": null,
            "top": null,
            "visibility": null,
            "width": null
          }
        },
        "f55045a32b4e48aea2b164a01aefc852": {
          "model_module": "@jupyter-widgets/controls",
          "model_name": "ProgressStyleModel",
          "model_module_version": "1.5.0",
          "state": {
            "_model_module": "@jupyter-widgets/controls",
            "_model_module_version": "1.5.0",
            "_model_name": "ProgressStyleModel",
            "_view_count": null,
            "_view_module": "@jupyter-widgets/base",
            "_view_module_version": "1.2.0",
            "_view_name": "StyleView",
            "bar_color": null,
            "description_width": ""
          }
        },
        "028120be0b854eeaaecc433371fb2ac1": {
          "model_module": "@jupyter-widgets/base",
          "model_name": "LayoutModel",
          "model_module_version": "1.2.0",
          "state": {
            "_model_module": "@jupyter-widgets/base",
            "_model_module_version": "1.2.0",
            "_model_name": "LayoutModel",
            "_view_count": null,
            "_view_module": "@jupyter-widgets/base",
            "_view_module_version": "1.2.0",
            "_view_name": "LayoutView",
            "align_content": null,
            "align_items": null,
            "align_self": null,
            "border": null,
            "bottom": null,
            "display": null,
            "flex": null,
            "flex_flow": null,
            "grid_area": null,
            "grid_auto_columns": null,
            "grid_auto_flow": null,
            "grid_auto_rows": null,
            "grid_column": null,
            "grid_gap": null,
            "grid_row": null,
            "grid_template_areas": null,
            "grid_template_columns": null,
            "grid_template_rows": null,
            "height": null,
            "justify_content": null,
            "justify_items": null,
            "left": null,
            "margin": null,
            "max_height": null,
            "max_width": null,
            "min_height": null,
            "min_width": null,
            "object_fit": null,
            "object_position": null,
            "order": null,
            "overflow": null,
            "overflow_x": null,
            "overflow_y": null,
            "padding": null,
            "right": null,
            "top": null,
            "visibility": null,
            "width": null
          }
        },
        "e26372c17f2f4c779be2f6351b60f5bf": {
          "model_module": "@jupyter-widgets/controls",
          "model_name": "DescriptionStyleModel",
          "model_module_version": "1.5.0",
          "state": {
            "_model_module": "@jupyter-widgets/controls",
            "_model_module_version": "1.5.0",
            "_model_name": "DescriptionStyleModel",
            "_view_count": null,
            "_view_module": "@jupyter-widgets/base",
            "_view_module_version": "1.2.0",
            "_view_name": "StyleView",
            "description_width": ""
          }
        },
        "5ece341fd2564ca5bc2554cddaf93353": {
          "model_module": "@jupyter-widgets/controls",
          "model_name": "HBoxModel",
          "model_module_version": "1.5.0",
          "state": {
            "_dom_classes": [],
            "_model_module": "@jupyter-widgets/controls",
            "_model_module_version": "1.5.0",
            "_model_name": "HBoxModel",
            "_view_count": null,
            "_view_module": "@jupyter-widgets/controls",
            "_view_module_version": "1.5.0",
            "_view_name": "HBoxView",
            "box_style": "",
            "children": [
              "IPY_MODEL_002c71aa33ce473ba1c2ea141c46520d",
              "IPY_MODEL_7bbac3ab8a6e4948b0d5bafa5f3e5a8f",
              "IPY_MODEL_d2c371e985f242de959c83d3dd86bc78"
            ],
            "layout": "IPY_MODEL_6a459e4010ce43a2b544ce7d23ac3c73"
          }
        },
        "002c71aa33ce473ba1c2ea141c46520d": {
          "model_module": "@jupyter-widgets/controls",
          "model_name": "HTMLModel",
          "model_module_version": "1.5.0",
          "state": {
            "_dom_classes": [],
            "_model_module": "@jupyter-widgets/controls",
            "_model_module_version": "1.5.0",
            "_model_name": "HTMLModel",
            "_view_count": null,
            "_view_module": "@jupyter-widgets/controls",
            "_view_module_version": "1.5.0",
            "_view_name": "HTMLView",
            "description": "",
            "description_tooltip": null,
            "layout": "IPY_MODEL_22a4fae73f824876bef56d55ca0ecb81",
            "placeholder": "​",
            "style": "IPY_MODEL_9ea1dd08ea274b9ebd406b2045228539",
            "value": "Downloading: 100%"
          }
        },
        "7bbac3ab8a6e4948b0d5bafa5f3e5a8f": {
          "model_module": "@jupyter-widgets/controls",
          "model_name": "FloatProgressModel",
          "model_module_version": "1.5.0",
          "state": {
            "_dom_classes": [],
            "_model_module": "@jupyter-widgets/controls",
            "_model_module_version": "1.5.0",
            "_model_name": "FloatProgressModel",
            "_view_count": null,
            "_view_module": "@jupyter-widgets/controls",
            "_view_module_version": "1.5.0",
            "_view_name": "ProgressView",
            "bar_style": "success",
            "description": "",
            "description_tooltip": null,
            "layout": "IPY_MODEL_eea5e876c00a45a59ed8787dc5a81853",
            "max": 28,
            "min": 0,
            "orientation": "horizontal",
            "style": "IPY_MODEL_7b5f542a4311444c9dca93015fa74dab",
            "value": 28
          }
        },
        "d2c371e985f242de959c83d3dd86bc78": {
          "model_module": "@jupyter-widgets/controls",
          "model_name": "HTMLModel",
          "model_module_version": "1.5.0",
          "state": {
            "_dom_classes": [],
            "_model_module": "@jupyter-widgets/controls",
            "_model_module_version": "1.5.0",
            "_model_name": "HTMLModel",
            "_view_count": null,
            "_view_module": "@jupyter-widgets/controls",
            "_view_module_version": "1.5.0",
            "_view_name": "HTMLView",
            "description": "",
            "description_tooltip": null,
            "layout": "IPY_MODEL_70317869aeaf4e1b98ddd683692e5e17",
            "placeholder": "​",
            "style": "IPY_MODEL_8628f9161ba849da865e75e03016fa43",
            "value": " 28.0/28.0 [00:00&lt;00:00, 848B/s]"
          }
        },
        "6a459e4010ce43a2b544ce7d23ac3c73": {
          "model_module": "@jupyter-widgets/base",
          "model_name": "LayoutModel",
          "model_module_version": "1.2.0",
          "state": {
            "_model_module": "@jupyter-widgets/base",
            "_model_module_version": "1.2.0",
            "_model_name": "LayoutModel",
            "_view_count": null,
            "_view_module": "@jupyter-widgets/base",
            "_view_module_version": "1.2.0",
            "_view_name": "LayoutView",
            "align_content": null,
            "align_items": null,
            "align_self": null,
            "border": null,
            "bottom": null,
            "display": null,
            "flex": null,
            "flex_flow": null,
            "grid_area": null,
            "grid_auto_columns": null,
            "grid_auto_flow": null,
            "grid_auto_rows": null,
            "grid_column": null,
            "grid_gap": null,
            "grid_row": null,
            "grid_template_areas": null,
            "grid_template_columns": null,
            "grid_template_rows": null,
            "height": null,
            "justify_content": null,
            "justify_items": null,
            "left": null,
            "margin": null,
            "max_height": null,
            "max_width": null,
            "min_height": null,
            "min_width": null,
            "object_fit": null,
            "object_position": null,
            "order": null,
            "overflow": null,
            "overflow_x": null,
            "overflow_y": null,
            "padding": null,
            "right": null,
            "top": null,
            "visibility": null,
            "width": null
          }
        },
        "22a4fae73f824876bef56d55ca0ecb81": {
          "model_module": "@jupyter-widgets/base",
          "model_name": "LayoutModel",
          "model_module_version": "1.2.0",
          "state": {
            "_model_module": "@jupyter-widgets/base",
            "_model_module_version": "1.2.0",
            "_model_name": "LayoutModel",
            "_view_count": null,
            "_view_module": "@jupyter-widgets/base",
            "_view_module_version": "1.2.0",
            "_view_name": "LayoutView",
            "align_content": null,
            "align_items": null,
            "align_self": null,
            "border": null,
            "bottom": null,
            "display": null,
            "flex": null,
            "flex_flow": null,
            "grid_area": null,
            "grid_auto_columns": null,
            "grid_auto_flow": null,
            "grid_auto_rows": null,
            "grid_column": null,
            "grid_gap": null,
            "grid_row": null,
            "grid_template_areas": null,
            "grid_template_columns": null,
            "grid_template_rows": null,
            "height": null,
            "justify_content": null,
            "justify_items": null,
            "left": null,
            "margin": null,
            "max_height": null,
            "max_width": null,
            "min_height": null,
            "min_width": null,
            "object_fit": null,
            "object_position": null,
            "order": null,
            "overflow": null,
            "overflow_x": null,
            "overflow_y": null,
            "padding": null,
            "right": null,
            "top": null,
            "visibility": null,
            "width": null
          }
        },
        "9ea1dd08ea274b9ebd406b2045228539": {
          "model_module": "@jupyter-widgets/controls",
          "model_name": "DescriptionStyleModel",
          "model_module_version": "1.5.0",
          "state": {
            "_model_module": "@jupyter-widgets/controls",
            "_model_module_version": "1.5.0",
            "_model_name": "DescriptionStyleModel",
            "_view_count": null,
            "_view_module": "@jupyter-widgets/base",
            "_view_module_version": "1.2.0",
            "_view_name": "StyleView",
            "description_width": ""
          }
        },
        "eea5e876c00a45a59ed8787dc5a81853": {
          "model_module": "@jupyter-widgets/base",
          "model_name": "LayoutModel",
          "model_module_version": "1.2.0",
          "state": {
            "_model_module": "@jupyter-widgets/base",
            "_model_module_version": "1.2.0",
            "_model_name": "LayoutModel",
            "_view_count": null,
            "_view_module": "@jupyter-widgets/base",
            "_view_module_version": "1.2.0",
            "_view_name": "LayoutView",
            "align_content": null,
            "align_items": null,
            "align_self": null,
            "border": null,
            "bottom": null,
            "display": null,
            "flex": null,
            "flex_flow": null,
            "grid_area": null,
            "grid_auto_columns": null,
            "grid_auto_flow": null,
            "grid_auto_rows": null,
            "grid_column": null,
            "grid_gap": null,
            "grid_row": null,
            "grid_template_areas": null,
            "grid_template_columns": null,
            "grid_template_rows": null,
            "height": null,
            "justify_content": null,
            "justify_items": null,
            "left": null,
            "margin": null,
            "max_height": null,
            "max_width": null,
            "min_height": null,
            "min_width": null,
            "object_fit": null,
            "object_position": null,
            "order": null,
            "overflow": null,
            "overflow_x": null,
            "overflow_y": null,
            "padding": null,
            "right": null,
            "top": null,
            "visibility": null,
            "width": null
          }
        },
        "7b5f542a4311444c9dca93015fa74dab": {
          "model_module": "@jupyter-widgets/controls",
          "model_name": "ProgressStyleModel",
          "model_module_version": "1.5.0",
          "state": {
            "_model_module": "@jupyter-widgets/controls",
            "_model_module_version": "1.5.0",
            "_model_name": "ProgressStyleModel",
            "_view_count": null,
            "_view_module": "@jupyter-widgets/base",
            "_view_module_version": "1.2.0",
            "_view_name": "StyleView",
            "bar_color": null,
            "description_width": ""
          }
        },
        "70317869aeaf4e1b98ddd683692e5e17": {
          "model_module": "@jupyter-widgets/base",
          "model_name": "LayoutModel",
          "model_module_version": "1.2.0",
          "state": {
            "_model_module": "@jupyter-widgets/base",
            "_model_module_version": "1.2.0",
            "_model_name": "LayoutModel",
            "_view_count": null,
            "_view_module": "@jupyter-widgets/base",
            "_view_module_version": "1.2.0",
            "_view_name": "LayoutView",
            "align_content": null,
            "align_items": null,
            "align_self": null,
            "border": null,
            "bottom": null,
            "display": null,
            "flex": null,
            "flex_flow": null,
            "grid_area": null,
            "grid_auto_columns": null,
            "grid_auto_flow": null,
            "grid_auto_rows": null,
            "grid_column": null,
            "grid_gap": null,
            "grid_row": null,
            "grid_template_areas": null,
            "grid_template_columns": null,
            "grid_template_rows": null,
            "height": null,
            "justify_content": null,
            "justify_items": null,
            "left": null,
            "margin": null,
            "max_height": null,
            "max_width": null,
            "min_height": null,
            "min_width": null,
            "object_fit": null,
            "object_position": null,
            "order": null,
            "overflow": null,
            "overflow_x": null,
            "overflow_y": null,
            "padding": null,
            "right": null,
            "top": null,
            "visibility": null,
            "width": null
          }
        },
        "8628f9161ba849da865e75e03016fa43": {
          "model_module": "@jupyter-widgets/controls",
          "model_name": "DescriptionStyleModel",
          "model_module_version": "1.5.0",
          "state": {
            "_model_module": "@jupyter-widgets/controls",
            "_model_module_version": "1.5.0",
            "_model_name": "DescriptionStyleModel",
            "_view_count": null,
            "_view_module": "@jupyter-widgets/base",
            "_view_module_version": "1.2.0",
            "_view_name": "StyleView",
            "description_width": ""
          }
        },
        "266259c95d1747659cdc6f73bdc062ec": {
          "model_module": "@jupyter-widgets/controls",
          "model_name": "HBoxModel",
          "model_module_version": "1.5.0",
          "state": {
            "_dom_classes": [],
            "_model_module": "@jupyter-widgets/controls",
            "_model_module_version": "1.5.0",
            "_model_name": "HBoxModel",
            "_view_count": null,
            "_view_module": "@jupyter-widgets/controls",
            "_view_module_version": "1.5.0",
            "_view_name": "HBoxView",
            "box_style": "",
            "children": [
              "IPY_MODEL_9ba2a6086b88458dae9d0621b6ae368c",
              "IPY_MODEL_48e06950157147559aad7ab8012e8258",
              "IPY_MODEL_809e55065bdb468c93c30cea6772a3f7"
            ],
            "layout": "IPY_MODEL_a56d400f2ee9470786f5eabe29b176df"
          }
        },
        "9ba2a6086b88458dae9d0621b6ae368c": {
          "model_module": "@jupyter-widgets/controls",
          "model_name": "HTMLModel",
          "model_module_version": "1.5.0",
          "state": {
            "_dom_classes": [],
            "_model_module": "@jupyter-widgets/controls",
            "_model_module_version": "1.5.0",
            "_model_name": "HTMLModel",
            "_view_count": null,
            "_view_module": "@jupyter-widgets/controls",
            "_view_module_version": "1.5.0",
            "_view_name": "HTMLView",
            "description": "",
            "description_tooltip": null,
            "layout": "IPY_MODEL_fd09f1251d2d4ffaa68b08057aa4d0b6",
            "placeholder": "​",
            "style": "IPY_MODEL_52793c16d64d483caa853baec512f570",
            "value": "Downloading: 100%"
          }
        },
        "48e06950157147559aad7ab8012e8258": {
          "model_module": "@jupyter-widgets/controls",
          "model_name": "FloatProgressModel",
          "model_module_version": "1.5.0",
          "state": {
            "_dom_classes": [],
            "_model_module": "@jupyter-widgets/controls",
            "_model_module_version": "1.5.0",
            "_model_name": "FloatProgressModel",
            "_view_count": null,
            "_view_module": "@jupyter-widgets/controls",
            "_view_module_version": "1.5.0",
            "_view_name": "ProgressView",
            "bar_style": "success",
            "description": "",
            "description_tooltip": null,
            "layout": "IPY_MODEL_96b26c17e08c4c8e89c1d080a5dc3313",
            "max": 570,
            "min": 0,
            "orientation": "horizontal",
            "style": "IPY_MODEL_4aa23cc1826440b9995406f38c9f8308",
            "value": 570
          }
        },
        "809e55065bdb468c93c30cea6772a3f7": {
          "model_module": "@jupyter-widgets/controls",
          "model_name": "HTMLModel",
          "model_module_version": "1.5.0",
          "state": {
            "_dom_classes": [],
            "_model_module": "@jupyter-widgets/controls",
            "_model_module_version": "1.5.0",
            "_model_name": "HTMLModel",
            "_view_count": null,
            "_view_module": "@jupyter-widgets/controls",
            "_view_module_version": "1.5.0",
            "_view_name": "HTMLView",
            "description": "",
            "description_tooltip": null,
            "layout": "IPY_MODEL_62dc7abc3b274f6f92d3b66542fee2ee",
            "placeholder": "​",
            "style": "IPY_MODEL_173df24e4dfa4003becc8c9065f3260c",
            "value": " 570/570 [00:00&lt;00:00, 18.2kB/s]"
          }
        },
        "a56d400f2ee9470786f5eabe29b176df": {
          "model_module": "@jupyter-widgets/base",
          "model_name": "LayoutModel",
          "model_module_version": "1.2.0",
          "state": {
            "_model_module": "@jupyter-widgets/base",
            "_model_module_version": "1.2.0",
            "_model_name": "LayoutModel",
            "_view_count": null,
            "_view_module": "@jupyter-widgets/base",
            "_view_module_version": "1.2.0",
            "_view_name": "LayoutView",
            "align_content": null,
            "align_items": null,
            "align_self": null,
            "border": null,
            "bottom": null,
            "display": null,
            "flex": null,
            "flex_flow": null,
            "grid_area": null,
            "grid_auto_columns": null,
            "grid_auto_flow": null,
            "grid_auto_rows": null,
            "grid_column": null,
            "grid_gap": null,
            "grid_row": null,
            "grid_template_areas": null,
            "grid_template_columns": null,
            "grid_template_rows": null,
            "height": null,
            "justify_content": null,
            "justify_items": null,
            "left": null,
            "margin": null,
            "max_height": null,
            "max_width": null,
            "min_height": null,
            "min_width": null,
            "object_fit": null,
            "object_position": null,
            "order": null,
            "overflow": null,
            "overflow_x": null,
            "overflow_y": null,
            "padding": null,
            "right": null,
            "top": null,
            "visibility": null,
            "width": null
          }
        },
        "fd09f1251d2d4ffaa68b08057aa4d0b6": {
          "model_module": "@jupyter-widgets/base",
          "model_name": "LayoutModel",
          "model_module_version": "1.2.0",
          "state": {
            "_model_module": "@jupyter-widgets/base",
            "_model_module_version": "1.2.0",
            "_model_name": "LayoutModel",
            "_view_count": null,
            "_view_module": "@jupyter-widgets/base",
            "_view_module_version": "1.2.0",
            "_view_name": "LayoutView",
            "align_content": null,
            "align_items": null,
            "align_self": null,
            "border": null,
            "bottom": null,
            "display": null,
            "flex": null,
            "flex_flow": null,
            "grid_area": null,
            "grid_auto_columns": null,
            "grid_auto_flow": null,
            "grid_auto_rows": null,
            "grid_column": null,
            "grid_gap": null,
            "grid_row": null,
            "grid_template_areas": null,
            "grid_template_columns": null,
            "grid_template_rows": null,
            "height": null,
            "justify_content": null,
            "justify_items": null,
            "left": null,
            "margin": null,
            "max_height": null,
            "max_width": null,
            "min_height": null,
            "min_width": null,
            "object_fit": null,
            "object_position": null,
            "order": null,
            "overflow": null,
            "overflow_x": null,
            "overflow_y": null,
            "padding": null,
            "right": null,
            "top": null,
            "visibility": null,
            "width": null
          }
        },
        "52793c16d64d483caa853baec512f570": {
          "model_module": "@jupyter-widgets/controls",
          "model_name": "DescriptionStyleModel",
          "model_module_version": "1.5.0",
          "state": {
            "_model_module": "@jupyter-widgets/controls",
            "_model_module_version": "1.5.0",
            "_model_name": "DescriptionStyleModel",
            "_view_count": null,
            "_view_module": "@jupyter-widgets/base",
            "_view_module_version": "1.2.0",
            "_view_name": "StyleView",
            "description_width": ""
          }
        },
        "96b26c17e08c4c8e89c1d080a5dc3313": {
          "model_module": "@jupyter-widgets/base",
          "model_name": "LayoutModel",
          "model_module_version": "1.2.0",
          "state": {
            "_model_module": "@jupyter-widgets/base",
            "_model_module_version": "1.2.0",
            "_model_name": "LayoutModel",
            "_view_count": null,
            "_view_module": "@jupyter-widgets/base",
            "_view_module_version": "1.2.0",
            "_view_name": "LayoutView",
            "align_content": null,
            "align_items": null,
            "align_self": null,
            "border": null,
            "bottom": null,
            "display": null,
            "flex": null,
            "flex_flow": null,
            "grid_area": null,
            "grid_auto_columns": null,
            "grid_auto_flow": null,
            "grid_auto_rows": null,
            "grid_column": null,
            "grid_gap": null,
            "grid_row": null,
            "grid_template_areas": null,
            "grid_template_columns": null,
            "grid_template_rows": null,
            "height": null,
            "justify_content": null,
            "justify_items": null,
            "left": null,
            "margin": null,
            "max_height": null,
            "max_width": null,
            "min_height": null,
            "min_width": null,
            "object_fit": null,
            "object_position": null,
            "order": null,
            "overflow": null,
            "overflow_x": null,
            "overflow_y": null,
            "padding": null,
            "right": null,
            "top": null,
            "visibility": null,
            "width": null
          }
        },
        "4aa23cc1826440b9995406f38c9f8308": {
          "model_module": "@jupyter-widgets/controls",
          "model_name": "ProgressStyleModel",
          "model_module_version": "1.5.0",
          "state": {
            "_model_module": "@jupyter-widgets/controls",
            "_model_module_version": "1.5.0",
            "_model_name": "ProgressStyleModel",
            "_view_count": null,
            "_view_module": "@jupyter-widgets/base",
            "_view_module_version": "1.2.0",
            "_view_name": "StyleView",
            "bar_color": null,
            "description_width": ""
          }
        },
        "62dc7abc3b274f6f92d3b66542fee2ee": {
          "model_module": "@jupyter-widgets/base",
          "model_name": "LayoutModel",
          "model_module_version": "1.2.0",
          "state": {
            "_model_module": "@jupyter-widgets/base",
            "_model_module_version": "1.2.0",
            "_model_name": "LayoutModel",
            "_view_count": null,
            "_view_module": "@jupyter-widgets/base",
            "_view_module_version": "1.2.0",
            "_view_name": "LayoutView",
            "align_content": null,
            "align_items": null,
            "align_self": null,
            "border": null,
            "bottom": null,
            "display": null,
            "flex": null,
            "flex_flow": null,
            "grid_area": null,
            "grid_auto_columns": null,
            "grid_auto_flow": null,
            "grid_auto_rows": null,
            "grid_column": null,
            "grid_gap": null,
            "grid_row": null,
            "grid_template_areas": null,
            "grid_template_columns": null,
            "grid_template_rows": null,
            "height": null,
            "justify_content": null,
            "justify_items": null,
            "left": null,
            "margin": null,
            "max_height": null,
            "max_width": null,
            "min_height": null,
            "min_width": null,
            "object_fit": null,
            "object_position": null,
            "order": null,
            "overflow": null,
            "overflow_x": null,
            "overflow_y": null,
            "padding": null,
            "right": null,
            "top": null,
            "visibility": null,
            "width": null
          }
        },
        "173df24e4dfa4003becc8c9065f3260c": {
          "model_module": "@jupyter-widgets/controls",
          "model_name": "DescriptionStyleModel",
          "model_module_version": "1.5.0",
          "state": {
            "_model_module": "@jupyter-widgets/controls",
            "_model_module_version": "1.5.0",
            "_model_name": "DescriptionStyleModel",
            "_view_count": null,
            "_view_module": "@jupyter-widgets/base",
            "_view_module_version": "1.2.0",
            "_view_name": "StyleView",
            "description_width": ""
          }
        }
      }
    }
  },
  "nbformat_minor": 0,
  "nbformat": 4,
  "cells": [
    {
      "cell_type": "markdown",
      "source": [
        "# Import requirements"
      ],
      "metadata": {
        "id": "TH32rzgprvgM"
      }
    },
    {
      "cell_type": "code",
      "source": [
        "!pip install transformers "
      ],
      "metadata": {
        "id": "G9EvC1HBuf41"
      },
      "execution_count": null,
      "outputs": []
    },
    {
      "cell_type": "code",
      "source": [
        "import os\n",
        "import pdb\n",
        "import argparse\n",
        "from dataclasses import dataclass, field\n",
        "from typing import Optional\n",
        "from collections import defaultdict\n",
        "\n",
        "import torch\n",
        "from torch.nn.utils.rnn import pad_sequence\n",
        "\n",
        "import numpy as np\n",
        "from tqdm import tqdm, trange\n",
        "\n",
        "from transformers import (\n",
        "    BertForSequenceClassification,\n",
        "    BertTokenizer,\n",
        "    AutoConfig,\n",
        "    AdamW\n",
        ")"
      ],
      "metadata": {
        "id": "AAdLxrUZrvgP"
      },
      "execution_count": 2,
      "outputs": []
    },
    {
      "cell_type": "markdown",
      "source": [
        "# 1. Preprocess"
      ],
      "metadata": {
        "id": "ASWOOmXqrvgQ"
      }
    },
    {
      "cell_type": "code",
      "source": [
        "def make_id_file(task, tokenizer):\n",
        "    def make_data_strings(file_name):\n",
        "        data_strings = []\n",
        "        with open(os.path.join(file_name), 'r', encoding='utf-8') as f:\n",
        "            id_file_data = [tokenizer.encode(line.lower()) for line in f.readlines()]\n",
        "        for item in id_file_data:\n",
        "            data_strings.append(' '.join([str(k) for k in item]))\n",
        "        return data_strings\n",
        "    \n",
        "    print('it will take some times...')\n",
        "    train_pos = make_data_strings('sentiment.train.1')\n",
        "    train_neg = make_data_strings('sentiment.train.0')\n",
        "    dev_pos = make_data_strings('sentiment.dev.1')\n",
        "    dev_neg = make_data_strings('sentiment.dev.0')\n",
        "\n",
        "    print('make id file finished!')\n",
        "    return train_pos, train_neg, dev_pos, dev_neg"
      ],
      "metadata": {
        "id": "RAnU6w29rvgR"
      },
      "execution_count": 3,
      "outputs": []
    },
    {
      "cell_type": "code",
      "source": [
        "tokenizer = BertTokenizer.from_pretrained('bert-base-uncased')"
      ],
      "metadata": {
        "id": "Ui2HOCflrvgR",
        "colab": {
          "base_uri": "https://localhost:8080/",
          "height": 113,
          "referenced_widgets": [
            "4f532c3cb775422ab884101eb2a74dc8",
            "696bb4263cb54804bedf80898ea1130c",
            "293bfa0f8b0e4e6a90910c52384f8d8a",
            "5a94a64fe98f4e45a88aa187a08989eb",
            "0ab8a8732f1b4018bef846e86b522cc2",
            "e1400f74c4ba49ae84191338ee119d28",
            "31007c006bac40f497c55bdd380201f8",
            "238e03d44a7f459cbc6ddcee07207e4d",
            "f55045a32b4e48aea2b164a01aefc852",
            "028120be0b854eeaaecc433371fb2ac1",
            "e26372c17f2f4c779be2f6351b60f5bf",
            "5ece341fd2564ca5bc2554cddaf93353",
            "002c71aa33ce473ba1c2ea141c46520d",
            "7bbac3ab8a6e4948b0d5bafa5f3e5a8f",
            "d2c371e985f242de959c83d3dd86bc78",
            "6a459e4010ce43a2b544ce7d23ac3c73",
            "22a4fae73f824876bef56d55ca0ecb81",
            "9ea1dd08ea274b9ebd406b2045228539",
            "eea5e876c00a45a59ed8787dc5a81853",
            "7b5f542a4311444c9dca93015fa74dab",
            "70317869aeaf4e1b98ddd683692e5e17",
            "8628f9161ba849da865e75e03016fa43",
            "266259c95d1747659cdc6f73bdc062ec",
            "9ba2a6086b88458dae9d0621b6ae368c",
            "48e06950157147559aad7ab8012e8258",
            "809e55065bdb468c93c30cea6772a3f7",
            "a56d400f2ee9470786f5eabe29b176df",
            "fd09f1251d2d4ffaa68b08057aa4d0b6",
            "52793c16d64d483caa853baec512f570",
            "96b26c17e08c4c8e89c1d080a5dc3313",
            "4aa23cc1826440b9995406f38c9f8308",
            "62dc7abc3b274f6f92d3b66542fee2ee",
            "173df24e4dfa4003becc8c9065f3260c"
          ]
        },
        "outputId": "59511e99-dcab-4323-abba-96d4044a3c5b"
      },
      "execution_count": 4,
      "outputs": [
        {
          "output_type": "display_data",
          "data": {
            "text/plain": [
              "Downloading:   0%|          | 0.00/226k [00:00<?, ?B/s]"
            ],
            "application/vnd.jupyter.widget-view+json": {
              "version_major": 2,
              "version_minor": 0,
              "model_id": "4f532c3cb775422ab884101eb2a74dc8"
            }
          },
          "metadata": {}
        },
        {
          "output_type": "display_data",
          "data": {
            "text/plain": [
              "Downloading:   0%|          | 0.00/28.0 [00:00<?, ?B/s]"
            ],
            "application/vnd.jupyter.widget-view+json": {
              "version_major": 2,
              "version_minor": 0,
              "model_id": "5ece341fd2564ca5bc2554cddaf93353"
            }
          },
          "metadata": {}
        },
        {
          "output_type": "display_data",
          "data": {
            "text/plain": [
              "Downloading:   0%|          | 0.00/570 [00:00<?, ?B/s]"
            ],
            "application/vnd.jupyter.widget-view+json": {
              "version_major": 2,
              "version_minor": 0,
              "model_id": "266259c95d1747659cdc6f73bdc062ec"
            }
          },
          "metadata": {}
        }
      ]
    },
    {
      "cell_type": "code",
      "source": [
        "from google.colab import files\n",
        "uploaded = files.upload()"
      ],
      "metadata": {
        "id": "4jVuK-V1uq3L",
        "colab": {
          "resources": {
            "http://localhost:8080/nbextensions/google.colab/files.js": {
              "data": "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",
              "ok": true,
              "headers": [
                [
                  "content-type",
                  "application/javascript"
                ]
              ],
              "status": 200,
              "status_text": ""
            }
          },
          "base_uri": "https://localhost:8080/",
          "height": 220
        },
        "outputId": "ef54fb08-4606-4b50-e3ac-adddcf162549"
      },
      "execution_count": 5,
      "outputs": [
        {
          "output_type": "display_data",
          "data": {
            "text/plain": [
              "<IPython.core.display.HTML object>"
            ],
            "text/html": [
              "\n",
              "     <input type=\"file\" id=\"files-3b4ba2cd-7f81-4aeb-883a-1d85e5c567f0\" name=\"files[]\" multiple disabled\n",
              "        style=\"border:none\" />\n",
              "     <output id=\"result-3b4ba2cd-7f81-4aeb-883a-1d85e5c567f0\">\n",
              "      Upload widget is only available when the cell has been executed in the\n",
              "      current browser session. Please rerun this cell to enable.\n",
              "      </output>\n",
              "      <script src=\"/nbextensions/google.colab/files.js\"></script> "
            ]
          },
          "metadata": {}
        },
        {
          "output_type": "stream",
          "name": "stdout",
          "text": [
            "Saving test_no_label.csv to test_no_label.csv\n",
            "Saving sentiment.dev.0 to sentiment.dev.0\n",
            "Saving sentiment.dev.1 to sentiment.dev.1\n",
            "Saving sentiment.train.0 to sentiment.train.0\n",
            "Saving sentiment.train.1 to sentiment.train.1\n"
          ]
        }
      ]
    },
    {
      "cell_type": "code",
      "source": [
        "!ls"
      ],
      "metadata": {
        "id": "ttzRlY4Ov0jZ",
        "colab": {
          "base_uri": "https://localhost:8080/"
        },
        "outputId": "002b8c54-a0ab-45c1-9e63-08c060ab902f"
      },
      "execution_count": 6,
      "outputs": [
        {
          "output_type": "stream",
          "name": "stdout",
          "text": [
            "sample_data\t sentiment.dev.1    sentiment.train.1\n",
            "sentiment.dev.0  sentiment.train.0  test_no_label.csv\n"
          ]
        }
      ]
    },
    {
      "cell_type": "code",
      "source": [
        "train_pos, train_neg, dev_pos, dev_neg = make_id_file('yelp', tokenizer)"
      ],
      "metadata": {
        "id": "BAgztXIBrvgS",
        "colab": {
          "base_uri": "https://localhost:8080/"
        },
        "outputId": "0b0587d1-3aa2-4435-853c-e8ed3b1f113d"
      },
      "execution_count": 7,
      "outputs": [
        {
          "output_type": "stream",
          "name": "stdout",
          "text": [
            "it will take some times...\n",
            "make id file finished!\n"
          ]
        }
      ]
    },
    {
      "cell_type": "code",
      "source": [
        "train_pos[:10]"
      ],
      "metadata": {
        "id": "wRh2WjGRrvgS",
        "colab": {
          "base_uri": "https://localhost:8080/"
        },
        "outputId": "8f232439-1182-49cf-9be9-ca306c21a2df"
      },
      "execution_count": 8,
      "outputs": [
        {
          "output_type": "execute_result",
          "data": {
            "text/plain": [
              "['101 6581 2833 1012 102',\n",
              " '101 21688 8013 2326 1012 102',\n",
              " '101 2027 2036 2031 3679 19247 1998 3256 6949 2029 2003 2428 2204 1012 102',\n",
              " '101 2009 1005 1055 1037 2204 15174 2098 7570 22974 2063 1012 102',\n",
              " '101 1996 3095 2003 5379 1012 102',\n",
              " '101 2204 3347 2833 1012 102',\n",
              " '101 2204 2326 1012 102',\n",
              " '101 11350 1997 2154 2003 25628 1998 7167 1997 19247 1012 102',\n",
              " '101 2307 2173 2005 6265 2030 3347 27962 1998 5404 1012 102',\n",
              " '101 1996 2047 2846 3504 6429 1012 102']"
            ]
          },
          "metadata": {},
          "execution_count": 8
        }
      ]
    },
    {
      "cell_type": "code",
      "source": [
        "class SentimentDataset(object):\n",
        "    def __init__(self, tokenizer, pos, neg):\n",
        "        self.tokenizer = tokenizer\n",
        "        self.data = []\n",
        "        self.label = []\n",
        "\n",
        "        for pos_sent in pos:\n",
        "            self.data += [self._cast_to_int(pos_sent.strip().split())]\n",
        "            self.label += [[1]]\n",
        "        for neg_sent in neg:\n",
        "            self.data += [self._cast_to_int(neg_sent.strip().split())]\n",
        "            self.label += [[0]]\n",
        "\n",
        "    def _cast_to_int(self, sample):\n",
        "        return [int(word_id) for word_id in sample]\n",
        "\n",
        "    def __len__(self):\n",
        "        return len(self.data)\n",
        "\n",
        "    def __getitem__(self, index):\n",
        "        sample = self.data[index]\n",
        "        return np.array(sample), np.array(self.label[index])"
      ],
      "metadata": {
        "id": "JdpQQQMUrvgT"
      },
      "execution_count": 9,
      "outputs": []
    },
    {
      "cell_type": "code",
      "source": [
        "train_dataset = SentimentDataset(tokenizer, train_pos, train_neg)\n",
        "dev_dataset = SentimentDataset(tokenizer, dev_pos, dev_neg)"
      ],
      "metadata": {
        "id": "wCz5ey8xrvgU"
      },
      "execution_count": 10,
      "outputs": []
    },
    {
      "cell_type": "code",
      "source": [
        "for i, item in enumerate(train_dataset):\n",
        "    print(item)\n",
        "    if i == 10:\n",
        "        break"
      ],
      "metadata": {
        "id": "UuvkMczvrvgU",
        "colab": {
          "base_uri": "https://localhost:8080/"
        },
        "outputId": "3f550498-0fca-4e29-8e8f-4c484fa6ca20"
      },
      "execution_count": 11,
      "outputs": [
        {
          "output_type": "stream",
          "name": "stdout",
          "text": [
            "(array([ 101, 6581, 2833, 1012,  102]), array([1]))\n",
            "(array([  101, 21688,  8013,  2326,  1012,   102]), array([1]))\n",
            "(array([  101,  2027,  2036,  2031,  3679, 19247,  1998,  3256,  6949,\n",
            "        2029,  2003,  2428,  2204,  1012,   102]), array([1]))\n",
            "(array([  101,  2009,  1005,  1055,  1037,  2204, 15174,  2098,  7570,\n",
            "       22974,  2063,  1012,   102]), array([1]))\n",
            "(array([ 101, 1996, 3095, 2003, 5379, 1012,  102]), array([1]))\n",
            "(array([ 101, 2204, 3347, 2833, 1012,  102]), array([1]))\n",
            "(array([ 101, 2204, 2326, 1012,  102]), array([1]))\n",
            "(array([  101, 11350,  1997,  2154,  2003, 25628,  1998,  7167,  1997,\n",
            "       19247,  1012,   102]), array([1]))\n",
            "(array([  101,  2307,  2173,  2005,  6265,  2030,  3347, 27962,  1998,\n",
            "        5404,  1012,   102]), array([1]))\n",
            "(array([ 101, 1996, 2047, 2846, 3504, 6429, 1012,  102]), array([1]))\n",
            "(array([ 101, 2023, 2173, 2001, 2200, 2204, 1012,  102]), array([1]))\n"
          ]
        }
      ]
    },
    {
      "cell_type": "code",
      "source": [
        "def collate_fn_style(samples):\n",
        "    input_ids, labels = zip(*samples)\n",
        "    max_len = max(len(input_id) for input_id in input_ids)\n",
        "    sorted_indices = np.argsort([len(input_id) for input_id in input_ids])[::-1]\n",
        "\n",
        "    input_ids = pad_sequence([torch.tensor(input_ids[index]) for index in sorted_indices],\n",
        "                             batch_first=True)\n",
        "    attention_mask = torch.tensor(\n",
        "        [[1] * len(input_ids[index]) + [0] * (max_len - len(input_ids[index])) for index in\n",
        "         sorted_indices])\n",
        "    token_type_ids = torch.tensor([[0] * len(input_ids[index]) for index in sorted_indices])\n",
        "    position_ids = torch.tensor([list(range(len(input_ids[index]))) for index in sorted_indices])\n",
        "    labels = torch.tensor(np.stack(labels, axis=0)[sorted_indices])\n",
        "\n",
        "    return input_ids, attention_mask, token_type_ids, position_ids, labels"
      ],
      "metadata": {
        "id": "B0wRUBYSrvgU"
      },
      "execution_count": 12,
      "outputs": []
    },
    {
      "cell_type": "code",
      "source": [
        "train_batch_size=32\n",
        "eval_batch_size=64\n",
        "\n",
        "train_loader = torch.utils.data.DataLoader(train_dataset,\n",
        "                                           batch_size=train_batch_size,\n",
        "                                           shuffle=True, collate_fn=collate_fn_style,\n",
        "                                           pin_memory=True, num_workers=2)\n",
        "dev_loader = torch.utils.data.DataLoader(dev_dataset, batch_size=eval_batch_size,\n",
        "                                         shuffle=False, collate_fn=collate_fn_style,\n",
        "                                         num_workers=2)"
      ],
      "metadata": {
        "id": "5saagig0rvgV"
      },
      "execution_count": 13,
      "outputs": []
    },
    {
      "cell_type": "code",
      "source": [
        "# random seed\n",
        "random_seed=42\n",
        "np.random.seed(random_seed)\n",
        "torch.manual_seed(random_seed)\n",
        "\n",
        "device = torch.device('cuda' if torch.cuda.is_available() else 'cpu')\n",
        "\n",
        "model = BertForSequenceClassification.from_pretrained('bert-base-uncased')\n",
        "model.to(device)"
      ],
      "metadata": {
        "id": "zvFqCaCnrvgW"
      },
      "execution_count": null,
      "outputs": []
    },
    {
      "cell_type": "code",
      "source": [
        "model.train()\n",
        "learning_rate = 5e-5\n",
        "optimizer = AdamW(model.parameters(), lr=learning_rate)"
      ],
      "metadata": {
        "id": "dWwhmyMyrvgW",
        "colab": {
          "base_uri": "https://localhost:8080/"
        },
        "outputId": "7fad76a5-4275-40c9-deef-505894798dde"
      },
      "execution_count": 15,
      "outputs": [
        {
          "output_type": "stream",
          "name": "stderr",
          "text": [
            "/usr/local/lib/python3.7/dist-packages/transformers/optimization.py:309: FutureWarning: This implementation of AdamW is deprecated and will be removed in a future version. Use the PyTorch implementation torch.optim.AdamW instead, or set `no_deprecation_warning=True` to disable this warning\n",
            "  FutureWarning,\n"
          ]
        }
      ]
    },
    {
      "cell_type": "code",
      "source": [
        "def compute_acc(predictions, target_labels):\n",
        "    return (np.array(predictions) == np.array(target_labels)).mean()"
      ],
      "metadata": {
        "id": "MztU-L83rvgW"
      },
      "execution_count": 16,
      "outputs": []
    },
    {
      "cell_type": "code",
      "source": [
        "train_epoch = 3\n",
        "lowest_valid_loss = 9999.\n",
        "for epoch in range(train_epoch):\n",
        "    with tqdm(train_loader, unit=\"batch\") as tepoch:\n",
        "        for iteration, (input_ids, attention_mask, token_type_ids, position_ids, labels) in enumerate(tepoch):\n",
        "            tepoch.set_description(f\"Epoch {epoch}\")\n",
        "            input_ids = input_ids.to(device)\n",
        "            attention_mask = attention_mask.to(device)\n",
        "            token_type_ids = token_type_ids.to(device)\n",
        "            position_ids = position_ids.to(device)\n",
        "            labels = labels.to(device, dtype=torch.long)\n",
        "\n",
        "            optimizer.zero_grad()\n",
        "\n",
        "            output = model(input_ids=input_ids,\n",
        "                           attention_mask=attention_mask,\n",
        "                           token_type_ids=token_type_ids,\n",
        "                           position_ids=position_ids,\n",
        "                           labels=labels)\n",
        "\n",
        "            loss = output.loss\n",
        "            loss.backward()\n",
        "\n",
        "            optimizer.step()\n",
        "\n",
        "            tepoch.set_postfix(loss=loss.item())\n",
        "            if iteration != 0 and iteration % int(len(train_loader) / 5) == 0:\n",
        "                # Evaluate the model five times per epoch\n",
        "                with torch.no_grad():\n",
        "                    model.eval()\n",
        "                    valid_losses = []\n",
        "                    predictions = []\n",
        "                    target_labels = []\n",
        "                    for input_ids, attention_mask, token_type_ids, position_ids, labels in tqdm(dev_loader,\n",
        "                                                                                                desc='Eval',\n",
        "                                                                                                position=1,\n",
        "                                                                                                leave=None):\n",
        "                        input_ids = input_ids.to(device)\n",
        "                        attention_mask = attention_mask.to(device)\n",
        "                        token_type_ids = token_type_ids.to(device)\n",
        "                        position_ids = position_ids.to(device)\n",
        "                        labels = labels.to(device, dtype=torch.long)\n",
        "\n",
        "                        output = model(input_ids=input_ids,\n",
        "                                       attention_mask=attention_mask,\n",
        "                                       token_type_ids=token_type_ids,\n",
        "                                       position_ids=position_ids,\n",
        "                                       labels=labels)\n",
        "\n",
        "                        logits = output.logits\n",
        "                        loss = output.loss\n",
        "                        valid_losses.append(loss.item())\n",
        "\n",
        "                        batch_predictions = [0 if example[0] > example[1] else 1 for example in logits]\n",
        "                        batch_labels = [int(example) for example in labels]\n",
        "\n",
        "                        predictions += batch_predictions\n",
        "                        target_labels += batch_labels\n",
        "\n",
        "                acc = compute_acc(predictions, target_labels)\n",
        "                valid_loss = sum(valid_losses) / len(valid_losses)\n",
        "                if lowest_valid_loss > valid_loss:\n",
        "                    print('Acc for model which have lower valid loss: ', acc)\n",
        "                    torch.save(model.state_dict(), \"./pytorch_model.bin\")"
      ],
      "metadata": {
        "id": "DuZfvzpGrvgW",
        "colab": {
          "base_uri": "https://localhost:8080/"
        },
        "outputId": "031be152-9e56-4495-9d36-27c86d8b902e"
      },
      "execution_count": 17,
      "outputs": [
        {
          "output_type": "stream",
          "name": "stderr",
          "text": [
            "Epoch 0:  20%|█▉        | 2769/13852 [04:36<18:08, 10.18batch/s, loss=0.0448]\n",
            "Eval:   0%|          | 0/63 [00:00<?, ?it/s]\u001b[A\n",
            "Eval:   2%|▏         | 1/63 [00:00<00:08,  7.39it/s]\u001b[A\n",
            "Eval:   5%|▍         | 3/63 [00:00<00:04, 13.76it/s]\u001b[A\n",
            "Eval:   8%|▊         | 5/63 [00:00<00:03, 16.09it/s]\u001b[A\n",
            "Eval:  13%|█▎        | 8/63 [00:00<00:03, 18.26it/s]\u001b[A\n",
            "Eval:  16%|█▌        | 10/63 [00:00<00:02, 18.58it/s]\u001b[A\n",
            "Eval:  21%|██        | 13/63 [00:00<00:02, 19.28it/s]\u001b[A\n",
            "Eval:  25%|██▌       | 16/63 [00:00<00:02, 19.79it/s]\u001b[A\n",
            "Eval:  30%|███       | 19/63 [00:01<00:02, 20.19it/s]\u001b[A\n",
            "Eval:  35%|███▍      | 22/63 [00:01<00:02, 20.01it/s]\u001b[A\n",
            "Eval:  38%|███▊      | 24/63 [00:01<00:01, 19.98it/s]\u001b[A\n",
            "Eval:  41%|████▏     | 26/63 [00:01<00:01, 19.73it/s]\u001b[A\n",
            "Eval:  46%|████▌     | 29/63 [00:01<00:01, 20.25it/s]\u001b[A\n",
            "Eval:  51%|█████     | 32/63 [00:01<00:01, 20.05it/s]\u001b[A\n",
            "Eval:  56%|█████▌    | 35/63 [00:01<00:01, 19.54it/s]\u001b[A\n",
            "Eval:  59%|█████▊    | 37/63 [00:01<00:01, 19.15it/s]\u001b[A\n",
            "Eval:  62%|██████▏   | 39/63 [00:02<00:01, 18.51it/s]\u001b[A\n",
            "Eval:  65%|██████▌   | 41/63 [00:02<00:01, 18.42it/s]\u001b[A\n",
            "Eval:  68%|██████▊   | 43/63 [00:02<00:01, 18.11it/s]\u001b[A\n",
            "Eval:  71%|███████▏  | 45/63 [00:02<00:00, 18.09it/s]\u001b[A\n",
            "Eval:  75%|███████▍  | 47/63 [00:02<00:00, 17.79it/s]\u001b[A\n",
            "Eval:  78%|███████▊  | 49/63 [00:02<00:00, 18.00it/s]\u001b[A\n",
            "Eval:  81%|████████  | 51/63 [00:02<00:00, 18.15it/s]\u001b[A\n",
            "Eval:  84%|████████▍ | 53/63 [00:02<00:00, 18.19it/s]\u001b[A\n",
            "Eval:  87%|████████▋ | 55/63 [00:02<00:00, 18.19it/s]\u001b[A\n",
            "Eval:  90%|█████████ | 57/63 [00:03<00:00, 17.86it/s]\u001b[A\n",
            "Eval:  94%|█████████▎| 59/63 [00:03<00:00, 17.67it/s]\u001b[A\n",
            "Eval:  97%|█████████▋| 61/63 [00:03<00:00, 17.97it/s]\u001b[A\n",
            "                                                     \u001b[A"
          ]
        },
        {
          "output_type": "stream",
          "name": "stdout",
          "text": [
            "Acc for model which have lower valid loss:  0.96725\n"
          ]
        },
        {
          "output_type": "stream",
          "name": "stderr",
          "text": [
            "Epoch 0:  40%|███▉      | 5540/13852 [09:15<14:08,  9.79batch/s, loss=0.045] \n",
            "Eval:   0%|          | 0/63 [00:00<?, ?it/s]\u001b[A\n",
            "Eval:   2%|▏         | 1/63 [00:00<00:09,  6.62it/s]\u001b[A\n",
            "Eval:   6%|▋         | 4/63 [00:00<00:03, 14.76it/s]\u001b[A\n",
            "Eval:  10%|▉         | 6/63 [00:00<00:03, 16.34it/s]\u001b[A\n",
            "Eval:  14%|█▍        | 9/63 [00:00<00:02, 18.33it/s]\u001b[A\n",
            "Eval:  17%|█▋        | 11/63 [00:00<00:02, 18.71it/s]\u001b[A\n",
            "Eval:  22%|██▏       | 14/63 [00:00<00:02, 19.97it/s]\u001b[A\n",
            "Eval:  25%|██▌       | 16/63 [00:00<00:02, 19.73it/s]\u001b[A\n",
            "Eval:  30%|███       | 19/63 [00:01<00:02, 20.14it/s]\u001b[A\n",
            "Eval:  35%|███▍      | 22/63 [00:01<00:02, 20.07it/s]\u001b[A\n",
            "Eval:  40%|███▉      | 25/63 [00:01<00:01, 20.18it/s]\u001b[A\n",
            "Eval:  44%|████▍     | 28/63 [00:01<00:01, 20.35it/s]\u001b[A\n",
            "Eval:  49%|████▉     | 31/63 [00:01<00:01, 20.42it/s]\u001b[A\n",
            "Eval:  54%|█████▍    | 34/63 [00:01<00:01, 19.89it/s]\u001b[A\n",
            "Eval:  57%|█████▋    | 36/63 [00:01<00:01, 19.39it/s]\u001b[A\n",
            "Eval:  60%|██████    | 38/63 [00:02<00:01, 18.77it/s]\u001b[A\n",
            "Eval:  63%|██████▎   | 40/63 [00:02<00:01, 18.51it/s]\u001b[A\n",
            "Eval:  67%|██████▋   | 42/63 [00:02<00:01, 18.17it/s]\u001b[A\n",
            "Eval:  70%|██████▉   | 44/63 [00:02<00:01, 18.05it/s]\u001b[A\n",
            "Eval:  73%|███████▎  | 46/63 [00:02<00:00, 17.85it/s]\u001b[A\n",
            "Eval:  76%|███████▌  | 48/63 [00:02<00:00, 17.98it/s]\u001b[A\n",
            "Eval:  79%|███████▉  | 50/63 [00:02<00:00, 18.18it/s]\u001b[A\n",
            "Eval:  83%|████████▎ | 52/63 [00:02<00:00, 18.29it/s]\u001b[A\n",
            "Eval:  86%|████████▌ | 54/63 [00:02<00:00, 18.29it/s]\u001b[A\n",
            "Eval:  89%|████████▉ | 56/63 [00:03<00:00, 17.93it/s]\u001b[A\n",
            "Eval:  92%|█████████▏| 58/63 [00:03<00:00, 17.96it/s]\u001b[A\n",
            "Eval:  95%|█████████▌| 60/63 [00:03<00:00, 18.33it/s]\u001b[A\n",
            "Eval:  98%|█████████▊| 62/63 [00:03<00:00, 18.31it/s]\u001b[A\n",
            "                                                     \u001b[A"
          ]
        },
        {
          "output_type": "stream",
          "name": "stdout",
          "text": [
            "Acc for model which have lower valid loss:  0.97475\n"
          ]
        },
        {
          "output_type": "stream",
          "name": "stderr",
          "text": [
            "Epoch 0:  60%|█████▉    | 8309/13852 [13:54<09:03, 10.19batch/s, loss=0.118]\n",
            "Eval:   0%|          | 0/63 [00:00<?, ?it/s]\u001b[A\n",
            "Eval:   2%|▏         | 1/63 [00:00<00:09,  6.56it/s]\u001b[A\n",
            "Eval:   6%|▋         | 4/63 [00:00<00:03, 14.93it/s]\u001b[A\n",
            "Eval:  10%|▉         | 6/63 [00:00<00:03, 16.49it/s]\u001b[A\n",
            "Eval:  14%|█▍        | 9/63 [00:00<00:02, 18.30it/s]\u001b[A\n",
            "Eval:  17%|█▋        | 11/63 [00:00<00:02, 18.72it/s]\u001b[A\n",
            "Eval:  22%|██▏       | 14/63 [00:00<00:02, 19.94it/s]\u001b[A\n",
            "Eval:  25%|██▌       | 16/63 [00:00<00:02, 19.78it/s]\u001b[A\n",
            "Eval:  30%|███       | 19/63 [00:01<00:02, 20.14it/s]\u001b[A\n",
            "Eval:  35%|███▍      | 22/63 [00:01<00:02, 20.09it/s]\u001b[A\n",
            "Eval:  40%|███▉      | 25/63 [00:01<00:01, 20.14it/s]\u001b[A\n",
            "Eval:  44%|████▍     | 28/63 [00:01<00:01, 20.28it/s]\u001b[A\n",
            "Eval:  49%|████▉     | 31/63 [00:01<00:01, 20.48it/s]\u001b[A\n",
            "Eval:  54%|█████▍    | 34/63 [00:01<00:01, 19.80it/s]\u001b[A\n",
            "Eval:  57%|█████▋    | 36/63 [00:01<00:01, 19.46it/s]\u001b[A\n",
            "Eval:  60%|██████    | 38/63 [00:02<00:01, 18.63it/s]\u001b[A\n",
            "Eval:  63%|██████▎   | 40/63 [00:02<00:01, 18.49it/s]\u001b[A\n",
            "Eval:  67%|██████▋   | 42/63 [00:02<00:01, 18.46it/s]\u001b[A\n",
            "Eval:  70%|██████▉   | 44/63 [00:02<00:01, 18.32it/s]\u001b[A\n",
            "Eval:  73%|███████▎  | 46/63 [00:02<00:00, 17.93it/s]\u001b[A\n",
            "Eval:  76%|███████▌  | 48/63 [00:02<00:00, 18.04it/s]\u001b[A\n",
            "Eval:  79%|███████▉  | 50/63 [00:02<00:00, 18.25it/s]\u001b[A\n",
            "Eval:  83%|████████▎ | 52/63 [00:02<00:00, 18.47it/s]\u001b[A\n",
            "Eval:  86%|████████▌ | 54/63 [00:02<00:00, 18.45it/s]\u001b[A\n",
            "Eval:  89%|████████▉ | 56/63 [00:03<00:00, 18.15it/s]\u001b[A\n",
            "Eval:  92%|█████████▏| 58/63 [00:03<00:00, 18.10it/s]\u001b[A\n",
            "Eval:  95%|█████████▌| 60/63 [00:03<00:00, 18.34it/s]\u001b[A\n",
            "Eval:  98%|█████████▊| 62/63 [00:03<00:00, 18.40it/s]\u001b[A\n",
            "                                                     \u001b[A"
          ]
        },
        {
          "output_type": "stream",
          "name": "stdout",
          "text": [
            "Acc for model which have lower valid loss:  0.97425\n"
          ]
        },
        {
          "output_type": "stream",
          "name": "stderr",
          "text": [
            "Epoch 0:  80%|███████▉  | 11079/13852 [18:32<04:33, 10.13batch/s, loss=0.00541]\n",
            "Eval:   0%|          | 0/63 [00:00<?, ?it/s]\u001b[A\n",
            "Eval:   2%|▏         | 1/63 [00:00<00:08,  7.18it/s]\u001b[A\n",
            "Eval:   5%|▍         | 3/63 [00:00<00:04, 13.47it/s]\u001b[A\n",
            "Eval:   8%|▊         | 5/63 [00:00<00:03, 16.00it/s]\u001b[A\n",
            "Eval:  13%|█▎        | 8/63 [00:00<00:03, 18.10it/s]\u001b[A\n",
            "Eval:  16%|█▌        | 10/63 [00:00<00:02, 18.40it/s]\u001b[A\n",
            "Eval:  21%|██        | 13/63 [00:00<00:02, 19.35it/s]\u001b[A\n",
            "Eval:  25%|██▌       | 16/63 [00:00<00:02, 19.86it/s]\u001b[A\n",
            "Eval:  30%|███       | 19/63 [00:01<00:02, 20.34it/s]\u001b[A\n",
            "Eval:  35%|███▍      | 22/63 [00:01<00:02, 20.16it/s]\u001b[A\n",
            "Eval:  40%|███▉      | 25/63 [00:01<00:01, 20.07it/s]\u001b[A\n",
            "Eval:  44%|████▍     | 28/63 [00:01<00:01, 20.02it/s]\u001b[A\n",
            "Eval:  49%|████▉     | 31/63 [00:01<00:01, 20.32it/s]\u001b[A\n",
            "Eval:  54%|█████▍    | 34/63 [00:01<00:01, 19.95it/s]\u001b[A\n",
            "Eval:  57%|█████▋    | 36/63 [00:01<00:01, 19.55it/s]\u001b[A\n",
            "Eval:  60%|██████    | 38/63 [00:02<00:01, 18.68it/s]\u001b[A\n",
            "Eval:  63%|██████▎   | 40/63 [00:02<00:01, 18.51it/s]\u001b[A\n",
            "Eval:  67%|██████▋   | 42/63 [00:02<00:01, 18.47it/s]\u001b[A\n",
            "Eval:  70%|██████▉   | 44/63 [00:02<00:01, 18.27it/s]\u001b[A\n",
            "Eval:  73%|███████▎  | 46/63 [00:02<00:00, 17.92it/s]\u001b[A\n",
            "Eval:  76%|███████▌  | 48/63 [00:02<00:00, 18.07it/s]\u001b[A\n",
            "Eval:  79%|███████▉  | 50/63 [00:02<00:00, 18.20it/s]\u001b[A\n",
            "Eval:  83%|████████▎ | 52/63 [00:02<00:00, 18.18it/s]\u001b[A\n",
            "Eval:  86%|████████▌ | 54/63 [00:02<00:00, 18.06it/s]\u001b[A\n",
            "Eval:  89%|████████▉ | 56/63 [00:03<00:00, 18.03it/s]\u001b[A\n",
            "Eval:  92%|█████████▏| 58/63 [00:03<00:00, 18.06it/s]\u001b[A\n",
            "Eval:  95%|█████████▌| 60/63 [00:03<00:00, 18.45it/s]\u001b[A\n",
            "Eval:  98%|█████████▊| 62/63 [00:03<00:00, 18.28it/s]\u001b[A\n",
            "                                                     \u001b[A"
          ]
        },
        {
          "output_type": "stream",
          "name": "stdout",
          "text": [
            "Acc for model which have lower valid loss:  0.97375\n"
          ]
        },
        {
          "output_type": "stream",
          "name": "stderr",
          "text": [
            "Epoch 0: 100%|█████████▉| 13849/13852 [23:11<00:00,  9.77batch/s, loss=0.00934]\n",
            "Eval:   0%|          | 0/63 [00:00<?, ?it/s]\u001b[A\n",
            "Eval:   2%|▏         | 1/63 [00:00<00:08,  7.07it/s]\u001b[A\n",
            "Eval:   6%|▋         | 4/63 [00:00<00:03, 15.04it/s]\u001b[A\n",
            "Eval:  10%|▉         | 6/63 [00:00<00:03, 16.51it/s]\u001b[A\n",
            "Eval:  14%|█▍        | 9/63 [00:00<00:02, 18.22it/s]\u001b[A\n",
            "Eval:  17%|█▋        | 11/63 [00:00<00:02, 18.41it/s]\u001b[A\n",
            "Eval:  22%|██▏       | 14/63 [00:00<00:02, 19.60it/s]\u001b[A\n",
            "Eval:  25%|██▌       | 16/63 [00:00<00:02, 19.53it/s]\u001b[A\n",
            "Eval:  30%|███       | 19/63 [00:01<00:02, 20.01it/s]\u001b[A\n",
            "Eval:  33%|███▎      | 21/63 [00:01<00:02, 19.52it/s]\u001b[A\n",
            "Eval:  38%|███▊      | 24/63 [00:01<00:01, 19.81it/s]\u001b[A\n",
            "Eval:  41%|████▏     | 26/63 [00:01<00:01, 19.25it/s]\u001b[A\n",
            "Eval:  46%|████▌     | 29/63 [00:01<00:01, 20.09it/s]\u001b[A\n",
            "Eval:  49%|████▉     | 31/63 [00:01<00:01, 19.83it/s]\u001b[A\n",
            "Eval:  52%|█████▏    | 33/63 [00:01<00:01, 19.37it/s]\u001b[A\n",
            "Eval:  56%|█████▌    | 35/63 [00:01<00:01, 19.05it/s]\u001b[A\n",
            "Eval:  59%|█████▊    | 37/63 [00:01<00:01, 18.67it/s]\u001b[A\n",
            "Eval:  62%|██████▏   | 39/63 [00:02<00:01, 18.13it/s]\u001b[A\n",
            "Eval:  65%|██████▌   | 41/63 [00:02<00:01, 18.10it/s]\u001b[A\n",
            "Eval:  68%|██████▊   | 43/63 [00:02<00:01, 18.01it/s]\u001b[A\n",
            "Eval:  71%|███████▏  | 45/63 [00:02<00:01, 17.95it/s]\u001b[A\n",
            "Eval:  75%|███████▍  | 47/63 [00:02<00:00, 17.72it/s]\u001b[A\n",
            "Eval:  78%|███████▊  | 49/63 [00:02<00:00, 17.99it/s]\u001b[A\n",
            "Eval:  81%|████████  | 51/63 [00:02<00:00, 18.21it/s]\u001b[A\n",
            "Eval:  84%|████████▍ | 53/63 [00:02<00:00, 18.29it/s]\u001b[A\n",
            "Eval:  87%|████████▋ | 55/63 [00:02<00:00, 18.42it/s]\u001b[A\n",
            "Eval:  90%|█████████ | 57/63 [00:03<00:00, 18.16it/s]\u001b[A\n",
            "Eval:  94%|█████████▎| 59/63 [00:03<00:00, 18.00it/s]\u001b[A\n",
            "Eval:  97%|█████████▋| 61/63 [00:03<00:00, 18.24it/s]\u001b[A\n",
            "                                                     \u001b[A"
          ]
        },
        {
          "output_type": "stream",
          "name": "stdout",
          "text": [
            "Acc for model which have lower valid loss:  0.97825\n"
          ]
        },
        {
          "output_type": "stream",
          "name": "stderr",
          "text": [
            "Epoch 0: 100%|██████████| 13852/13852 [23:16<00:00,  9.92batch/s, loss=0.00434]\n",
            "Epoch 1:  20%|█▉        | 2769/13852 [04:35<18:18, 10.09batch/s, loss=0.00441]\n",
            "Eval:   0%|          | 0/63 [00:00<?, ?it/s]\u001b[A\n",
            "Eval:   2%|▏         | 1/63 [00:00<00:08,  7.31it/s]\u001b[A\n",
            "Eval:   6%|▋         | 4/63 [00:00<00:03, 15.17it/s]\u001b[A\n",
            "Eval:  10%|▉         | 6/63 [00:00<00:03, 16.75it/s]\u001b[A\n",
            "Eval:  14%|█▍        | 9/63 [00:00<00:02, 18.54it/s]\u001b[A\n",
            "Eval:  17%|█▋        | 11/63 [00:00<00:02, 18.76it/s]\u001b[A\n",
            "Eval:  22%|██▏       | 14/63 [00:00<00:02, 19.95it/s]\u001b[A\n",
            "Eval:  25%|██▌       | 16/63 [00:00<00:02, 19.52it/s]\u001b[A\n",
            "Eval:  30%|███       | 19/63 [00:01<00:02, 19.89it/s]\u001b[A\n",
            "Eval:  33%|███▎      | 21/63 [00:01<00:02, 19.67it/s]\u001b[A\n",
            "Eval:  38%|███▊      | 24/63 [00:01<00:01, 19.98it/s]\u001b[A\n",
            "Eval:  41%|████▏     | 26/63 [00:01<00:01, 19.78it/s]\u001b[A\n",
            "Eval:  46%|████▌     | 29/63 [00:01<00:01, 20.39it/s]\u001b[A\n",
            "Eval:  51%|█████     | 32/63 [00:01<00:01, 20.26it/s]\u001b[A\n",
            "Eval:  56%|█████▌    | 35/63 [00:01<00:01, 19.55it/s]\u001b[A\n",
            "Eval:  59%|█████▊    | 37/63 [00:01<00:01, 19.18it/s]\u001b[A\n",
            "Eval:  62%|██████▏   | 39/63 [00:02<00:01, 18.60it/s]\u001b[A\n",
            "Eval:  65%|██████▌   | 41/63 [00:02<00:01, 18.55it/s]\u001b[A\n",
            "Eval:  68%|██████▊   | 43/63 [00:02<00:01, 18.40it/s]\u001b[A\n",
            "Eval:  71%|███████▏  | 45/63 [00:02<00:00, 18.16it/s]\u001b[A\n",
            "Eval:  75%|███████▍  | 47/63 [00:02<00:00, 17.84it/s]\u001b[A\n",
            "Eval:  78%|███████▊  | 49/63 [00:02<00:00, 18.01it/s]\u001b[A\n",
            "Eval:  81%|████████  | 51/63 [00:02<00:00, 18.18it/s]\u001b[A\n",
            "Eval:  84%|████████▍ | 53/63 [00:02<00:00, 18.48it/s]\u001b[A\n",
            "Eval:  87%|████████▋ | 55/63 [00:02<00:00, 18.59it/s]\u001b[A\n",
            "Eval:  90%|█████████ | 57/63 [00:03<00:00, 18.25it/s]\u001b[A\n",
            "Eval:  94%|█████████▎| 59/63 [00:03<00:00, 17.91it/s]\u001b[A\n",
            "Eval:  97%|█████████▋| 61/63 [00:03<00:00, 18.35it/s]\u001b[A\n",
            "                                                     \u001b[A"
          ]
        },
        {
          "output_type": "stream",
          "name": "stdout",
          "text": [
            "Acc for model which have lower valid loss:  0.97675\n"
          ]
        },
        {
          "output_type": "stream",
          "name": "stderr",
          "text": [
            "Epoch 1:  40%|███▉      | 5540/13852 [09:13<13:29, 10.27batch/s, loss=0.0101]\n",
            "Eval:   0%|          | 0/63 [00:00<?, ?it/s]\u001b[A\n",
            "Eval:   2%|▏         | 1/63 [00:00<00:08,  7.13it/s]\u001b[A\n",
            "Eval:   6%|▋         | 4/63 [00:00<00:03, 15.37it/s]\u001b[A\n",
            "Eval:  10%|▉         | 6/63 [00:00<00:03, 16.90it/s]\u001b[A\n",
            "Eval:  14%|█▍        | 9/63 [00:00<00:02, 18.64it/s]\u001b[A\n",
            "Eval:  17%|█▋        | 11/63 [00:00<00:02, 18.92it/s]\u001b[A\n",
            "Eval:  22%|██▏       | 14/63 [00:00<00:02, 19.78it/s]\u001b[A\n",
            "Eval:  25%|██▌       | 16/63 [00:00<00:02, 19.79it/s]\u001b[A\n",
            "Eval:  30%|███       | 19/63 [00:01<00:02, 20.22it/s]\u001b[A\n",
            "Eval:  35%|███▍      | 22/63 [00:01<00:02, 20.13it/s]\u001b[A\n",
            "Eval:  40%|███▉      | 25/63 [00:01<00:01, 20.19it/s]\u001b[A\n",
            "Eval:  44%|████▍     | 28/63 [00:01<00:01, 20.26it/s]\u001b[A\n",
            "Eval:  49%|████▉     | 31/63 [00:01<00:01, 20.19it/s]\u001b[A\n",
            "Eval:  54%|█████▍    | 34/63 [00:01<00:01, 19.77it/s]\u001b[A\n",
            "Eval:  57%|█████▋    | 36/63 [00:01<00:01, 19.39it/s]\u001b[A\n",
            "Eval:  60%|██████    | 38/63 [00:01<00:01, 18.69it/s]\u001b[A\n",
            "Eval:  63%|██████▎   | 40/63 [00:02<00:01, 18.43it/s]\u001b[A\n",
            "Eval:  67%|██████▋   | 42/63 [00:02<00:01, 18.40it/s]\u001b[A\n",
            "Eval:  70%|██████▉   | 44/63 [00:02<00:01, 18.39it/s]\u001b[A\n",
            "Eval:  73%|███████▎  | 46/63 [00:02<00:00, 18.11it/s]\u001b[A\n",
            "Eval:  76%|███████▌  | 48/63 [00:02<00:00, 18.14it/s]\u001b[A\n",
            "Eval:  79%|███████▉  | 50/63 [00:02<00:00, 18.31it/s]\u001b[A\n",
            "Eval:  83%|████████▎ | 52/63 [00:02<00:00, 18.49it/s]\u001b[A\n",
            "Eval:  86%|████████▌ | 54/63 [00:02<00:00, 18.29it/s]\u001b[A\n",
            "Eval:  89%|████████▉ | 56/63 [00:02<00:00, 18.09it/s]\u001b[A\n",
            "Eval:  92%|█████████▏| 58/63 [00:03<00:00, 18.17it/s]\u001b[A\n",
            "Eval:  95%|█████████▌| 60/63 [00:03<00:00, 18.49it/s]\u001b[A\n",
            "Eval:  98%|█████████▊| 62/63 [00:03<00:00, 18.38it/s]\u001b[A\n",
            "                                                     \u001b[A"
          ]
        },
        {
          "output_type": "stream",
          "name": "stdout",
          "text": [
            "Acc for model which have lower valid loss:  0.9785\n"
          ]
        },
        {
          "output_type": "stream",
          "name": "stderr",
          "text": [
            "Epoch 1:  60%|█████▉    | 8310/13852 [13:53<09:03, 10.20batch/s, loss=0.029] \n",
            "Eval:   0%|          | 0/63 [00:00<?, ?it/s]\u001b[A\n",
            "Eval:   2%|▏         | 1/63 [00:00<00:08,  6.93it/s]\u001b[A\n",
            "Eval:   5%|▍         | 3/63 [00:00<00:04, 13.29it/s]\u001b[A\n",
            "Eval:   8%|▊         | 5/63 [00:00<00:03, 15.85it/s]\u001b[A\n",
            "Eval:  13%|█▎        | 8/63 [00:00<00:03, 18.03it/s]\u001b[A\n",
            "Eval:  16%|█▌        | 10/63 [00:00<00:02, 18.37it/s]\u001b[A\n",
            "Eval:  21%|██        | 13/63 [00:00<00:02, 19.26it/s]\u001b[A\n",
            "Eval:  25%|██▌       | 16/63 [00:00<00:02, 19.78it/s]\u001b[A\n",
            "Eval:  30%|███       | 19/63 [00:01<00:02, 20.11it/s]\u001b[A\n",
            "Eval:  35%|███▍      | 22/63 [00:01<00:02, 19.71it/s]\u001b[A\n",
            "Eval:  38%|███▊      | 24/63 [00:01<00:01, 19.70it/s]\u001b[A\n",
            "Eval:  41%|████▏     | 26/63 [00:01<00:01, 19.47it/s]\u001b[A\n",
            "Eval:  46%|████▌     | 29/63 [00:01<00:01, 20.26it/s]\u001b[A\n",
            "Eval:  51%|█████     | 32/63 [00:01<00:01, 20.16it/s]\u001b[A\n",
            "Eval:  56%|█████▌    | 35/63 [00:01<00:01, 19.56it/s]\u001b[A\n",
            "Eval:  59%|█████▊    | 37/63 [00:01<00:01, 19.20it/s]\u001b[A\n",
            "Eval:  62%|██████▏   | 39/63 [00:02<00:01, 18.44it/s]\u001b[A\n",
            "Eval:  65%|██████▌   | 41/63 [00:02<00:01, 18.43it/s]\u001b[A\n",
            "Eval:  68%|██████▊   | 43/63 [00:02<00:01, 18.30it/s]\u001b[A\n",
            "Eval:  71%|███████▏  | 45/63 [00:02<00:00, 18.27it/s]\u001b[A\n",
            "Eval:  75%|███████▍  | 47/63 [00:02<00:00, 18.09it/s]\u001b[A\n",
            "Eval:  78%|███████▊  | 49/63 [00:02<00:00, 18.15it/s]\u001b[A\n",
            "Eval:  81%|████████  | 51/63 [00:02<00:00, 18.05it/s]\u001b[A\n",
            "Eval:  84%|████████▍ | 53/63 [00:02<00:00, 18.26it/s]\u001b[A\n",
            "Eval:  87%|████████▋ | 55/63 [00:02<00:00, 18.38it/s]\u001b[A\n",
            "Eval:  90%|█████████ | 57/63 [00:03<00:00, 18.18it/s]\u001b[A\n",
            "Eval:  94%|█████████▎| 59/63 [00:03<00:00, 18.24it/s]\u001b[A\n",
            "Eval:  97%|█████████▋| 61/63 [00:03<00:00, 18.32it/s]\u001b[A\n",
            "                                                     \u001b[A"
          ]
        },
        {
          "output_type": "stream",
          "name": "stdout",
          "text": [
            "Acc for model which have lower valid loss:  0.9775\n"
          ]
        },
        {
          "output_type": "stream",
          "name": "stderr",
          "text": [
            "Epoch 1:  80%|███████▉  | 11080/13852 [18:34<04:33, 10.14batch/s, loss=0.0849]\n",
            "Eval:   0%|          | 0/63 [00:00<?, ?it/s]\u001b[A\n",
            "Eval:   2%|▏         | 1/63 [00:00<00:09,  6.51it/s]\u001b[A\n",
            "Eval:   6%|▋         | 4/63 [00:00<00:03, 14.94it/s]\u001b[A\n",
            "Eval:  10%|▉         | 6/63 [00:00<00:03, 16.29it/s]\u001b[A\n",
            "Eval:  14%|█▍        | 9/63 [00:00<00:02, 18.11it/s]\u001b[A\n",
            "Eval:  17%|█▋        | 11/63 [00:00<00:02, 18.46it/s]\u001b[A\n",
            "Eval:  22%|██▏       | 14/63 [00:00<00:02, 19.74it/s]\u001b[A\n",
            "Eval:  25%|██▌       | 16/63 [00:00<00:02, 19.66it/s]\u001b[A\n",
            "Eval:  30%|███       | 19/63 [00:01<00:02, 20.05it/s]\u001b[A\n",
            "Eval:  35%|███▍      | 22/63 [00:01<00:02, 19.92it/s]\u001b[A\n",
            "Eval:  38%|███▊      | 24/63 [00:01<00:01, 19.86it/s]\u001b[A\n",
            "Eval:  41%|████▏     | 26/63 [00:01<00:01, 19.67it/s]\u001b[A\n",
            "Eval:  46%|████▌     | 29/63 [00:01<00:01, 20.42it/s]\u001b[A\n",
            "Eval:  51%|█████     | 32/63 [00:01<00:01, 20.32it/s]\u001b[A\n",
            "Eval:  56%|█████▌    | 35/63 [00:01<00:01, 19.63it/s]\u001b[A\n",
            "Eval:  59%|█████▊    | 37/63 [00:01<00:01, 19.05it/s]\u001b[A\n",
            "Eval:  62%|██████▏   | 39/63 [00:02<00:01, 18.37it/s]\u001b[A\n",
            "Eval:  65%|██████▌   | 41/63 [00:02<00:01, 18.27it/s]\u001b[A\n",
            "Eval:  68%|██████▊   | 43/63 [00:02<00:01, 18.19it/s]\u001b[A\n",
            "Eval:  71%|███████▏  | 45/63 [00:02<00:00, 18.22it/s]\u001b[A\n",
            "Eval:  75%|███████▍  | 47/63 [00:02<00:00, 17.98it/s]\u001b[A\n",
            "Eval:  78%|███████▊  | 49/63 [00:02<00:00, 18.20it/s]\u001b[A\n",
            "Eval:  81%|████████  | 51/63 [00:02<00:00, 18.37it/s]\u001b[A\n",
            "Eval:  84%|████████▍ | 53/63 [00:02<00:00, 18.53it/s]\u001b[A\n",
            "Eval:  87%|████████▋ | 55/63 [00:02<00:00, 18.50it/s]\u001b[A\n",
            "Eval:  90%|█████████ | 57/63 [00:03<00:00, 18.06it/s]\u001b[A\n",
            "Eval:  94%|█████████▎| 59/63 [00:03<00:00, 18.07it/s]\u001b[A\n",
            "Eval:  97%|█████████▋| 61/63 [00:03<00:00, 18.30it/s]\u001b[A\n",
            "                                                     \u001b[A"
          ]
        },
        {
          "output_type": "stream",
          "name": "stdout",
          "text": [
            "Acc for model which have lower valid loss:  0.9795\n"
          ]
        },
        {
          "output_type": "stream",
          "name": "stderr",
          "text": [
            "Epoch 1: 100%|█████████▉| 13849/13852 [23:15<00:00, 10.12batch/s, loss=0.174] \n",
            "Eval:   0%|          | 0/63 [00:00<?, ?it/s]\u001b[A\n",
            "Eval:   2%|▏         | 1/63 [00:00<00:08,  7.13it/s]\u001b[A\n",
            "Eval:   5%|▍         | 3/63 [00:00<00:04, 13.47it/s]\u001b[A\n",
            "Eval:   8%|▊         | 5/63 [00:00<00:03, 15.78it/s]\u001b[A\n",
            "Eval:  13%|█▎        | 8/63 [00:00<00:03, 18.03it/s]\u001b[A\n",
            "Eval:  16%|█▌        | 10/63 [00:00<00:02, 18.33it/s]\u001b[A\n",
            "Eval:  21%|██        | 13/63 [00:00<00:02, 19.33it/s]\u001b[A\n",
            "Eval:  25%|██▌       | 16/63 [00:00<00:02, 19.59it/s]\u001b[A\n",
            "Eval:  30%|███       | 19/63 [00:01<00:02, 20.07it/s]\u001b[A\n",
            "Eval:  35%|███▍      | 22/63 [00:01<00:02, 19.89it/s]\u001b[A\n",
            "Eval:  40%|███▉      | 25/63 [00:01<00:01, 20.07it/s]\u001b[A\n",
            "Eval:  44%|████▍     | 28/63 [00:01<00:01, 20.22it/s]\u001b[A\n",
            "Eval:  49%|████▉     | 31/63 [00:01<00:01, 20.36it/s]\u001b[A\n",
            "Eval:  54%|█████▍    | 34/63 [00:01<00:01, 19.78it/s]\u001b[A\n",
            "Eval:  57%|█████▋    | 36/63 [00:01<00:01, 19.23it/s]\u001b[A\n",
            "Eval:  60%|██████    | 38/63 [00:02<00:01, 18.49it/s]\u001b[A\n",
            "Eval:  63%|██████▎   | 40/63 [00:02<00:01, 18.42it/s]\u001b[A\n",
            "Eval:  67%|██████▋   | 42/63 [00:02<00:01, 18.37it/s]\u001b[A\n",
            "Eval:  70%|██████▉   | 44/63 [00:02<00:01, 18.32it/s]\u001b[A\n",
            "Eval:  73%|███████▎  | 46/63 [00:02<00:00, 17.91it/s]\u001b[A\n",
            "Eval:  76%|███████▌  | 48/63 [00:02<00:00, 17.92it/s]\u001b[A\n",
            "Eval:  79%|███████▉  | 50/63 [00:02<00:00, 18.22it/s]\u001b[A\n",
            "Eval:  83%|████████▎ | 52/63 [00:02<00:00, 18.41it/s]\u001b[A\n",
            "Eval:  86%|████████▌ | 54/63 [00:02<00:00, 18.39it/s]\u001b[A\n",
            "Eval:  89%|████████▉ | 56/63 [00:03<00:00, 18.18it/s]\u001b[A\n",
            "Eval:  92%|█████████▏| 58/63 [00:03<00:00, 18.17it/s]\u001b[A\n",
            "Eval:  95%|█████████▌| 60/63 [00:03<00:00, 18.19it/s]\u001b[A\n",
            "Eval:  98%|█████████▊| 62/63 [00:03<00:00, 18.16it/s]\u001b[A\n",
            "                                                     \u001b[A"
          ]
        },
        {
          "output_type": "stream",
          "name": "stdout",
          "text": [
            "Acc for model which have lower valid loss:  0.9765\n"
          ]
        },
        {
          "output_type": "stream",
          "name": "stderr",
          "text": [
            "Epoch 1: 100%|██████████| 13852/13852 [23:20<00:00,  9.89batch/s, loss=0.00586]\n",
            "Epoch 2:  20%|█▉        | 2770/13852 [04:35<18:09, 10.17batch/s, loss=0.0908]\n",
            "Eval:   0%|          | 0/63 [00:00<?, ?it/s]\u001b[A\n",
            "Eval:   2%|▏         | 1/63 [00:00<00:08,  7.35it/s]\u001b[A\n",
            "Eval:   6%|▋         | 4/63 [00:00<00:03, 15.36it/s]\u001b[A\n",
            "Eval:  10%|▉         | 6/63 [00:00<00:03, 16.49it/s]\u001b[A\n",
            "Eval:  14%|█▍        | 9/63 [00:00<00:02, 18.14it/s]\u001b[A\n",
            "Eval:  17%|█▋        | 11/63 [00:00<00:02, 18.49it/s]\u001b[A\n",
            "Eval:  22%|██▏       | 14/63 [00:00<00:02, 19.68it/s]\u001b[A\n",
            "Eval:  25%|██▌       | 16/63 [00:00<00:02, 19.63it/s]\u001b[A\n",
            "Eval:  30%|███       | 19/63 [00:01<00:02, 20.07it/s]\u001b[A\n",
            "Eval:  33%|███▎      | 21/63 [00:01<00:02, 19.76it/s]\u001b[A\n",
            "Eval:  38%|███▊      | 24/63 [00:01<00:01, 19.94it/s]\u001b[A\n",
            "Eval:  41%|████▏     | 26/63 [00:01<00:01, 19.60it/s]\u001b[A\n",
            "Eval:  46%|████▌     | 29/63 [00:01<00:01, 20.28it/s]\u001b[A\n",
            "Eval:  51%|█████     | 32/63 [00:01<00:01, 20.03it/s]\u001b[A\n",
            "Eval:  54%|█████▍    | 34/63 [00:01<00:01, 19.26it/s]\u001b[A\n",
            "Eval:  57%|█████▋    | 36/63 [00:01<00:01, 19.05it/s]\u001b[A\n",
            "Eval:  60%|██████    | 38/63 [00:02<00:01, 18.35it/s]\u001b[A\n",
            "Eval:  63%|██████▎   | 40/63 [00:02<00:01, 18.21it/s]\u001b[A\n",
            "Eval:  67%|██████▋   | 42/63 [00:02<00:01, 18.27it/s]\u001b[A\n",
            "Eval:  70%|██████▉   | 44/63 [00:02<00:01, 18.25it/s]\u001b[A\n",
            "Eval:  73%|███████▎  | 46/63 [00:02<00:00, 17.94it/s]\u001b[A\n",
            "Eval:  76%|███████▌  | 48/63 [00:02<00:00, 17.90it/s]\u001b[A\n",
            "Eval:  79%|███████▉  | 50/63 [00:02<00:00, 18.07it/s]\u001b[A\n",
            "Eval:  83%|████████▎ | 52/63 [00:02<00:00, 18.11it/s]\u001b[A\n",
            "Eval:  86%|████████▌ | 54/63 [00:02<00:00, 18.05it/s]\u001b[A\n",
            "Eval:  89%|████████▉ | 56/63 [00:03<00:00, 17.93it/s]\u001b[A\n",
            "Eval:  92%|█████████▏| 58/63 [00:03<00:00, 17.84it/s]\u001b[A\n",
            "Eval:  95%|█████████▌| 60/63 [00:03<00:00, 18.06it/s]\u001b[A\n",
            "Eval:  98%|█████████▊| 62/63 [00:03<00:00, 17.92it/s]\u001b[A\n",
            "                                                     \u001b[A"
          ]
        },
        {
          "output_type": "stream",
          "name": "stdout",
          "text": [
            "Acc for model which have lower valid loss:  0.97625\n"
          ]
        },
        {
          "output_type": "stream",
          "name": "stderr",
          "text": [
            "Epoch 2:  40%|███▉      | 5539/13852 [09:14<14:01,  9.88batch/s, loss=0.0186]\n",
            "Eval:   0%|          | 0/63 [00:00<?, ?it/s]\u001b[A\n",
            "Eval:   2%|▏         | 1/63 [00:00<00:09,  6.73it/s]\u001b[A\n",
            "Eval:   5%|▍         | 3/63 [00:00<00:04, 13.09it/s]\u001b[A\n",
            "Eval:   8%|▊         | 5/63 [00:00<00:03, 15.62it/s]\u001b[A\n",
            "Eval:  11%|█         | 7/63 [00:00<00:03, 17.18it/s]\u001b[A\n",
            "Eval:  14%|█▍        | 9/63 [00:00<00:03, 17.86it/s]\u001b[A\n",
            "Eval:  17%|█▋        | 11/63 [00:00<00:02, 18.41it/s]\u001b[A\n",
            "Eval:  22%|██▏       | 14/63 [00:00<00:02, 19.76it/s]\u001b[A\n",
            "Eval:  25%|██▌       | 16/63 [00:00<00:02, 19.50it/s]\u001b[A\n",
            "Eval:  30%|███       | 19/63 [00:01<00:02, 20.18it/s]\u001b[A\n",
            "Eval:  35%|███▍      | 22/63 [00:01<00:02, 20.14it/s]\u001b[A\n",
            "Eval:  40%|███▉      | 25/63 [00:01<00:01, 20.14it/s]\u001b[A\n",
            "Eval:  44%|████▍     | 28/63 [00:01<00:01, 20.26it/s]\u001b[A\n",
            "Eval:  49%|████▉     | 31/63 [00:01<00:01, 20.24it/s]\u001b[A\n",
            "Eval:  54%|█████▍    | 34/63 [00:01<00:01, 19.80it/s]\u001b[A\n",
            "Eval:  57%|█████▋    | 36/63 [00:01<00:01, 19.48it/s]\u001b[A\n",
            "Eval:  60%|██████    | 38/63 [00:02<00:01, 18.76it/s]\u001b[A\n",
            "Eval:  63%|██████▎   | 40/63 [00:02<00:01, 18.43it/s]\u001b[A\n",
            "Eval:  67%|██████▋   | 42/63 [00:02<00:01, 18.37it/s]\u001b[A\n",
            "Eval:  70%|██████▉   | 44/63 [00:02<00:01, 18.01it/s]\u001b[A\n",
            "Eval:  73%|███████▎  | 46/63 [00:02<00:00, 17.82it/s]\u001b[A\n",
            "Eval:  76%|███████▌  | 48/63 [00:02<00:00, 17.88it/s]\u001b[A\n",
            "Eval:  79%|███████▉  | 50/63 [00:02<00:00, 18.10it/s]\u001b[A\n",
            "Eval:  83%|████████▎ | 52/63 [00:02<00:00, 18.26it/s]\u001b[A\n",
            "Eval:  86%|████████▌ | 54/63 [00:02<00:00, 18.29it/s]\u001b[A\n",
            "Eval:  89%|████████▉ | 56/63 [00:03<00:00, 17.95it/s]\u001b[A\n",
            "Eval:  92%|█████████▏| 58/63 [00:03<00:00, 18.01it/s]\u001b[A\n",
            "Eval:  95%|█████████▌| 60/63 [00:03<00:00, 18.37it/s]\u001b[A\n",
            "Eval:  98%|█████████▊| 62/63 [00:03<00:00, 18.44it/s]\u001b[A\n",
            "                                                     \u001b[A"
          ]
        },
        {
          "output_type": "stream",
          "name": "stdout",
          "text": [
            "Acc for model which have lower valid loss:  0.97825\n"
          ]
        },
        {
          "output_type": "stream",
          "name": "stderr",
          "text": [
            "Epoch 2:  60%|█████▉    | 8310/13852 [13:54<09:15,  9.98batch/s, loss=0.00313]\n",
            "Eval:   0%|          | 0/63 [00:00<?, ?it/s]\u001b[A\n",
            "Eval:   2%|▏         | 1/63 [00:00<00:08,  7.23it/s]\u001b[A\n",
            "Eval:   5%|▍         | 3/63 [00:00<00:04, 13.63it/s]\u001b[A\n",
            "Eval:   8%|▊         | 5/63 [00:00<00:03, 16.01it/s]\u001b[A\n",
            "Eval:  13%|█▎        | 8/63 [00:00<00:03, 18.17it/s]\u001b[A\n",
            "Eval:  16%|█▌        | 10/63 [00:00<00:02, 18.32it/s]\u001b[A\n",
            "Eval:  19%|█▉        | 12/63 [00:00<00:02, 18.80it/s]\u001b[A\n",
            "Eval:  24%|██▍       | 15/63 [00:00<00:02, 19.65it/s]\u001b[A\n",
            "Eval:  27%|██▋       | 17/63 [00:00<00:02, 19.69it/s]\u001b[A\n",
            "Eval:  32%|███▏      | 20/63 [00:01<00:02, 20.19it/s]\u001b[A\n",
            "Eval:  37%|███▋      | 23/63 [00:01<00:01, 20.39it/s]\u001b[A\n",
            "Eval:  41%|████▏     | 26/63 [00:01<00:01, 19.86it/s]\u001b[A\n",
            "Eval:  44%|████▍     | 28/63 [00:01<00:01, 19.89it/s]\u001b[A\n",
            "Eval:  49%|████▉     | 31/63 [00:01<00:01, 20.17it/s]\u001b[A\n",
            "Eval:  54%|█████▍    | 34/63 [00:01<00:01, 19.75it/s]\u001b[A\n",
            "Eval:  57%|█████▋    | 36/63 [00:01<00:01, 19.39it/s]\u001b[A\n",
            "Eval:  60%|██████    | 38/63 [00:02<00:01, 18.68it/s]\u001b[A\n",
            "Eval:  63%|██████▎   | 40/63 [00:02<00:01, 18.34it/s]\u001b[A\n",
            "Eval:  67%|██████▋   | 42/63 [00:02<00:01, 18.30it/s]\u001b[A\n",
            "Eval:  70%|██████▉   | 44/63 [00:02<00:01, 18.29it/s]\u001b[A\n",
            "Eval:  73%|███████▎  | 46/63 [00:02<00:00, 17.97it/s]\u001b[A\n",
            "Eval:  76%|███████▌  | 48/63 [00:02<00:00, 18.02it/s]\u001b[A\n",
            "Eval:  79%|███████▉  | 50/63 [00:02<00:00, 18.22it/s]\u001b[A\n",
            "Eval:  83%|████████▎ | 52/63 [00:02<00:00, 18.29it/s]\u001b[A\n",
            "Eval:  86%|████████▌ | 54/63 [00:02<00:00, 17.99it/s]\u001b[A\n",
            "Eval:  89%|████████▉ | 56/63 [00:03<00:00, 17.93it/s]\u001b[A\n",
            "Eval:  92%|█████████▏| 58/63 [00:03<00:00, 18.04it/s]\u001b[A\n",
            "Eval:  95%|█████████▌| 60/63 [00:03<00:00, 18.43it/s]\u001b[A\n",
            "Eval:  98%|█████████▊| 62/63 [00:03<00:00, 18.35it/s]\u001b[A\n",
            "                                                     \u001b[A"
          ]
        },
        {
          "output_type": "stream",
          "name": "stdout",
          "text": [
            "Acc for model which have lower valid loss:  0.9775\n"
          ]
        },
        {
          "output_type": "stream",
          "name": "stderr",
          "text": [
            "Epoch 2:  80%|███████▉  | 11079/13852 [18:33<04:42,  9.81batch/s, loss=0.0168] \n",
            "Eval:   0%|          | 0/63 [00:00<?, ?it/s]\u001b[A\n",
            "Eval:   2%|▏         | 1/63 [00:00<00:08,  7.43it/s]\u001b[A\n",
            "Eval:   5%|▍         | 3/63 [00:00<00:04, 13.67it/s]\u001b[A\n",
            "Eval:   8%|▊         | 5/63 [00:00<00:03, 16.17it/s]\u001b[A\n",
            "Eval:  13%|█▎        | 8/63 [00:00<00:03, 18.26it/s]\u001b[A\n",
            "Eval:  16%|█▌        | 10/63 [00:00<00:02, 18.70it/s]\u001b[A\n",
            "Eval:  21%|██        | 13/63 [00:00<00:02, 19.51it/s]\u001b[A\n",
            "Eval:  25%|██▌       | 16/63 [00:00<00:02, 19.87it/s]\u001b[A\n",
            "Eval:  30%|███       | 19/63 [00:01<00:02, 20.02it/s]\u001b[A\n",
            "Eval:  33%|███▎      | 21/63 [00:01<00:02, 19.94it/s]\u001b[A\n",
            "Eval:  38%|███▊      | 24/63 [00:01<00:01, 20.14it/s]\u001b[A\n",
            "Eval:  43%|████▎     | 27/63 [00:01<00:01, 19.87it/s]\u001b[A\n",
            "Eval:  48%|████▊     | 30/63 [00:01<00:01, 20.46it/s]\u001b[A\n",
            "Eval:  52%|█████▏    | 33/63 [00:01<00:01, 19.88it/s]\u001b[A\n",
            "Eval:  56%|█████▌    | 35/63 [00:01<00:01, 19.22it/s]\u001b[A\n",
            "Eval:  59%|█████▊    | 37/63 [00:01<00:01, 18.83it/s]\u001b[A\n",
            "Eval:  62%|██████▏   | 39/63 [00:02<00:01, 18.23it/s]\u001b[A\n",
            "Eval:  65%|██████▌   | 41/63 [00:02<00:01, 18.28it/s]\u001b[A\n",
            "Eval:  68%|██████▊   | 43/63 [00:02<00:01, 18.17it/s]\u001b[A\n",
            "Eval:  71%|███████▏  | 45/63 [00:02<00:01, 17.82it/s]\u001b[A\n",
            "Eval:  75%|███████▍  | 47/63 [00:02<00:00, 17.60it/s]\u001b[A\n",
            "Eval:  78%|███████▊  | 49/63 [00:02<00:00, 17.89it/s]\u001b[A\n",
            "Eval:  81%|████████  | 51/63 [00:02<00:00, 18.03it/s]\u001b[A\n",
            "Eval:  84%|████████▍ | 53/63 [00:02<00:00, 18.05it/s]\u001b[A\n",
            "Eval:  87%|████████▋ | 55/63 [00:02<00:00, 18.20it/s]\u001b[A\n",
            "Eval:  90%|█████████ | 57/63 [00:03<00:00, 18.00it/s]\u001b[A\n",
            "Eval:  94%|█████████▎| 59/63 [00:03<00:00, 17.82it/s]\u001b[A\n",
            "Eval:  97%|█████████▋| 61/63 [00:03<00:00, 18.17it/s]\u001b[A\n",
            "                                                     \u001b[A"
          ]
        },
        {
          "output_type": "stream",
          "name": "stdout",
          "text": [
            "Acc for model which have lower valid loss:  0.9775\n"
          ]
        },
        {
          "output_type": "stream",
          "name": "stderr",
          "text": [
            "Epoch 2: 100%|█████████▉| 13850/13852 [23:13<00:00, 10.01batch/s, loss=0.00455]\n",
            "Eval:   0%|          | 0/63 [00:00<?, ?it/s]\u001b[A\n",
            "Eval:   2%|▏         | 1/63 [00:00<00:08,  7.49it/s]\u001b[A\n",
            "Eval:   5%|▍         | 3/63 [00:00<00:04, 13.75it/s]\u001b[A\n",
            "Eval:   8%|▊         | 5/63 [00:00<00:03, 16.06it/s]\u001b[A\n",
            "Eval:  13%|█▎        | 8/63 [00:00<00:03, 18.12it/s]\u001b[A\n",
            "Eval:  16%|█▌        | 10/63 [00:00<00:02, 18.45it/s]\u001b[A\n",
            "Eval:  19%|█▉        | 12/63 [00:00<00:02, 18.82it/s]\u001b[A\n",
            "Eval:  24%|██▍       | 15/63 [00:00<00:02, 19.58it/s]\u001b[A\n",
            "Eval:  27%|██▋       | 17/63 [00:00<00:02, 19.42it/s]\u001b[A\n",
            "Eval:  32%|███▏      | 20/63 [00:01<00:02, 19.97it/s]\u001b[A\n",
            "Eval:  35%|███▍      | 22/63 [00:01<00:02, 19.83it/s]\u001b[A\n",
            "Eval:  40%|███▉      | 25/63 [00:01<00:01, 20.00it/s]\u001b[A\n",
            "Eval:  43%|████▎     | 27/63 [00:01<00:01, 19.63it/s]\u001b[A\n",
            "Eval:  48%|████▊     | 30/63 [00:01<00:01, 20.38it/s]\u001b[A\n",
            "Eval:  52%|█████▏    | 33/63 [00:01<00:01, 19.95it/s]\u001b[A\n",
            "Eval:  56%|█████▌    | 35/63 [00:01<00:01, 19.51it/s]\u001b[A\n",
            "Eval:  59%|█████▊    | 37/63 [00:01<00:01, 19.01it/s]\u001b[A\n",
            "Eval:  62%|██████▏   | 39/63 [00:02<00:01, 18.38it/s]\u001b[A\n",
            "Eval:  65%|██████▌   | 41/63 [00:02<00:01, 18.35it/s]\u001b[A\n",
            "Eval:  68%|██████▊   | 43/63 [00:02<00:01, 18.13it/s]\u001b[A\n",
            "Eval:  71%|███████▏  | 45/63 [00:02<00:00, 18.16it/s]\u001b[A\n",
            "Eval:  75%|███████▍  | 47/63 [00:02<00:00, 17.94it/s]\u001b[A\n",
            "Eval:  78%|███████▊  | 49/63 [00:02<00:00, 18.21it/s]\u001b[A\n",
            "Eval:  81%|████████  | 51/63 [00:02<00:00, 18.33it/s]\u001b[A\n",
            "Eval:  84%|████████▍ | 53/63 [00:02<00:00, 18.42it/s]\u001b[A\n",
            "Eval:  87%|████████▋ | 55/63 [00:02<00:00, 18.46it/s]\u001b[A\n",
            "Eval:  90%|█████████ | 57/63 [00:03<00:00, 18.22it/s]\u001b[A\n",
            "Eval:  94%|█████████▎| 59/63 [00:03<00:00, 18.10it/s]\u001b[A\n",
            "Eval:  97%|█████████▋| 61/63 [00:03<00:00, 18.53it/s]\u001b[A\n",
            "                                                     \u001b[A"
          ]
        },
        {
          "output_type": "stream",
          "name": "stdout",
          "text": [
            "Acc for model which have lower valid loss:  0.9735\n"
          ]
        },
        {
          "output_type": "stream",
          "name": "stderr",
          "text": [
            "Epoch 2: 100%|██████████| 13852/13852 [23:18<00:00,  9.90batch/s, loss=0.0264]\n"
          ]
        }
      ]
    },
    {
      "cell_type": "code",
      "source": [
        "import pandas as pd\n",
        "test_df = pd.read_csv('test_no_label.csv')"
      ],
      "metadata": {
        "id": "P95gtlnurvgX"
      },
      "execution_count": 18,
      "outputs": []
    },
    {
      "cell_type": "code",
      "source": [
        "test_dataset = test_df['Id']"
      ],
      "metadata": {
        "id": "cLDzC10ErvgX"
      },
      "execution_count": 19,
      "outputs": []
    },
    {
      "cell_type": "code",
      "source": [
        "def make_id_file_test(tokenizer, test_dataset):\n",
        "    data_strings = []\n",
        "    id_file_data = [tokenizer.encode(sent.lower()) for sent in test_dataset]\n",
        "    for item in id_file_data:\n",
        "        data_strings.append(' '.join([str(k) for k in item]))\n",
        "    return data_strings"
      ],
      "metadata": {
        "id": "jnt693N0rvgX"
      },
      "execution_count": 20,
      "outputs": []
    },
    {
      "cell_type": "code",
      "source": [
        "test = make_id_file_test(tokenizer, test_dataset)"
      ],
      "metadata": {
        "id": "7C5PpXtlrvgY"
      },
      "execution_count": 21,
      "outputs": []
    },
    {
      "cell_type": "code",
      "source": [
        "test[:10]"
      ],
      "metadata": {
        "id": "1aqse7SHrvgY",
        "colab": {
          "base_uri": "https://localhost:8080/"
        },
        "outputId": "72dddd79-d68d-43cf-a188-58223bd2d44f"
      },
      "execution_count": 22,
      "outputs": [
        {
          "output_type": "execute_result",
          "data": {
            "text/plain": [
              "['101 2009 1005 1055 1037 2878 2047 3325 1998 2047 26389 2169 2051 2017 2175 1012 102',\n",
              " '101 2061 15640 2013 2019 2214 5440 1012 102',\n",
              " '101 2009 2003 1996 2087 14469 7273 1999 1996 3028 1012 102',\n",
              " '101 2079 2025 3696 1037 10084 2007 2122 2111 1012 102',\n",
              " '101 1045 2001 6091 1998 2016 2081 2033 2514 2061 6625 1998 6160 1012 102',\n",
              " '101 1996 2069 2518 2057 2363 2008 2001 2980 2001 1996 4157 1012 102',\n",
              " '101 2053 1010 2025 1996 3924 2012 2004 2226 1010 1996 3924 1999 3502 2152 1012 102',\n",
              " '101 2027 3288 2009 2041 2392 2005 2017 1998 2024 2200 14044 1012 102',\n",
              " '101 4606 1996 12043 2106 1050 1005 1056 2130 2113 2129 2000 2147 1996 3274 1012 102',\n",
              " '101 2027 2031 2019 6581 4989 1997 25025 2015 2000 5454 2013 1012 102']"
            ]
          },
          "metadata": {},
          "execution_count": 22
        }
      ]
    },
    {
      "cell_type": "code",
      "source": [
        "class SentimentTestDataset(object):\n",
        "    def __init__(self, tokenizer, test):\n",
        "        self.tokenizer = tokenizer\n",
        "        self.data = []\n",
        "\n",
        "        for sent in test:\n",
        "            self.data += [self._cast_to_int(sent.strip().split())]\n",
        "\n",
        "    def _cast_to_int(self, sample):\n",
        "        return [int(word_id) for word_id in sample]\n",
        "\n",
        "    def __len__(self):\n",
        "        return len(self.data)\n",
        "\n",
        "    def __getitem__(self, index):\n",
        "        sample = self.data[index]\n",
        "        return np.array(sample)"
      ],
      "metadata": {
        "id": "cZi14gnnrvgY"
      },
      "execution_count": 23,
      "outputs": []
    },
    {
      "cell_type": "code",
      "source": [
        "test_dataset = SentimentTestDataset(tokenizer, test)"
      ],
      "metadata": {
        "id": "erHjGE9rrvgY"
      },
      "execution_count": 24,
      "outputs": []
    },
    {
      "cell_type": "code",
      "source": [
        "def collate_fn_style_test(samples):\n",
        "    input_ids = samples\n",
        "    max_len = max(len(input_id) for input_id in input_ids)\n",
        "    #sorted_indices = np.argsort([len(input_id) for input_id in input_ids])[::-1]\n",
        "    sorted_indices = list(i for i in range(len(input_ids)))\n",
        "\n",
        "    input_ids = pad_sequence([torch.tensor(input_ids[index]) for index in sorted_indices],\n",
        "                             batch_first=True)\n",
        "    attention_mask = torch.tensor(\n",
        "        [[1] * len(input_ids[index]) + [0] * (max_len - len(input_ids[index])) for index in\n",
        "         sorted_indices])\n",
        "    token_type_ids = torch.tensor([[0] * len(input_ids[index]) for index in sorted_indices])\n",
        "    position_ids = torch.tensor([list(range(len(input_ids[index]))) for index in sorted_indices])\n",
        "\n",
        "    return input_ids, attention_mask, token_type_ids, position_ids"
      ],
      "metadata": {
        "id": "y03-nDX9rvgZ"
      },
      "execution_count": 70,
      "outputs": []
    },
    {
      "cell_type": "code",
      "source": [
        "test_batch_size = 32\n",
        "test_loader = torch.utils.data.DataLoader(test_dataset, batch_size=test_batch_size,\n",
        "                                          shuffle=False, collate_fn=collate_fn_style_test,\n",
        "                                          num_workers=2)"
      ],
      "metadata": {
        "id": "gZ0l1HparvgZ"
      },
      "execution_count": 71,
      "outputs": []
    },
    {
      "cell_type": "code",
      "source": [
        "with torch.no_grad():\n",
        "    model.eval()\n",
        "    predictions = []\n",
        "    for input_ids, attention_mask, token_type_ids, position_ids in tqdm(test_loader,\n",
        "                                                                        desc='Test',\n",
        "                                                                        position=1,\n",
        "                                                                        leave=None):\n",
        "\n",
        "        input_ids = input_ids.to(device)\n",
        "        attention_mask = attention_mask.to(device)\n",
        "        token_type_ids = token_type_ids.to(device)\n",
        "        position_ids = position_ids.to(device)\n",
        "\n",
        "        output = model(input_ids=input_ids,\n",
        "                       attention_mask=attention_mask,\n",
        "                       token_type_ids=token_type_ids,\n",
        "                       position_ids=position_ids)\n",
        "\n",
        "        logits = output.logits\n",
        "        batch_predictions = [0 if example[0] > example[1] else 1 for example in logits]\n",
        "        predictions += batch_predictions"
      ],
      "metadata": {
        "id": "XoSHTbJUrvgZ",
        "colab": {
          "base_uri": "https://localhost:8080/"
        },
        "outputId": "e9a10ba5-9a2a-4673-df76-8a08fb2e5a44"
      },
      "execution_count": 72,
      "outputs": [
        {
          "output_type": "stream",
          "name": "stderr",
          "text": [
            "\n",
            "Test:   0%|          | 0/32 [00:00<?, ?it/s]\u001b[A\n",
            "Test:   3%|▎         | 1/32 [00:00<00:03,  7.93it/s]\u001b[A\n",
            "Test:  16%|█▌        | 5/32 [00:00<00:01, 21.55it/s]\u001b[A\n",
            "Test:  25%|██▌       | 8/32 [00:00<00:00, 24.49it/s]\u001b[A\n",
            "Test:  38%|███▊      | 12/32 [00:00<00:00, 28.44it/s]\u001b[A\n",
            "Test:  50%|█████     | 16/32 [00:00<00:00, 30.87it/s]\u001b[A\n",
            "Test:  62%|██████▎   | 20/32 [00:00<00:00, 32.41it/s]\u001b[A\n",
            "Test:  75%|███████▌  | 24/32 [00:00<00:00, 33.70it/s]\u001b[A\n",
            "Test:  88%|████████▊ | 28/32 [00:00<00:00, 33.50it/s]\u001b[A\n",
            "                                                     \u001b[A"
          ]
        }
      ]
    },
    {
      "cell_type": "code",
      "source": [
        "test_df['Category'] = predictions"
      ],
      "metadata": {
        "id": "tGO3aS-VrvgZ"
      },
      "execution_count": 73,
      "outputs": []
    },
    {
      "cell_type": "code",
      "source": [
        "test_df.to_csv('submission.csv', index=False)"
      ],
      "metadata": {
        "id": "VndXxal3rvgZ"
      },
      "execution_count": 74,
      "outputs": []
    },
    {
      "cell_type": "code",
      "source": [
        "print(test_df)"
      ],
      "metadata": {
        "colab": {
          "base_uri": "https://localhost:8080/"
        },
        "id": "MS0Gq1cD8w0s",
        "outputId": "e2bfc2af-6663-43f2-ebb2-b83b67918a29"
      },
      "execution_count": 75,
      "outputs": [
        {
          "output_type": "stream",
          "name": "stdout",
          "text": [
            "                                                    Id  Category\n",
            "0    it 's a whole new experience and new flavors e...         1\n",
            "1              so disappointing from an old favorite .         0\n",
            "2        it is the most authentic thai in the valley .         1\n",
            "3              do not sign a lease with these people .         0\n",
            "4    i was nervous and she made me feel so comforta...         1\n",
            "..                                                 ...       ...\n",
            "995                       the food here is delicious .         1\n",
            "996                         we 'll certainly be back !         1\n",
            "997              the building itself looks abandoned .         0\n",
            "998           if i could give zero stars i def would .         0\n",
            "999  the beer is n't bad , but the food was less th...         0\n",
            "\n",
            "[1000 rows x 2 columns]\n"
          ]
        }
      ]
    }
  ]
}