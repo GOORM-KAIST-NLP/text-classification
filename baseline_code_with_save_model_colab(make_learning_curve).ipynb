{
  "cells": [
    {
      "cell_type": "markdown",
      "source": [
        "#baseline_code_with_save_model_colab 에 그래프 생성 코드 추가\n",
        "# #For Leaning Curve 라고 적힌 4 부분 복사해서 코드에 붙여넣어 사용하시면 됩니다"
      ],
      "metadata": {
        "id": "9oqQ0SGdjMjn"
      }
    },
    {
      "cell_type": "code",
      "source": [
        "from google.colab import drive\n",
        "drive.mount('/content/drive')"
      ],
      "metadata": {
        "id": "pog7CsG6jNY3"
      },
      "execution_count": null,
      "outputs": []
    },
    {
      "cell_type": "markdown",
      "metadata": {
        "id": "TH32rzgprvgM"
      },
      "source": [
        "# Import requirements"
      ]
    },
    {
      "cell_type": "code",
      "execution_count": 23,
      "metadata": {
        "colab": {
          "base_uri": "https://localhost:8080/"
        },
        "id": "G9EvC1HBuf41",
        "outputId": "d54a4923-ef93-43e0-c44d-fe9eedef28c5"
      },
      "outputs": [
        {
          "output_type": "stream",
          "name": "stdout",
          "text": [
            "Requirement already satisfied: transformers in /usr/local/lib/python3.7/dist-packages (4.17.0)\n",
            "Requirement already satisfied: regex!=2019.12.17 in /usr/local/lib/python3.7/dist-packages (from transformers) (2019.12.20)\n",
            "Requirement already satisfied: packaging>=20.0 in /usr/local/lib/python3.7/dist-packages (from transformers) (21.3)\n",
            "Requirement already satisfied: pyyaml>=5.1 in /usr/local/lib/python3.7/dist-packages (from transformers) (6.0)\n",
            "Requirement already satisfied: sacremoses in /usr/local/lib/python3.7/dist-packages (from transformers) (0.0.49)\n",
            "Requirement already satisfied: tokenizers!=0.11.3,>=0.11.1 in /usr/local/lib/python3.7/dist-packages (from transformers) (0.11.6)\n",
            "Requirement already satisfied: requests in /usr/local/lib/python3.7/dist-packages (from transformers) (2.23.0)\n",
            "Requirement already satisfied: filelock in /usr/local/lib/python3.7/dist-packages (from transformers) (3.6.0)\n",
            "Requirement already satisfied: huggingface-hub<1.0,>=0.1.0 in /usr/local/lib/python3.7/dist-packages (from transformers) (0.4.0)\n",
            "Requirement already satisfied: numpy>=1.17 in /usr/local/lib/python3.7/dist-packages (from transformers) (1.21.5)\n",
            "Requirement already satisfied: importlib-metadata in /usr/local/lib/python3.7/dist-packages (from transformers) (4.11.3)\n",
            "Requirement already satisfied: tqdm>=4.27 in /usr/local/lib/python3.7/dist-packages (from transformers) (4.63.0)\n",
            "Requirement already satisfied: typing-extensions>=3.7.4.3 in /usr/local/lib/python3.7/dist-packages (from huggingface-hub<1.0,>=0.1.0->transformers) (3.10.0.2)\n",
            "Requirement already satisfied: pyparsing!=3.0.5,>=2.0.2 in /usr/local/lib/python3.7/dist-packages (from packaging>=20.0->transformers) (3.0.7)\n",
            "Requirement already satisfied: zipp>=0.5 in /usr/local/lib/python3.7/dist-packages (from importlib-metadata->transformers) (3.7.0)\n",
            "Requirement already satisfied: chardet<4,>=3.0.2 in /usr/local/lib/python3.7/dist-packages (from requests->transformers) (3.0.4)\n",
            "Requirement already satisfied: urllib3!=1.25.0,!=1.25.1,<1.26,>=1.21.1 in /usr/local/lib/python3.7/dist-packages (from requests->transformers) (1.24.3)\n",
            "Requirement already satisfied: idna<3,>=2.5 in /usr/local/lib/python3.7/dist-packages (from requests->transformers) (2.10)\n",
            "Requirement already satisfied: certifi>=2017.4.17 in /usr/local/lib/python3.7/dist-packages (from requests->transformers) (2021.10.8)\n",
            "Requirement already satisfied: six in /usr/local/lib/python3.7/dist-packages (from sacremoses->transformers) (1.15.0)\n",
            "Requirement already satisfied: joblib in /usr/local/lib/python3.7/dist-packages (from sacremoses->transformers) (1.1.0)\n",
            "Requirement already satisfied: click in /usr/local/lib/python3.7/dist-packages (from sacremoses->transformers) (7.1.2)\n"
          ]
        }
      ],
      "source": [
        "!pip install transformers"
      ]
    },
    {
      "cell_type": "code",
      "execution_count": 40,
      "metadata": {
        "id": "AAdLxrUZrvgP"
      },
      "outputs": [],
      "source": [
        "import os\n",
        "import pdb\n",
        "import argparse\n",
        "from dataclasses import dataclass, field\n",
        "from typing import Optional\n",
        "from collections import defaultdict\n",
        "\n",
        "import torch\n",
        "from torch.nn.utils.rnn import pad_sequence\n",
        "\n",
        "import numpy as np\n",
        "from tqdm import tqdm, trange\n",
        "\n",
        "from transformers import (\n",
        "    BertForSequenceClassification,\n",
        "    BertTokenizer,\n",
        "    AutoConfig,\n",
        "    AdamW\n",
        ")"
      ]
    },
    {
      "cell_type": "markdown",
      "metadata": {
        "id": "ASWOOmXqrvgQ"
      },
      "source": [
        "# 1. Preprocess"
      ]
    },
    {
      "cell_type": "code",
      "execution_count": 41,
      "metadata": {
        "id": "RAnU6w29rvgR"
      },
      "outputs": [],
      "source": [
        "def make_id_file(task, tokenizer):\n",
        "    def make_data_strings(file_name):\n",
        "        data_strings = []\n",
        "        with open(os.path.join(file_name), 'r', encoding='utf-8') as f:\n",
        "            id_file_data = [tokenizer.encode(line.lower()) for line in f.readlines()]\n",
        "        for item in id_file_data:\n",
        "            data_strings.append(' '.join([str(k) for k in item]))\n",
        "        return data_strings\n",
        "    \n",
        "    print('it will take some times...')\n",
        "    train_pos = make_data_strings('sentiment.train.1')\n",
        "    train_neg = make_data_strings('sentiment.train.0')\n",
        "    dev_pos = make_data_strings('sentiment.dev.1')\n",
        "    dev_neg = make_data_strings('sentiment.dev.0')\n",
        "\n",
        "    print('make id file finished!')\n",
        "    return train_pos, train_neg, dev_pos, dev_neg"
      ]
    },
    {
      "cell_type": "code",
      "execution_count": 42,
      "metadata": {
        "id": "Ui2HOCflrvgR"
      },
      "outputs": [],
      "source": [
        "tokenizer = BertTokenizer.from_pretrained('bert-large-uncased')"
      ]
    },
    {
      "cell_type": "code",
      "execution_count": 6,
      "metadata": {
        "colab": {
          "base_uri": "https://localhost:8080/",
          "height": 219,
          "resources": {
            "http://localhost:8080/nbextensions/google.colab/files.js": {
              "data": "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",
              "headers": [
                [
                  "content-type",
                  "application/javascript"
                ]
              ],
              "ok": true,
              "status": 200,
              "status_text": ""
            }
          }
        },
        "id": "4jVuK-V1uq3L",
        "outputId": "c9f55343-3f4c-4f0c-9f6a-05b7d6b784fa"
      },
      "outputs": [
        {
          "output_type": "display_data",
          "data": {
            "text/plain": [
              "<IPython.core.display.HTML object>"
            ],
            "text/html": [
              "\n",
              "     <input type=\"file\" id=\"files-5a459c1c-6e9a-4f2a-adc3-01f600f53eef\" name=\"files[]\" multiple disabled\n",
              "        style=\"border:none\" />\n",
              "     <output id=\"result-5a459c1c-6e9a-4f2a-adc3-01f600f53eef\">\n",
              "      Upload widget is only available when the cell has been executed in the\n",
              "      current browser session. Please rerun this cell to enable.\n",
              "      </output>\n",
              "      <script src=\"/nbextensions/google.colab/files.js\"></script> "
            ]
          },
          "metadata": {}
        },
        {
          "output_type": "stream",
          "name": "stdout",
          "text": [
            "Saving sentiment.dev.0 to sentiment.dev.0\n",
            "Saving sentiment.dev.1 to sentiment.dev.1\n",
            "Saving sentiment.train.0 to sentiment.train.0\n",
            "Saving sentiment.train.1 to sentiment.train.1\n",
            "Saving test_no_label.csv to test_no_label.csv\n"
          ]
        }
      ],
      "source": [
        "from google.colab import files\n",
        "uploaded = files.upload()"
      ]
    },
    {
      "cell_type": "code",
      "execution_count": 7,
      "metadata": {
        "colab": {
          "base_uri": "https://localhost:8080/"
        },
        "id": "ttzRlY4Ov0jZ",
        "outputId": "8494d0c6-6258-439b-a407-364fc6c21c3b"
      },
      "outputs": [
        {
          "output_type": "stream",
          "name": "stdout",
          "text": [
            "drive\t     sentiment.dev.0  sentiment.train.0  test_no_label.csv\n",
            "sample_data  sentiment.dev.1  sentiment.train.1\n"
          ]
        }
      ],
      "source": [
        "!ls"
      ]
    },
    {
      "cell_type": "code",
      "execution_count": 8,
      "metadata": {
        "colab": {
          "base_uri": "https://localhost:8080/"
        },
        "id": "BAgztXIBrvgS",
        "outputId": "29a5ab99-b294-4c9a-bdf3-7d4311892edf"
      },
      "outputs": [
        {
          "output_type": "stream",
          "name": "stdout",
          "text": [
            "it will take some times...\n",
            "make id file finished!\n"
          ]
        }
      ],
      "source": [
        "train_pos, train_neg, dev_pos, dev_neg = make_id_file('yelp', tokenizer)"
      ]
    },
    {
      "cell_type": "code",
      "execution_count": 9,
      "metadata": {
        "colab": {
          "base_uri": "https://localhost:8080/"
        },
        "id": "wRh2WjGRrvgS",
        "outputId": "34610927-d052-456a-bd66-4904e9b565a8"
      },
      "outputs": [
        {
          "output_type": "execute_result",
          "data": {
            "text/plain": [
              "['101 6581 2833 1012 102',\n",
              " '101 21688 8013 2326 1012 102',\n",
              " '101 2027 2036 2031 3679 19247 1998 3256 6949 2029 2003 2428 2204 1012 102',\n",
              " '101 2009 1005 1055 1037 2204 15174 2098 7570 22974 2063 1012 102',\n",
              " '101 1996 3095 2003 5379 1012 102',\n",
              " '101 2204 3347 2833 1012 102',\n",
              " '101 2204 2326 1012 102',\n",
              " '101 11350 1997 2154 2003 25628 1998 7167 1997 19247 1012 102',\n",
              " '101 2307 2173 2005 6265 2030 3347 27962 1998 5404 1012 102',\n",
              " '101 1996 2047 2846 3504 6429 1012 102']"
            ]
          },
          "metadata": {},
          "execution_count": 9
        }
      ],
      "source": [
        "train_pos[:10]"
      ]
    },
    {
      "cell_type": "code",
      "source": [
        "train_pos= train_pos[:500]\n",
        "train_neg=train_neg[:500]\n",
        "dev_pos=dev_pos[:500]\n",
        "dev_neg=dev_pos[:500]"
      ],
      "metadata": {
        "id": "FwUpWqdIhnym"
      },
      "execution_count": 43,
      "outputs": []
    },
    {
      "cell_type": "code",
      "execution_count": 44,
      "metadata": {
        "id": "JdpQQQMUrvgT"
      },
      "outputs": [],
      "source": [
        "class SentimentDataset(object):\n",
        "    def __init__(self, tokenizer, pos, neg):\n",
        "        self.tokenizer = tokenizer\n",
        "        self.data = []\n",
        "        self.label = []\n",
        "\n",
        "        for pos_sent in pos:\n",
        "            self.data += [self._cast_to_int(pos_sent.strip().split())]\n",
        "            self.label += [[1]]\n",
        "        for neg_sent in neg:\n",
        "            self.data += [self._cast_to_int(neg_sent.strip().split())]\n",
        "            self.label += [[0]]\n",
        "\n",
        "    def _cast_to_int(self, sample):\n",
        "        return [int(word_id) for word_id in sample]\n",
        "\n",
        "    def __len__(self):\n",
        "        return len(self.data)\n",
        "\n",
        "    def __getitem__(self, index):\n",
        "        sample = self.data[index]\n",
        "        return np.array(sample), np.array(self.label[index])"
      ]
    },
    {
      "cell_type": "code",
      "execution_count": 45,
      "metadata": {
        "id": "wCz5ey8xrvgU"
      },
      "outputs": [],
      "source": [
        "train_dataset = SentimentDataset(tokenizer, train_pos, train_neg)\n",
        "dev_dataset = SentimentDataset(tokenizer, dev_pos, dev_neg)"
      ]
    },
    {
      "cell_type": "code",
      "execution_count": 46,
      "metadata": {
        "colab": {
          "base_uri": "https://localhost:8080/"
        },
        "id": "UuvkMczvrvgU",
        "outputId": "95fc2304-4f27-42ae-c3d8-e55ba0f57cc8"
      },
      "outputs": [
        {
          "output_type": "stream",
          "name": "stdout",
          "text": [
            "(array([ 101, 6581, 2833, 1012,  102]), array([1]))\n",
            "(array([  101, 21688,  8013,  2326,  1012,   102]), array([1]))\n",
            "(array([  101,  2027,  2036,  2031,  3679, 19247,  1998,  3256,  6949,\n",
            "        2029,  2003,  2428,  2204,  1012,   102]), array([1]))\n",
            "(array([  101,  2009,  1005,  1055,  1037,  2204, 15174,  2098,  7570,\n",
            "       22974,  2063,  1012,   102]), array([1]))\n",
            "(array([ 101, 1996, 3095, 2003, 5379, 1012,  102]), array([1]))\n",
            "(array([ 101, 2204, 3347, 2833, 1012,  102]), array([1]))\n",
            "(array([ 101, 2204, 2326, 1012,  102]), array([1]))\n",
            "(array([  101, 11350,  1997,  2154,  2003, 25628,  1998,  7167,  1997,\n",
            "       19247,  1012,   102]), array([1]))\n",
            "(array([  101,  2307,  2173,  2005,  6265,  2030,  3347, 27962,  1998,\n",
            "        5404,  1012,   102]), array([1]))\n",
            "(array([ 101, 1996, 2047, 2846, 3504, 6429, 1012,  102]), array([1]))\n",
            "(array([ 101, 2023, 2173, 2001, 2200, 2204, 1012,  102]), array([1]))\n"
          ]
        }
      ],
      "source": [
        "for i, item in enumerate(train_dataset):\n",
        "    print(item)\n",
        "    if i == 10:\n",
        "        break"
      ]
    },
    {
      "cell_type": "code",
      "execution_count": 47,
      "metadata": {
        "id": "B0wRUBYSrvgU"
      },
      "outputs": [],
      "source": [
        "def collate_fn_style(samples):\n",
        "    input_ids, labels = zip(*samples)\n",
        "    max_len = max(len(input_id) for input_id in input_ids)\n",
        "    sorted_indices = np.argsort([len(input_id) for input_id in input_ids])[::-1]\n",
        "\n",
        "    input_ids = pad_sequence([torch.tensor(input_ids[index]) for index in sorted_indices],\n",
        "                             batch_first=True)\n",
        "    attention_mask = torch.tensor(\n",
        "        [[1] * len(input_ids[index]) + [0] * (max_len - len(input_ids[index])) for index in\n",
        "         sorted_indices])\n",
        "    token_type_ids = torch.tensor([[0] * len(input_ids[index]) for index in sorted_indices])\n",
        "    position_ids = torch.tensor([list(range(len(input_ids[index]))) for index in sorted_indices])\n",
        "    labels = torch.tensor(np.stack(labels, axis=0)[sorted_indices])\n",
        "\n",
        "    return input_ids, attention_mask, token_type_ids, position_ids, labels"
      ]
    },
    {
      "cell_type": "code",
      "execution_count": 48,
      "metadata": {
        "id": "zvFqCaCnrvgW"
      },
      "outputs": [],
      "source": [
        "# random seed\n",
        "random_seed=42\n",
        "np.random.seed(random_seed)\n",
        "torch.manual_seed(random_seed)\n",
        "\n",
        "device = torch.device('cuda' if torch.cuda.is_available() else 'cpu')"
      ]
    },
    {
      "cell_type": "code",
      "execution_count": 49,
      "metadata": {
        "id": "MztU-L83rvgW"
      },
      "outputs": [],
      "source": [
        "def compute_acc(predictions, target_labels):\n",
        "    return (np.array(predictions) == np.array(target_labels)).mean()"
      ]
    },
    {
      "cell_type": "code",
      "execution_count": 50,
      "metadata": {
        "id": "JxadwLR3kCZE"
      },
      "outputs": [],
      "source": [
        "class Trainer():\n",
        "    def __init__(self, device, output_path, lr, resume_path):\n",
        "        self.output_path = output_path\n",
        "        self.device = device\n",
        "        self.model = BertForSequenceClassification.from_pretrained('bert-large-uncased')\n",
        "        self.optimizer = AdamW(self.model.parameters(), lr=lr)\n",
        "        #For learning curve\n",
        "        self.training_stats = []\n",
        "        if resume_path :\n",
        "            checkpoint = torch.load(resume_path, map_location=device)\n",
        "            self.model.load_state_dict(checkpoint['model_state_dict'])\n",
        "            self.optimizer.load_state_dict(checkpoint['optimizer_state_dict'])\n",
        "            self.start_train_epoch = checkpoint['epoch'] + 1\n",
        "            self.lowest_valid_loss = checkpoint['lowest_valid_loss']\n",
        "        else:\n",
        "            self.start_train_epoch = 0\n",
        "            self.lowest_valid_loss = 9999.\n",
        "        self.model.to(self.device)\n",
        "        for state in self.optimizer.state.values():\n",
        "            for k, v in state.items():\n",
        "                if torch.is_tensor(v):\n",
        "                    state[k] = v.to(device)\n",
        "\n",
        "    def training(self, train_loader, dev_loader, last_epoch):\n",
        "        self.model.train()\n",
        "        for epoch in range(self.start_train_epoch, last_epoch):\n",
        "            with tqdm(train_loader, unit=\"batch\") as tepoch:\n",
        "                for iteration, (input_ids, attention_mask, token_type_ids, position_ids, labels) in enumerate(tepoch):\n",
        "                    tepoch.set_description(f\"Epoch {epoch}\")\n",
        "                    input_ids = input_ids.to(self.device)\n",
        "                    attention_mask = attention_mask.to(self.device)\n",
        "                    token_type_ids = token_type_ids.to(self.device)\n",
        "                    position_ids = position_ids.to(self.device)\n",
        "                    labels = labels.to(self.device, dtype=torch.long)\n",
        "\n",
        "                    self.optimizer.zero_grad()\n",
        "\n",
        "                    output = self.model(input_ids=input_ids,\n",
        "                               attention_mask=attention_mask,\n",
        "                               token_type_ids=token_type_ids,\n",
        "                               position_ids=position_ids,\n",
        "                               labels=labels)\n",
        "\n",
        "                    loss = output.loss\n",
        "                    loss.backward()\n",
        "\n",
        "                    self.optimizer.step()\n",
        "                \n",
        "                    tepoch.set_postfix(loss=loss.item())\n",
        "                    if iteration != 0 and iteration % int(len(train_loader) / 5) == 0:\n",
        "                        # Evaluate the model five times per epoch\n",
        "                        with torch.no_grad():\n",
        "                            self.model.eval()\n",
        "                            valid_losses = []\n",
        "                            predictions = []\n",
        "                            target_labels = []\n",
        "                            for input_ids, attention_mask, token_type_ids, position_ids, labels in tqdm(dev_loader,\n",
        "                                                                                                    desc='Eval',\n",
        "                                                                                                    position=1,\n",
        "                                                                                                    leave=None):\n",
        "                                input_ids = input_ids.to(self.device)\n",
        "                                attention_mask = attention_mask.to(self.device)\n",
        "                                token_type_ids = token_type_ids.to(self.device)\n",
        "                                position_ids = position_ids.to(self.device)\n",
        "                                labels = labels.to(self.device, dtype=torch.long)\n",
        "\n",
        "                                output = self.model(input_ids=input_ids,\n",
        "                                           attention_mask=attention_mask,\n",
        "                                           token_type_ids=token_type_ids,\n",
        "                                           position_ids=position_ids,\n",
        "                                           labels=labels)\n",
        "\n",
        "                                logits = output.logits\n",
        "                                loss = output.loss\n",
        "                                valid_losses.append(loss.item())\n",
        "\n",
        "                                batch_predictions = [0 if example[0] > example[1] else 1 for example in logits]\n",
        "                                batch_labels = [int(example) for example in labels]\n",
        "\n",
        "                                predictions += batch_predictions\n",
        "                                target_labels += batch_labels\n",
        "\n",
        "                        print(epoch)\n",
        "                        acc = compute_acc(predictions, target_labels)\n",
        "                        valid_loss = sum(valid_losses) / len(valid_losses)\n",
        "                        # For Learning curve  \n",
        "                        #각 epoch의 iteration 마다 Train,Validation의 Loss 와 accuracy 를 저장\n",
        "                        self.training_stats.append( {\n",
        "                                'epoch': epoch + 1,\n",
        "                                'iteration' : iteration,\n",
        "                                'Training Loss': loss.item(),\n",
        "                                'Valid Loss': valid_loss,\n",
        "                                'Valid Accuracy': acc})\n",
        "                        if self.lowest_valid_loss > valid_loss:\n",
        "                            print('')\n",
        "                            print('Acc for model which have lower valid loss: ', acc)\n",
        "                            #torch.save(self.model.state_dict(), \"/content/drive/MyDrive/Colab Notebooks/NLP/project/pytorch_model.bin\")\n",
        "                            torch.save({\n",
        "                                'epoch': epoch,\n",
        "                                'lowest_valid_loss': self.lowest_valid_loss,\n",
        "                                'optimizer_state_dict': self.optimizer.state_dict(),\n",
        "                                'model_state_dict': self.model.state_dict(),\n",
        "                                }, f'{self.output_path}/checkpoint.pth')\n",
        "                            self.lowest_valid_loss = valid_loss\n",
        "                            print('--------------save checkpoint at epoch : {}--------------'.format(epoch))\n",
        "                            print('--------------lowest_valid_loss : {}--------------'.format(self.lowest_valid_loss))\n",
        "                            "
      ]
    },
    {
      "cell_type": "code",
      "execution_count": 51,
      "metadata": {
        "colab": {
          "base_uri": "https://localhost:8080/"
        },
        "id": "8Rh1RIicomJ2",
        "outputId": "b35a9527-12b9-43da-e50c-813ad0165de0"
      },
      "outputs": [
        {
          "output_type": "stream",
          "name": "stderr",
          "text": [
            "Some weights of the model checkpoint at bert-large-uncased were not used when initializing BertForSequenceClassification: ['cls.predictions.decoder.weight', 'cls.predictions.transform.dense.bias', 'cls.predictions.transform.dense.weight', 'cls.predictions.bias', 'cls.seq_relationship.weight', 'cls.predictions.transform.LayerNorm.weight', 'cls.seq_relationship.bias', 'cls.predictions.transform.LayerNorm.bias']\n",
            "- This IS expected if you are initializing BertForSequenceClassification from the checkpoint of a model trained on another task or with another architecture (e.g. initializing a BertForSequenceClassification model from a BertForPreTraining model).\n",
            "- This IS NOT expected if you are initializing BertForSequenceClassification from the checkpoint of a model that you expect to be exactly identical (initializing a BertForSequenceClassification model from a BertForSequenceClassification model).\n",
            "Some weights of BertForSequenceClassification were not initialized from the model checkpoint at bert-large-uncased and are newly initialized: ['classifier.weight', 'classifier.bias']\n",
            "You should probably TRAIN this model on a down-stream task to be able to use it for predictions and inference.\n",
            "/usr/local/lib/python3.7/dist-packages/transformers/optimization.py:309: FutureWarning: This implementation of AdamW is deprecated and will be removed in a future version. Use the PyTorch implementation torch.optim.AdamW instead, or set `no_deprecation_warning=True` to disable this warning\n",
            "  FutureWarning,\n",
            "Epoch 0:  19%|█▉        | 6/32 [00:02<00:07,  3.55batch/s, loss=0.679]\n",
            "Eval:   0%|          | 0/32 [00:00<?, ?it/s]\u001b[A\n",
            "Eval:   3%|▎         | 1/32 [00:00<00:07,  4.36it/s]\u001b[A\n",
            "Eval:   9%|▉         | 3/32 [00:00<00:03,  8.80it/s]\u001b[A\n",
            "Eval:  16%|█▌        | 5/32 [00:00<00:02, 10.99it/s]\u001b[A\n",
            "Eval:  22%|██▏       | 7/32 [00:00<00:02, 11.97it/s]\u001b[A\n",
            "Eval:  28%|██▊       | 9/32 [00:00<00:01, 12.51it/s]\u001b[A\n",
            "Eval:  34%|███▍      | 11/32 [00:00<00:01, 12.80it/s]\u001b[A\n",
            "Eval:  41%|████      | 13/32 [00:01<00:01, 13.15it/s]\u001b[A\n",
            "Eval:  47%|████▋     | 15/32 [00:01<00:01, 13.33it/s]\u001b[A\n",
            "Eval:  53%|█████▎    | 17/32 [00:01<00:01, 13.46it/s]\u001b[A\n",
            "Eval:  59%|█████▉    | 19/32 [00:01<00:00, 13.51it/s]\u001b[A\n",
            "Eval:  66%|██████▌   | 21/32 [00:01<00:00, 13.71it/s]\u001b[A\n",
            "Eval:  72%|███████▏  | 23/32 [00:01<00:00, 13.69it/s]\u001b[A\n",
            "Eval:  78%|███████▊  | 25/32 [00:01<00:00, 13.67it/s]\u001b[A\n",
            "Eval:  84%|████████▍ | 27/32 [00:02<00:00, 13.51it/s]\u001b[A\n",
            "Eval:  91%|█████████ | 29/32 [00:02<00:00, 13.57it/s]\u001b[A\n",
            "Eval:  97%|█████████▋| 31/32 [00:02<00:00, 13.66it/s]\u001b[A\n",
            "                                                     \u001b[A"
          ]
        },
        {
          "output_type": "stream",
          "name": "stdout",
          "text": [
            "0\n",
            "\n",
            "Acc for model which have lower valid loss:  0.498\n"
          ]
        },
        {
          "output_type": "stream",
          "name": "stderr",
          "text": [
            "Epoch 0:  22%|██▏       | 7/32 [00:19<02:32,  6.09s/batch, loss=0.679]"
          ]
        },
        {
          "output_type": "stream",
          "name": "stdout",
          "text": [
            "--------------save checkpoint at epoch : 0--------------\n",
            "--------------lowest_valid_loss : 0.7035112157464027--------------\n"
          ]
        },
        {
          "output_type": "stream",
          "name": "stderr",
          "text": [
            "Epoch 0:  38%|███▊      | 12/32 [00:21<00:23,  1.18s/batch, loss=0.625]\n",
            "Eval:   0%|          | 0/32 [00:00<?, ?it/s]\u001b[A\n",
            "Eval:   3%|▎         | 1/32 [00:00<00:07,  4.40it/s]\u001b[A\n",
            "Eval:   9%|▉         | 3/32 [00:00<00:03,  8.72it/s]\u001b[A\n",
            "Eval:  16%|█▌        | 5/32 [00:00<00:02, 10.89it/s]\u001b[A\n",
            "Eval:  22%|██▏       | 7/32 [00:00<00:02, 11.93it/s]\u001b[A\n",
            "Eval:  28%|██▊       | 9/32 [00:00<00:01, 12.52it/s]\u001b[A\n",
            "Eval:  34%|███▍      | 11/32 [00:00<00:01, 12.78it/s]\u001b[A\n",
            "Eval:  41%|████      | 13/32 [00:01<00:01, 13.13it/s]\u001b[A\n",
            "Eval:  47%|████▋     | 15/32 [00:01<00:01, 13.26it/s]\u001b[A\n",
            "Eval:  53%|█████▎    | 17/32 [00:01<00:01, 13.35it/s]\u001b[A\n",
            "Eval:  59%|█████▉    | 19/32 [00:01<00:00, 13.45it/s]\u001b[A\n",
            "Eval:  66%|██████▌   | 21/32 [00:01<00:00, 13.68it/s]\u001b[A\n",
            "Eval:  72%|███████▏  | 23/32 [00:01<00:00, 13.74it/s]\u001b[A\n",
            "Eval:  78%|███████▊  | 25/32 [00:01<00:00, 13.74it/s]\u001b[A\n",
            "Eval:  84%|████████▍ | 27/32 [00:02<00:00, 13.64it/s]\u001b[A\n",
            "Eval:  91%|█████████ | 29/32 [00:02<00:00, 13.66it/s]\u001b[A\n",
            "Eval:  97%|█████████▋| 31/32 [00:02<00:00, 13.66it/s]\u001b[A\n",
            "Epoch 0:  41%|████      | 13/32 [00:24<00:31,  1.68s/batch, loss=0.625]"
          ]
        },
        {
          "output_type": "stream",
          "name": "stdout",
          "text": [
            "0\n"
          ]
        },
        {
          "output_type": "stream",
          "name": "stderr",
          "text": [
            "Epoch 0:  56%|█████▋    | 18/32 [00:25<00:07,  1.95batch/s, loss=0.598]\n",
            "Eval:   0%|          | 0/32 [00:00<?, ?it/s]\u001b[A\n",
            "Eval:   3%|▎         | 1/32 [00:00<00:07,  4.26it/s]\u001b[A\n",
            "Eval:   9%|▉         | 3/32 [00:00<00:03,  8.60it/s]\u001b[A\n",
            "Eval:  16%|█▌        | 5/32 [00:00<00:02, 10.84it/s]\u001b[A\n",
            "Eval:  22%|██▏       | 7/32 [00:00<00:02, 11.91it/s]\u001b[A\n",
            "Eval:  28%|██▊       | 9/32 [00:00<00:01, 12.51it/s]\u001b[A\n",
            "Eval:  34%|███▍      | 11/32 [00:00<00:01, 12.78it/s]\u001b[A\n",
            "Eval:  41%|████      | 13/32 [00:01<00:01, 13.16it/s]\u001b[A\n",
            "Eval:  47%|████▋     | 15/32 [00:01<00:01, 13.26it/s]\u001b[A\n",
            "Eval:  53%|█████▎    | 17/32 [00:01<00:01, 13.35it/s]\u001b[A\n",
            "Eval:  59%|█████▉    | 19/32 [00:01<00:00, 13.46it/s]\u001b[A\n",
            "Eval:  66%|██████▌   | 21/32 [00:01<00:00, 13.70it/s]\u001b[A\n",
            "Eval:  72%|███████▏  | 23/32 [00:01<00:00, 13.71it/s]\u001b[A\n",
            "Eval:  78%|███████▊  | 25/32 [00:01<00:00, 13.66it/s]\u001b[A\n",
            "Eval:  84%|████████▍ | 27/32 [00:02<00:00, 13.59it/s]\u001b[A\n",
            "Eval:  91%|█████████ | 29/32 [00:02<00:00, 13.51it/s]\u001b[A\n",
            "Eval:  97%|█████████▋| 31/32 [00:02<00:00, 13.47it/s]\u001b[A\n",
            "Epoch 0:  59%|█████▉    | 19/32 [00:28<00:15,  1.21s/batch, loss=0.598]"
          ]
        },
        {
          "output_type": "stream",
          "name": "stdout",
          "text": [
            "0\n"
          ]
        },
        {
          "output_type": "stream",
          "name": "stderr",
          "text": [
            "Epoch 0:  75%|███████▌  | 24/32 [00:29<00:03,  2.37batch/s, loss=0.391]\n",
            "Eval:   0%|          | 0/32 [00:00<?, ?it/s]\u001b[A\n",
            "Eval:   3%|▎         | 1/32 [00:00<00:07,  4.35it/s]\u001b[A\n",
            "Eval:   9%|▉         | 3/32 [00:00<00:03,  8.64it/s]\u001b[A\n",
            "Eval:  16%|█▌        | 5/32 [00:00<00:02, 10.81it/s]\u001b[A\n",
            "Eval:  22%|██▏       | 7/32 [00:00<00:02, 11.85it/s]\u001b[A\n",
            "Eval:  28%|██▊       | 9/32 [00:00<00:01, 12.41it/s]\u001b[A\n",
            "Eval:  34%|███▍      | 11/32 [00:00<00:01, 12.61it/s]\u001b[A\n",
            "Eval:  41%|████      | 13/32 [00:01<00:01, 12.94it/s]\u001b[A\n",
            "Eval:  47%|████▋     | 15/32 [00:01<00:01, 13.06it/s]\u001b[A\n",
            "Eval:  53%|█████▎    | 17/32 [00:01<00:01, 13.17it/s]\u001b[A\n",
            "Eval:  59%|█████▉    | 19/32 [00:01<00:00, 13.25it/s]\u001b[A\n",
            "Eval:  66%|██████▌   | 21/32 [00:01<00:00, 13.52it/s]\u001b[A\n",
            "Eval:  72%|███████▏  | 23/32 [00:01<00:00, 13.55it/s]\u001b[A\n",
            "Eval:  78%|███████▊  | 25/32 [00:02<00:00, 13.46it/s]\u001b[A\n",
            "Eval:  84%|████████▍ | 27/32 [00:02<00:00, 13.40it/s]\u001b[A\n",
            "Eval:  91%|█████████ | 29/32 [00:02<00:00, 13.41it/s]\u001b[A\n",
            "Eval:  97%|█████████▋| 31/32 [00:02<00:00, 13.45it/s]\u001b[A\n",
            "Epoch 0:  78%|███████▊  | 25/32 [00:32<00:08,  1.15s/batch, loss=0.391]"
          ]
        },
        {
          "output_type": "stream",
          "name": "stdout",
          "text": [
            "0\n"
          ]
        },
        {
          "output_type": "stream",
          "name": "stderr",
          "text": [
            "Epoch 0:  94%|█████████▍| 30/32 [00:34<00:00,  2.39batch/s, loss=0.262]\n",
            "Eval:   0%|          | 0/32 [00:00<?, ?it/s]\u001b[A\n",
            "Eval:   3%|▎         | 1/32 [00:00<00:07,  4.22it/s]\u001b[A\n",
            "Eval:   9%|▉         | 3/32 [00:00<00:03,  8.60it/s]\u001b[A\n",
            "Eval:  16%|█▌        | 5/32 [00:00<00:02, 10.74it/s]\u001b[A\n",
            "Eval:  22%|██▏       | 7/32 [00:00<00:02, 11.86it/s]\u001b[A\n",
            "Eval:  28%|██▊       | 9/32 [00:00<00:01, 12.35it/s]\u001b[A\n",
            "Eval:  34%|███▍      | 11/32 [00:00<00:01, 12.66it/s]\u001b[A\n",
            "Eval:  41%|████      | 13/32 [00:01<00:01, 12.99it/s]\u001b[A\n",
            "Eval:  47%|████▋     | 15/32 [00:01<00:01, 13.01it/s]\u001b[A\n",
            "Eval:  53%|█████▎    | 17/32 [00:01<00:01, 13.18it/s]\u001b[A\n",
            "Eval:  59%|█████▉    | 19/32 [00:01<00:00, 13.25it/s]\u001b[A\n",
            "Eval:  66%|██████▌   | 21/32 [00:01<00:00, 13.30it/s]\u001b[A\n",
            "Eval:  72%|███████▏  | 23/32 [00:01<00:00, 13.41it/s]\u001b[A\n",
            "Eval:  78%|███████▊  | 25/32 [00:02<00:00, 13.32it/s]\u001b[A\n",
            "Eval:  84%|████████▍ | 27/32 [00:02<00:00, 13.23it/s]\u001b[A\n",
            "Eval:  91%|█████████ | 29/32 [00:02<00:00, 13.10it/s]\u001b[A\n",
            "Eval:  97%|█████████▋| 31/32 [00:02<00:00, 13.22it/s]\u001b[A\n",
            "Epoch 0: 100%|██████████| 32/32 [00:37<00:00,  1.15batch/s, loss=0.129]"
          ]
        },
        {
          "output_type": "stream",
          "name": "stdout",
          "text": [
            "0\n"
          ]
        },
        {
          "output_type": "stream",
          "name": "stderr",
          "text": [
            "Epoch 0: 100%|██████████| 32/32 [00:37<00:00,  1.16s/batch, loss=0.129]\n",
            "Epoch 1:  19%|█▉        | 6/32 [00:02<00:07,  3.28batch/s, loss=0.0358]\n",
            "Eval:   0%|          | 0/32 [00:00<?, ?it/s]\u001b[A\n",
            "Eval:   3%|▎         | 1/32 [00:00<00:07,  4.28it/s]\u001b[A\n",
            "Eval:   9%|▉         | 3/32 [00:00<00:03,  8.53it/s]\u001b[A\n",
            "Eval:  16%|█▌        | 5/32 [00:00<00:02, 10.66it/s]\u001b[A\n",
            "Eval:  22%|██▏       | 7/32 [00:00<00:02, 11.77it/s]\u001b[A\n",
            "Eval:  28%|██▊       | 9/32 [00:00<00:01, 12.38it/s]\u001b[A\n",
            "Eval:  34%|███▍      | 11/32 [00:00<00:01, 12.62it/s]\u001b[A\n",
            "Eval:  41%|████      | 13/32 [00:01<00:01, 12.89it/s]\u001b[A\n",
            "Eval:  47%|████▋     | 15/32 [00:01<00:01, 12.88it/s]\u001b[A\n",
            "Eval:  53%|█████▎    | 17/32 [00:01<00:01, 13.13it/s]\u001b[A\n",
            "Eval:  59%|█████▉    | 19/32 [00:01<00:00, 13.24it/s]\u001b[A\n",
            "Eval:  66%|██████▌   | 21/32 [00:01<00:00, 13.51it/s]\u001b[A\n",
            "Eval:  72%|███████▏  | 23/32 [00:01<00:00, 13.52it/s]\u001b[A\n",
            "Eval:  78%|███████▊  | 25/32 [00:02<00:00, 13.54it/s]\u001b[A\n",
            "Eval:  84%|████████▍ | 27/32 [00:02<00:00, 13.36it/s]\u001b[A\n",
            "Eval:  91%|█████████ | 29/32 [00:02<00:00, 13.39it/s]\u001b[A\n",
            "Eval:  97%|█████████▋| 31/32 [00:02<00:00, 13.35it/s]\u001b[A\n",
            "Epoch 1:  22%|██▏       | 7/32 [00:04<00:28,  1.15s/batch, loss=0.0358]"
          ]
        },
        {
          "output_type": "stream",
          "name": "stdout",
          "text": [
            "1\n"
          ]
        },
        {
          "output_type": "stream",
          "name": "stderr",
          "text": [
            "Epoch 1:  38%|███▊      | 12/32 [00:06<00:08,  2.44batch/s, loss=0.0716]\n",
            "Eval:   0%|          | 0/32 [00:00<?, ?it/s]\u001b[A\n",
            "Eval:   3%|▎         | 1/32 [00:00<00:07,  4.24it/s]\u001b[A\n",
            "Eval:   9%|▉         | 3/32 [00:00<00:03,  8.58it/s]\u001b[A\n",
            "Eval:  16%|█▌        | 5/32 [00:00<00:02, 10.55it/s]\u001b[A\n",
            "Eval:  22%|██▏       | 7/32 [00:00<00:02, 11.67it/s]\u001b[A\n",
            "Eval:  28%|██▊       | 9/32 [00:00<00:01, 12.14it/s]\u001b[A\n",
            "Eval:  34%|███▍      | 11/32 [00:00<00:01, 12.42it/s]\u001b[A\n",
            "Eval:  41%|████      | 13/32 [00:01<00:01, 12.76it/s]\u001b[A\n",
            "Eval:  47%|████▋     | 15/32 [00:01<00:01, 12.94it/s]\u001b[A\n",
            "Eval:  53%|█████▎    | 17/32 [00:01<00:01, 13.04it/s]\u001b[A\n",
            "Eval:  59%|█████▉    | 19/32 [00:01<00:00, 13.02it/s]\u001b[A\n",
            "Eval:  66%|██████▌   | 21/32 [00:01<00:00, 13.31it/s]\u001b[A\n",
            "Eval:  72%|███████▏  | 23/32 [00:01<00:00, 13.44it/s]\u001b[A\n",
            "Eval:  78%|███████▊  | 25/32 [00:02<00:00, 13.44it/s]\u001b[A\n",
            "Eval:  84%|████████▍ | 27/32 [00:02<00:00, 13.29it/s]\u001b[A\n",
            "Eval:  91%|█████████ | 29/32 [00:02<00:00, 13.29it/s]\u001b[A\n",
            "Eval:  97%|█████████▋| 31/32 [00:02<00:00, 13.30it/s]\u001b[A\n",
            "Epoch 1:  41%|████      | 13/32 [00:09<00:22,  1.16s/batch, loss=0.0716]"
          ]
        },
        {
          "output_type": "stream",
          "name": "stdout",
          "text": [
            "1\n"
          ]
        },
        {
          "output_type": "stream",
          "name": "stderr",
          "text": [
            "Epoch 1:  56%|█████▋    | 18/32 [00:10<00:05,  2.34batch/s, loss=0.0471]\n",
            "Eval:   0%|          | 0/32 [00:00<?, ?it/s]\u001b[A\n",
            "Eval:   3%|▎         | 1/32 [00:00<00:07,  4.22it/s]\u001b[A\n",
            "Eval:   9%|▉         | 3/32 [00:00<00:03,  8.55it/s]\u001b[A\n",
            "Eval:  16%|█▌        | 5/32 [00:00<00:02, 10.79it/s]\u001b[A\n",
            "Eval:  22%|██▏       | 7/32 [00:00<00:02, 11.78it/s]\u001b[A\n",
            "Eval:  28%|██▊       | 9/32 [00:00<00:01, 12.35it/s]\u001b[A\n",
            "Eval:  34%|███▍      | 11/32 [00:00<00:01, 12.62it/s]\u001b[A\n",
            "Eval:  41%|████      | 13/32 [00:01<00:01, 13.00it/s]\u001b[A\n",
            "Eval:  47%|████▋     | 15/32 [00:01<00:01, 13.11it/s]\u001b[A\n",
            "Eval:  53%|█████▎    | 17/32 [00:01<00:01, 13.27it/s]\u001b[A\n",
            "Eval:  59%|█████▉    | 19/32 [00:01<00:00, 13.30it/s]\u001b[A\n",
            "Eval:  66%|██████▌   | 21/32 [00:01<00:00, 13.49it/s]\u001b[A\n",
            "Eval:  72%|███████▏  | 23/32 [00:01<00:00, 13.47it/s]\u001b[A\n",
            "Eval:  78%|███████▊  | 25/32 [00:02<00:00, 13.39it/s]\u001b[A\n",
            "Eval:  84%|████████▍ | 27/32 [00:02<00:00, 13.31it/s]\u001b[A\n",
            "Eval:  91%|█████████ | 29/32 [00:02<00:00, 13.16it/s]\u001b[A\n",
            "Eval:  97%|█████████▋| 31/32 [00:02<00:00, 13.24it/s]\u001b[A\n",
            "Epoch 1:  59%|█████▉    | 19/32 [00:13<00:15,  1.16s/batch, loss=0.0471]"
          ]
        },
        {
          "output_type": "stream",
          "name": "stdout",
          "text": [
            "1\n"
          ]
        },
        {
          "output_type": "stream",
          "name": "stderr",
          "text": [
            "Epoch 1:  75%|███████▌  | 24/32 [00:15<00:03,  2.28batch/s, loss=0.0233]\n",
            "Eval:   0%|          | 0/32 [00:00<?, ?it/s]\u001b[A\n",
            "Eval:   3%|▎         | 1/32 [00:00<00:07,  4.03it/s]\u001b[A\n",
            "Eval:   9%|▉         | 3/32 [00:00<00:03,  8.28it/s]\u001b[A\n",
            "Eval:  16%|█▌        | 5/32 [00:00<00:02, 10.57it/s]\u001b[A\n",
            "Eval:  22%|██▏       | 7/32 [00:00<00:02, 11.48it/s]\u001b[A\n",
            "Eval:  28%|██▊       | 9/32 [00:00<00:01, 11.90it/s]\u001b[A\n",
            "Eval:  34%|███▍      | 11/32 [00:01<00:01, 12.24it/s]\u001b[A\n",
            "Eval:  41%|████      | 13/32 [00:01<00:01, 12.67it/s]\u001b[A\n",
            "Eval:  47%|████▋     | 15/32 [00:01<00:01, 12.84it/s]\u001b[A\n",
            "Eval:  53%|█████▎    | 17/32 [00:01<00:01, 13.07it/s]\u001b[A\n",
            "Eval:  59%|█████▉    | 19/32 [00:01<00:00, 13.17it/s]\u001b[A\n",
            "Eval:  66%|██████▌   | 21/32 [00:01<00:00, 13.38it/s]\u001b[A\n",
            "Eval:  72%|███████▏  | 23/32 [00:01<00:00, 13.46it/s]\u001b[A\n",
            "Eval:  78%|███████▊  | 25/32 [00:02<00:00, 13.49it/s]\u001b[A\n",
            "Eval:  84%|████████▍ | 27/32 [00:02<00:00, 13.38it/s]\u001b[A\n",
            "Eval:  91%|█████████ | 29/32 [00:02<00:00, 13.23it/s]\u001b[A\n",
            "Eval:  97%|█████████▋| 31/32 [00:02<00:00, 13.23it/s]\u001b[A\n",
            "Epoch 1:  78%|███████▊  | 25/32 [00:17<00:08,  1.19s/batch, loss=0.0233]"
          ]
        },
        {
          "output_type": "stream",
          "name": "stdout",
          "text": [
            "1\n"
          ]
        },
        {
          "output_type": "stream",
          "name": "stderr",
          "text": [
            "Epoch 1:  94%|█████████▍| 30/32 [00:19<00:00,  2.41batch/s, loss=0.368]\n",
            "Eval:   0%|          | 0/32 [00:00<?, ?it/s]\u001b[A\n",
            "Eval:   3%|▎         | 1/32 [00:00<00:07,  4.20it/s]\u001b[A\n",
            "Eval:   9%|▉         | 3/32 [00:00<00:03,  8.45it/s]\u001b[A\n",
            "Eval:  16%|█▌        | 5/32 [00:00<00:02, 10.72it/s]\u001b[A\n",
            "Eval:  22%|██▏       | 7/32 [00:00<00:02, 11.71it/s]\u001b[A\n",
            "Eval:  28%|██▊       | 9/32 [00:00<00:01, 12.28it/s]\u001b[A\n",
            "Eval:  34%|███▍      | 11/32 [00:00<00:01, 12.62it/s]\u001b[A\n",
            "Eval:  41%|████      | 13/32 [00:01<00:01, 12.89it/s]\u001b[A\n",
            "Eval:  47%|████▋     | 15/32 [00:01<00:01, 13.07it/s]\u001b[A\n",
            "Eval:  53%|█████▎    | 17/32 [00:01<00:01, 13.16it/s]\u001b[A\n",
            "Eval:  59%|█████▉    | 19/32 [00:01<00:00, 13.20it/s]\u001b[A\n",
            "Eval:  66%|██████▌   | 21/32 [00:01<00:00, 13.48it/s]\u001b[A\n",
            "Eval:  72%|███████▏  | 23/32 [00:01<00:00, 13.50it/s]\u001b[A\n",
            "Eval:  78%|███████▊  | 25/32 [00:02<00:00, 13.55it/s]\u001b[A\n",
            "Eval:  84%|████████▍ | 27/32 [00:02<00:00, 13.43it/s]\u001b[A\n",
            "Eval:  91%|█████████ | 29/32 [00:02<00:00, 13.31it/s]\u001b[A\n",
            "Eval:  97%|█████████▋| 31/32 [00:02<00:00, 13.36it/s]\u001b[A\n",
            "Epoch 1: 100%|██████████| 32/32 [00:22<00:00,  1.17batch/s, loss=0.24]"
          ]
        },
        {
          "output_type": "stream",
          "name": "stdout",
          "text": [
            "1\n"
          ]
        },
        {
          "output_type": "stream",
          "name": "stderr",
          "text": [
            "Epoch 1: 100%|██████████| 32/32 [00:22<00:00,  1.44batch/s, loss=0.24]\n",
            "Epoch 2:  19%|█▉        | 6/32 [00:02<00:07,  3.66batch/s, loss=0.0306]\n",
            "Eval:   0%|          | 0/32 [00:00<?, ?it/s]\u001b[A\n",
            "Eval:   3%|▎         | 1/32 [00:00<00:07,  3.96it/s]\u001b[A\n",
            "Eval:   9%|▉         | 3/32 [00:00<00:03,  8.20it/s]\u001b[A\n",
            "Eval:  16%|█▌        | 5/32 [00:00<00:02, 10.49it/s]\u001b[A\n",
            "Eval:  22%|██▏       | 7/32 [00:00<00:02, 11.52it/s]\u001b[A\n",
            "Eval:  28%|██▊       | 9/32 [00:00<00:01, 12.21it/s]\u001b[A\n",
            "Eval:  34%|███▍      | 11/32 [00:00<00:01, 12.56it/s]\u001b[A\n",
            "Eval:  41%|████      | 13/32 [00:01<00:01, 12.94it/s]\u001b[A\n",
            "Eval:  47%|████▋     | 15/32 [00:01<00:01, 13.07it/s]\u001b[A\n",
            "Eval:  53%|█████▎    | 17/32 [00:01<00:01, 13.26it/s]\u001b[A\n",
            "Eval:  59%|█████▉    | 19/32 [00:01<00:00, 13.29it/s]\u001b[A\n",
            "Eval:  66%|██████▌   | 21/32 [00:01<00:00, 13.38it/s]\u001b[A\n",
            "Eval:  72%|███████▏  | 23/32 [00:01<00:00, 13.48it/s]\u001b[A\n",
            "Eval:  78%|███████▊  | 25/32 [00:02<00:00, 13.44it/s]\u001b[A\n",
            "Eval:  84%|████████▍ | 27/32 [00:02<00:00, 13.28it/s]\u001b[A\n",
            "Eval:  91%|█████████ | 29/32 [00:02<00:00, 13.31it/s]\u001b[A\n",
            "Eval:  97%|█████████▋| 31/32 [00:02<00:00, 13.36it/s]\u001b[A\n",
            "Epoch 2:  22%|██▏       | 7/32 [00:04<00:28,  1.13s/batch, loss=0.0306]"
          ]
        },
        {
          "output_type": "stream",
          "name": "stdout",
          "text": [
            "2\n"
          ]
        },
        {
          "output_type": "stream",
          "name": "stderr",
          "text": [
            "Epoch 2:  38%|███▊      | 12/32 [00:06<00:08,  2.45batch/s, loss=0.104]\n",
            "Eval:   0%|          | 0/32 [00:00<?, ?it/s]\u001b[A\n",
            "Eval:   3%|▎         | 1/32 [00:00<00:06,  4.46it/s]\u001b[A\n",
            "Eval:   9%|▉         | 3/32 [00:00<00:03,  8.67it/s]\u001b[A\n",
            "Eval:  16%|█▌        | 5/32 [00:00<00:02, 10.86it/s]\u001b[A\n",
            "Eval:  22%|██▏       | 7/32 [00:00<00:02, 11.90it/s]\u001b[A\n",
            "Eval:  28%|██▊       | 9/32 [00:00<00:01, 12.47it/s]\u001b[A\n",
            "Eval:  34%|███▍      | 11/32 [00:00<00:01, 12.79it/s]\u001b[A\n",
            "Eval:  41%|████      | 13/32 [00:01<00:01, 13.14it/s]\u001b[A\n",
            "Eval:  47%|████▋     | 15/32 [00:01<00:01, 13.27it/s]\u001b[A\n",
            "Eval:  53%|█████▎    | 17/32 [00:01<00:01, 13.39it/s]\u001b[A\n",
            "Eval:  59%|█████▉    | 19/32 [00:01<00:00, 13.38it/s]\u001b[A\n",
            "Eval:  66%|██████▌   | 21/32 [00:01<00:00, 13.55it/s]\u001b[A\n",
            "Eval:  72%|███████▏  | 23/32 [00:01<00:00, 13.60it/s]\u001b[A\n",
            "Eval:  78%|███████▊  | 25/32 [00:01<00:00, 13.58it/s]\u001b[A\n",
            "Eval:  84%|████████▍ | 27/32 [00:02<00:00, 13.53it/s]\u001b[A\n",
            "Eval:  91%|█████████ | 29/32 [00:02<00:00, 13.54it/s]\u001b[A\n",
            "Eval:  97%|█████████▋| 31/32 [00:02<00:00, 13.54it/s]\u001b[A\n",
            "Epoch 2:  41%|████      | 13/32 [00:08<00:21,  1.14s/batch, loss=0.104]"
          ]
        },
        {
          "output_type": "stream",
          "name": "stdout",
          "text": [
            "2\n"
          ]
        },
        {
          "output_type": "stream",
          "name": "stderr",
          "text": [
            "Epoch 2:  56%|█████▋    | 18/32 [00:10<00:05,  2.41batch/s, loss=0.426] \n",
            "Eval:   0%|          | 0/32 [00:00<?, ?it/s]\u001b[A\n",
            "Eval:   3%|▎         | 1/32 [00:00<00:07,  4.31it/s]\u001b[A\n",
            "Eval:   9%|▉         | 3/32 [00:00<00:03,  8.45it/s]\u001b[A\n",
            "Eval:  16%|█▌        | 5/32 [00:00<00:02, 10.69it/s]\u001b[A\n",
            "Eval:  22%|██▏       | 7/32 [00:00<00:02, 11.74it/s]\u001b[A\n",
            "Eval:  28%|██▊       | 9/32 [00:00<00:01, 12.31it/s]\u001b[A\n",
            "Eval:  34%|███▍      | 11/32 [00:00<00:01, 12.59it/s]\u001b[A\n",
            "Eval:  41%|████      | 13/32 [00:01<00:01, 13.05it/s]\u001b[A\n",
            "Eval:  47%|████▋     | 15/32 [00:01<00:01, 13.20it/s]\u001b[A\n",
            "Eval:  53%|█████▎    | 17/32 [00:01<00:01, 13.34it/s]\u001b[A\n",
            "Eval:  59%|█████▉    | 19/32 [00:01<00:00, 13.41it/s]\u001b[A\n",
            "Eval:  66%|██████▌   | 21/32 [00:01<00:00, 13.65it/s]\u001b[A\n",
            "Eval:  72%|███████▏  | 23/32 [00:01<00:00, 13.70it/s]\u001b[A\n",
            "Eval:  78%|███████▊  | 25/32 [00:01<00:00, 13.68it/s]\u001b[A\n",
            "Eval:  84%|████████▍ | 27/32 [00:02<00:00, 13.55it/s]\u001b[A\n",
            "Eval:  91%|█████████ | 29/32 [00:02<00:00, 13.52it/s]\u001b[A\n",
            "Eval:  97%|█████████▋| 31/32 [00:02<00:00, 13.55it/s]\u001b[A\n",
            "Epoch 2:  59%|█████▉    | 19/32 [00:13<00:14,  1.15s/batch, loss=0.426]"
          ]
        },
        {
          "output_type": "stream",
          "name": "stdout",
          "text": [
            "2\n"
          ]
        },
        {
          "output_type": "stream",
          "name": "stderr",
          "text": [
            "Epoch 2:  75%|███████▌  | 24/32 [00:14<00:03,  2.43batch/s, loss=0.0248]\n",
            "Eval:   0%|          | 0/32 [00:00<?, ?it/s]\u001b[A\n",
            "Eval:   3%|▎         | 1/32 [00:00<00:06,  4.61it/s]\u001b[A\n",
            "Eval:   9%|▉         | 3/32 [00:00<00:03,  9.11it/s]\u001b[A\n",
            "Eval:  16%|█▌        | 5/32 [00:00<00:02, 11.21it/s]\u001b[A\n",
            "Eval:  22%|██▏       | 7/32 [00:00<00:02, 12.20it/s]\u001b[A\n",
            "Eval:  28%|██▊       | 9/32 [00:00<00:01, 12.68it/s]\u001b[A\n",
            "Eval:  34%|███▍      | 11/32 [00:00<00:01, 12.90it/s]\u001b[A\n",
            "Eval:  41%|████      | 13/32 [00:01<00:01, 13.21it/s]\u001b[A\n",
            "Eval:  47%|████▋     | 15/32 [00:01<00:01, 13.33it/s]\u001b[A\n",
            "Eval:  53%|█████▎    | 17/32 [00:01<00:01, 13.44it/s]\u001b[A\n",
            "Eval:  59%|█████▉    | 19/32 [00:01<00:00, 13.50it/s]\u001b[A\n",
            "Eval:  66%|██████▌   | 21/32 [00:01<00:00, 13.73it/s]\u001b[A\n",
            "Eval:  72%|███████▏  | 23/32 [00:01<00:00, 13.75it/s]\u001b[A\n",
            "Eval:  78%|███████▊  | 25/32 [00:01<00:00, 13.69it/s]\u001b[A\n",
            "Eval:  84%|████████▍ | 27/32 [00:02<00:00, 13.59it/s]\u001b[A\n",
            "Eval:  91%|█████████ | 29/32 [00:02<00:00, 13.59it/s]\u001b[A\n",
            "Eval:  97%|█████████▋| 31/32 [00:02<00:00, 13.60it/s]\u001b[A\n",
            "Epoch 2:  78%|███████▊  | 25/32 [00:17<00:07,  1.13s/batch, loss=0.0248]"
          ]
        },
        {
          "output_type": "stream",
          "name": "stdout",
          "text": [
            "2\n"
          ]
        },
        {
          "output_type": "stream",
          "name": "stderr",
          "text": [
            "Epoch 2:  94%|█████████▍| 30/32 [00:18<00:00,  2.38batch/s, loss=0.145] \n",
            "Eval:   0%|          | 0/32 [00:00<?, ?it/s]\u001b[A\n",
            "Eval:   3%|▎         | 1/32 [00:00<00:06,  4.53it/s]\u001b[A\n",
            "Eval:   9%|▉         | 3/32 [00:00<00:03,  8.82it/s]\u001b[A\n",
            "Eval:  16%|█▌        | 5/32 [00:00<00:02, 11.03it/s]\u001b[A\n",
            "Eval:  22%|██▏       | 7/32 [00:00<00:02, 12.04it/s]\u001b[A\n",
            "Eval:  28%|██▊       | 9/32 [00:00<00:01, 12.47it/s]\u001b[A\n",
            "Eval:  34%|███▍      | 11/32 [00:00<00:01, 12.80it/s]\u001b[A\n",
            "Eval:  41%|████      | 13/32 [00:01<00:01, 13.14it/s]\u001b[A\n",
            "Eval:  47%|████▋     | 15/32 [00:01<00:01, 13.16it/s]\u001b[A\n",
            "Eval:  53%|█████▎    | 17/32 [00:01<00:01, 13.32it/s]\u001b[A\n",
            "Eval:  59%|█████▉    | 19/32 [00:01<00:00, 13.34it/s]\u001b[A\n",
            "Eval:  66%|██████▌   | 21/32 [00:01<00:00, 13.50it/s]\u001b[A\n",
            "Eval:  72%|███████▏  | 23/32 [00:01<00:00, 13.59it/s]\u001b[A\n",
            "Eval:  78%|███████▊  | 25/32 [00:01<00:00, 13.56it/s]\u001b[A\n",
            "Eval:  84%|████████▍ | 27/32 [00:02<00:00, 13.46it/s]\u001b[A\n",
            "Eval:  91%|█████████ | 29/32 [00:02<00:00, 13.47it/s]\u001b[A\n",
            "Eval:  97%|█████████▋| 31/32 [00:02<00:00, 13.53it/s]\u001b[A\n",
            "Epoch 2: 100%|██████████| 32/32 [00:21<00:00,  1.17batch/s, loss=0.017]"
          ]
        },
        {
          "output_type": "stream",
          "name": "stdout",
          "text": [
            "2\n"
          ]
        },
        {
          "output_type": "stream",
          "name": "stderr",
          "text": [
            "Epoch 2: 100%|██████████| 32/32 [00:21<00:00,  1.47batch/s, loss=0.017]\n",
            "Epoch 3:  19%|█▉        | 6/32 [00:02<00:07,  3.36batch/s, loss=0.00537]\n",
            "Eval:   0%|          | 0/32 [00:00<?, ?it/s]\u001b[A\n",
            "Eval:   3%|▎         | 1/32 [00:00<00:06,  4.62it/s]\u001b[A\n",
            "Eval:   9%|▉         | 3/32 [00:00<00:03,  8.99it/s]\u001b[A\n",
            "Eval:  16%|█▌        | 5/32 [00:00<00:02, 11.08it/s]\u001b[A\n",
            "Eval:  22%|██▏       | 7/32 [00:00<00:02, 12.10it/s]\u001b[A\n",
            "Eval:  28%|██▊       | 9/32 [00:00<00:01, 12.59it/s]\u001b[A\n",
            "Eval:  34%|███▍      | 11/32 [00:00<00:01, 12.85it/s]\u001b[A\n",
            "Eval:  41%|████      | 13/32 [00:01<00:01, 13.21it/s]\u001b[A\n",
            "Eval:  47%|████▋     | 15/32 [00:01<00:01, 13.33it/s]\u001b[A\n",
            "Eval:  53%|█████▎    | 17/32 [00:01<00:01, 13.39it/s]\u001b[A\n",
            "Eval:  59%|█████▉    | 19/32 [00:01<00:00, 13.44it/s]\u001b[A\n",
            "Eval:  66%|██████▌   | 21/32 [00:01<00:00, 13.65it/s]\u001b[A\n",
            "Eval:  72%|███████▏  | 23/32 [00:01<00:00, 13.72it/s]\u001b[A\n",
            "Eval:  78%|███████▊  | 25/32 [00:01<00:00, 13.67it/s]\u001b[A\n",
            "Eval:  84%|████████▍ | 27/32 [00:02<00:00, 13.60it/s]\u001b[A\n",
            "Eval:  91%|█████████ | 29/32 [00:02<00:00, 13.59it/s]\u001b[A\n",
            "Eval:  97%|█████████▋| 31/32 [00:02<00:00, 13.55it/s]\u001b[A\n",
            "Epoch 3:  22%|██▏       | 7/32 [00:04<00:27,  1.12s/batch, loss=0.00537]"
          ]
        },
        {
          "output_type": "stream",
          "name": "stdout",
          "text": [
            "3\n"
          ]
        },
        {
          "output_type": "stream",
          "name": "stderr",
          "text": [
            "Epoch 3:  38%|███▊      | 12/32 [00:06<00:08,  2.49batch/s, loss=0.00426]\n",
            "Eval:   0%|          | 0/32 [00:00<?, ?it/s]\u001b[A\n",
            "Eval:   3%|▎         | 1/32 [00:00<00:06,  4.62it/s]\u001b[A\n",
            "Eval:   9%|▉         | 3/32 [00:00<00:03,  8.91it/s]\u001b[A\n",
            "Eval:  16%|█▌        | 5/32 [00:00<00:02, 11.08it/s]\u001b[A\n",
            "Eval:  22%|██▏       | 7/32 [00:00<00:02, 12.08it/s]\u001b[A\n",
            "Eval:  28%|██▊       | 9/32 [00:00<00:01, 12.59it/s]\u001b[A\n",
            "Eval:  34%|███▍      | 11/32 [00:00<00:01, 12.74it/s]\u001b[A\n",
            "Eval:  41%|████      | 13/32 [00:01<00:01, 13.07it/s]\u001b[A\n",
            "Eval:  47%|████▋     | 15/32 [00:01<00:01, 13.21it/s]\u001b[A\n",
            "Eval:  53%|█████▎    | 17/32 [00:01<00:01, 13.31it/s]\u001b[A\n",
            "Eval:  59%|█████▉    | 19/32 [00:01<00:00, 13.43it/s]\u001b[A\n",
            "Eval:  66%|██████▌   | 21/32 [00:01<00:00, 13.63it/s]\u001b[A\n",
            "Eval:  72%|███████▏  | 23/32 [00:01<00:00, 13.62it/s]\u001b[A\n",
            "Eval:  78%|███████▊  | 25/32 [00:01<00:00, 13.61it/s]\u001b[A\n",
            "Eval:  84%|████████▍ | 27/32 [00:02<00:00, 13.44it/s]\u001b[A\n",
            "Eval:  91%|█████████ | 29/32 [00:02<00:00, 13.45it/s]\u001b[A\n",
            "Eval:  97%|█████████▋| 31/32 [00:02<00:00, 13.54it/s]\u001b[A\n",
            "Epoch 3:  41%|████      | 13/32 [00:08<00:21,  1.13s/batch, loss=0.00426]"
          ]
        },
        {
          "output_type": "stream",
          "name": "stdout",
          "text": [
            "3\n"
          ]
        },
        {
          "output_type": "stream",
          "name": "stderr",
          "text": [
            "Epoch 3:  56%|█████▋    | 18/32 [00:10<00:05,  2.40batch/s, loss=0.00447]\n",
            "Eval:   0%|          | 0/32 [00:00<?, ?it/s]\u001b[A\n",
            "Eval:   3%|▎         | 1/32 [00:00<00:06,  4.57it/s]\u001b[A\n",
            "Eval:   9%|▉         | 3/32 [00:00<00:03,  8.77it/s]\u001b[A\n",
            "Eval:  16%|█▌        | 5/32 [00:00<00:02, 11.00it/s]\u001b[A\n",
            "Eval:  22%|██▏       | 7/32 [00:00<00:02, 11.97it/s]\u001b[A\n",
            "Eval:  28%|██▊       | 9/32 [00:00<00:01, 12.55it/s]\u001b[A\n",
            "Eval:  34%|███▍      | 11/32 [00:00<00:01, 12.82it/s]\u001b[A\n",
            "Eval:  41%|████      | 13/32 [00:01<00:01, 13.14it/s]\u001b[A\n",
            "Eval:  47%|████▋     | 15/32 [00:01<00:01, 13.27it/s]\u001b[A\n",
            "Eval:  53%|█████▎    | 17/32 [00:01<00:01, 13.43it/s]\u001b[A\n",
            "Eval:  59%|█████▉    | 19/32 [00:01<00:00, 13.43it/s]\u001b[A\n",
            "Eval:  66%|██████▌   | 21/32 [00:01<00:00, 13.49it/s]\u001b[A\n",
            "Eval:  72%|███████▏  | 23/32 [00:01<00:00, 13.59it/s]\u001b[A\n",
            "Eval:  78%|███████▊  | 25/32 [00:01<00:00, 13.58it/s]\u001b[A\n",
            "Eval:  84%|████████▍ | 27/32 [00:02<00:00, 13.51it/s]\u001b[A\n",
            "Eval:  91%|█████████ | 29/32 [00:02<00:00, 13.55it/s]\u001b[A\n",
            "Eval:  97%|█████████▋| 31/32 [00:02<00:00, 13.61it/s]\u001b[A\n",
            "Epoch 3:  59%|█████▉    | 19/32 [00:13<00:14,  1.15s/batch, loss=0.00447]"
          ]
        },
        {
          "output_type": "stream",
          "name": "stdout",
          "text": [
            "3\n"
          ]
        },
        {
          "output_type": "stream",
          "name": "stderr",
          "text": [
            "Epoch 3:  75%|███████▌  | 24/32 [00:14<00:03,  2.36batch/s, loss=0.00169]\n",
            "Eval:   0%|          | 0/32 [00:00<?, ?it/s]\u001b[A\n",
            "Eval:   3%|▎         | 1/32 [00:00<00:06,  4.73it/s]\u001b[A\n",
            "Eval:   9%|▉         | 3/32 [00:00<00:03,  8.98it/s]\u001b[A\n",
            "Eval:  16%|█▌        | 5/32 [00:00<00:02, 11.11it/s]\u001b[A\n",
            "Eval:  22%|██▏       | 7/32 [00:00<00:02, 12.13it/s]\u001b[A\n",
            "Eval:  28%|██▊       | 9/32 [00:00<00:01, 12.67it/s]\u001b[A\n",
            "Eval:  34%|███▍      | 11/32 [00:00<00:01, 12.90it/s]\u001b[A\n",
            "Eval:  41%|████      | 13/32 [00:01<00:01, 13.22it/s]\u001b[A\n",
            "Eval:  47%|████▋     | 15/32 [00:01<00:01, 13.33it/s]\u001b[A\n",
            "Eval:  53%|█████▎    | 17/32 [00:01<00:01, 13.50it/s]\u001b[A\n",
            "Eval:  59%|█████▉    | 19/32 [00:01<00:00, 13.57it/s]\u001b[A\n",
            "Eval:  66%|██████▌   | 21/32 [00:01<00:00, 13.75it/s]\u001b[A\n",
            "Eval:  72%|███████▏  | 23/32 [00:01<00:00, 13.75it/s]\u001b[A\n",
            "Eval:  78%|███████▊  | 25/32 [00:01<00:00, 13.71it/s]\u001b[A\n",
            "Eval:  84%|████████▍ | 27/32 [00:02<00:00, 13.62it/s]\u001b[A\n",
            "Eval:  91%|█████████ | 29/32 [00:02<00:00, 13.56it/s]\u001b[A\n",
            "Eval:  97%|█████████▋| 31/32 [00:02<00:00, 13.56it/s]\u001b[A\n",
            "Epoch 3:  78%|███████▊  | 25/32 [00:17<00:08,  1.15s/batch, loss=0.00169]"
          ]
        },
        {
          "output_type": "stream",
          "name": "stdout",
          "text": [
            "3\n"
          ]
        },
        {
          "output_type": "stream",
          "name": "stderr",
          "text": [
            "Epoch 3:  94%|█████████▍| 30/32 [00:18<00:00,  2.42batch/s, loss=0.0547] \n",
            "Eval:   0%|          | 0/32 [00:00<?, ?it/s]\u001b[A\n",
            "Eval:   3%|▎         | 1/32 [00:00<00:06,  4.60it/s]\u001b[A\n",
            "Eval:   9%|▉         | 3/32 [00:00<00:03,  8.86it/s]\u001b[A\n",
            "Eval:  16%|█▌        | 5/32 [00:00<00:02, 10.96it/s]\u001b[A\n",
            "Eval:  22%|██▏       | 7/32 [00:00<00:02, 11.89it/s]\u001b[A\n",
            "Eval:  28%|██▊       | 9/32 [00:00<00:01, 12.40it/s]\u001b[A\n",
            "Eval:  34%|███▍      | 11/32 [00:00<00:01, 12.73it/s]\u001b[A\n",
            "Eval:  41%|████      | 13/32 [00:01<00:01, 13.08it/s]\u001b[A\n",
            "Eval:  47%|████▋     | 15/32 [00:01<00:01, 13.20it/s]\u001b[A\n",
            "Eval:  53%|█████▎    | 17/32 [00:01<00:01, 13.34it/s]\u001b[A\n",
            "Eval:  59%|█████▉    | 19/32 [00:01<00:00, 13.41it/s]\u001b[A\n",
            "Eval:  66%|██████▌   | 21/32 [00:01<00:00, 13.61it/s]\u001b[A\n",
            "Eval:  72%|███████▏  | 23/32 [00:01<00:00, 13.69it/s]\u001b[A\n",
            "Eval:  78%|███████▊  | 25/32 [00:01<00:00, 13.62it/s]\u001b[A\n",
            "Eval:  84%|████████▍ | 27/32 [00:02<00:00, 13.56it/s]\u001b[A\n",
            "Eval:  91%|█████████ | 29/32 [00:02<00:00, 13.53it/s]\u001b[A\n",
            "Eval:  97%|█████████▋| 31/32 [00:02<00:00, 13.59it/s]\u001b[A\n",
            "Epoch 3: 100%|██████████| 32/32 [00:21<00:00,  1.19batch/s, loss=0.00148]"
          ]
        },
        {
          "output_type": "stream",
          "name": "stdout",
          "text": [
            "3\n"
          ]
        },
        {
          "output_type": "stream",
          "name": "stderr",
          "text": [
            "Epoch 3: 100%|██████████| 32/32 [00:21<00:00,  1.48batch/s, loss=0.00148]\n",
            "Epoch 4:  19%|█▉        | 6/32 [00:02<00:07,  3.68batch/s, loss=0.00055] \n",
            "Eval:   0%|          | 0/32 [00:00<?, ?it/s]\u001b[A\n",
            "Eval:   3%|▎         | 1/32 [00:00<00:06,  4.64it/s]\u001b[A\n",
            "Eval:   9%|▉         | 3/32 [00:00<00:03,  9.02it/s]\u001b[A\n",
            "Eval:  16%|█▌        | 5/32 [00:00<00:02, 10.98it/s]\u001b[A\n",
            "Eval:  22%|██▏       | 7/32 [00:00<00:02, 11.88it/s]\u001b[A\n",
            "Eval:  28%|██▊       | 9/32 [00:00<00:01, 12.47it/s]\u001b[A\n",
            "Eval:  34%|███▍      | 11/32 [00:00<00:01, 12.82it/s]\u001b[A\n",
            "Eval:  41%|████      | 13/32 [00:01<00:01, 13.16it/s]\u001b[A\n",
            "Eval:  47%|████▋     | 15/32 [00:01<00:01, 13.32it/s]\u001b[A\n",
            "Eval:  53%|█████▎    | 17/32 [00:01<00:01, 13.47it/s]\u001b[A\n",
            "Eval:  59%|█████▉    | 19/32 [00:01<00:00, 13.50it/s]\u001b[A\n",
            "Eval:  66%|██████▌   | 21/32 [00:01<00:00, 13.64it/s]\u001b[A\n",
            "Eval:  72%|███████▏  | 23/32 [00:01<00:00, 13.66it/s]\u001b[A\n",
            "Eval:  78%|███████▊  | 25/32 [00:01<00:00, 13.65it/s]\u001b[A\n",
            "Eval:  84%|████████▍ | 27/32 [00:02<00:00, 13.57it/s]\u001b[A\n",
            "Eval:  91%|█████████ | 29/32 [00:02<00:00, 13.58it/s]\u001b[A\n",
            "Eval:  97%|█████████▋| 31/32 [00:02<00:00, 13.52it/s]\u001b[A\n",
            "Epoch 4:  22%|██▏       | 7/32 [00:04<00:27,  1.12s/batch, loss=0.00055]"
          ]
        },
        {
          "output_type": "stream",
          "name": "stdout",
          "text": [
            "4\n"
          ]
        },
        {
          "output_type": "stream",
          "name": "stderr",
          "text": [
            "Epoch 4:  38%|███▊      | 12/32 [00:06<00:07,  2.53batch/s, loss=0.0395]  \n",
            "Eval:   0%|          | 0/32 [00:00<?, ?it/s]\u001b[A\n",
            "Eval:   3%|▎         | 1/32 [00:00<00:07,  4.30it/s]\u001b[A\n",
            "Eval:   9%|▉         | 3/32 [00:00<00:03,  8.58it/s]\u001b[A\n",
            "Eval:  16%|█▌        | 5/32 [00:00<00:02, 10.78it/s]\u001b[A\n",
            "Eval:  22%|██▏       | 7/32 [00:00<00:02, 11.88it/s]\u001b[A\n",
            "Eval:  28%|██▊       | 9/32 [00:00<00:01, 12.46it/s]\u001b[A\n",
            "Eval:  34%|███▍      | 11/32 [00:00<00:01, 12.70it/s]\u001b[A\n",
            "Eval:  41%|████      | 13/32 [00:01<00:01, 13.01it/s]\u001b[A\n",
            "Eval:  47%|████▋     | 15/32 [00:01<00:01, 13.16it/s]\u001b[A\n",
            "Eval:  53%|█████▎    | 17/32 [00:01<00:01, 13.32it/s]\u001b[A\n",
            "Eval:  59%|█████▉    | 19/32 [00:01<00:00, 13.43it/s]\u001b[A\n",
            "Eval:  66%|██████▌   | 21/32 [00:01<00:00, 13.70it/s]\u001b[A\n",
            "Eval:  72%|███████▏  | 23/32 [00:01<00:00, 13.73it/s]\u001b[A\n",
            "Eval:  78%|███████▊  | 25/32 [00:01<00:00, 13.65it/s]\u001b[A\n",
            "Eval:  84%|████████▍ | 27/32 [00:02<00:00, 13.56it/s]\u001b[A\n",
            "Eval:  91%|█████████ | 29/32 [00:02<00:00, 13.57it/s]\u001b[A\n",
            "Eval:  97%|█████████▋| 31/32 [00:02<00:00, 13.55it/s]\u001b[A\n",
            "Epoch 4:  41%|████      | 13/32 [00:08<00:21,  1.13s/batch, loss=0.0395]"
          ]
        },
        {
          "output_type": "stream",
          "name": "stdout",
          "text": [
            "4\n"
          ]
        },
        {
          "output_type": "stream",
          "name": "stderr",
          "text": [
            "Epoch 4:  56%|█████▋    | 18/32 [00:10<00:05,  2.35batch/s, loss=0.00101] \n",
            "Eval:   0%|          | 0/32 [00:00<?, ?it/s]\u001b[A\n",
            "Eval:   3%|▎         | 1/32 [00:00<00:07,  4.42it/s]\u001b[A\n",
            "Eval:   9%|▉         | 3/32 [00:00<00:03,  8.81it/s]\u001b[A\n",
            "Eval:  16%|█▌        | 5/32 [00:00<00:02, 10.88it/s]\u001b[A\n",
            "Eval:  22%|██▏       | 7/32 [00:00<00:02, 11.91it/s]\u001b[A\n",
            "Eval:  28%|██▊       | 9/32 [00:00<00:01, 12.46it/s]\u001b[A\n",
            "Eval:  34%|███▍      | 11/32 [00:00<00:01, 12.74it/s]\u001b[A\n",
            "Eval:  41%|████      | 13/32 [00:01<00:01, 13.11it/s]\u001b[A\n",
            "Eval:  47%|████▋     | 15/32 [00:01<00:01, 13.20it/s]\u001b[A\n",
            "Eval:  53%|█████▎    | 17/32 [00:01<00:01, 13.34it/s]\u001b[A\n",
            "Eval:  59%|█████▉    | 19/32 [00:01<00:00, 13.44it/s]\u001b[A\n",
            "Eval:  66%|██████▌   | 21/32 [00:01<00:00, 13.70it/s]\u001b[A\n",
            "Eval:  72%|███████▏  | 23/32 [00:01<00:00, 13.72it/s]\u001b[A\n",
            "Eval:  78%|███████▊  | 25/32 [00:01<00:00, 13.64it/s]\u001b[A\n",
            "Eval:  84%|████████▍ | 27/32 [00:02<00:00, 13.54it/s]\u001b[A\n",
            "Eval:  91%|█████████ | 29/32 [00:02<00:00, 13.54it/s]\u001b[A\n",
            "Eval:  97%|█████████▋| 31/32 [00:02<00:00, 13.55it/s]\u001b[A\n",
            "Epoch 4:  59%|█████▉    | 19/32 [00:12<00:14,  1.15s/batch, loss=0.00101]"
          ]
        },
        {
          "output_type": "stream",
          "name": "stdout",
          "text": [
            "4\n"
          ]
        },
        {
          "output_type": "stream",
          "name": "stderr",
          "text": [
            "Epoch 4:  75%|███████▌  | 24/32 [00:14<00:03,  2.38batch/s, loss=0.00121]\n",
            "Eval:   0%|          | 0/32 [00:00<?, ?it/s]\u001b[A\n",
            "Eval:   3%|▎         | 1/32 [00:00<00:07,  4.39it/s]\u001b[A\n",
            "Eval:   9%|▉         | 3/32 [00:00<00:03,  8.67it/s]\u001b[A\n",
            "Eval:  16%|█▌        | 5/32 [00:00<00:02, 10.92it/s]\u001b[A\n",
            "Eval:  22%|██▏       | 7/32 [00:00<00:02, 12.00it/s]\u001b[A\n",
            "Eval:  28%|██▊       | 9/32 [00:00<00:01, 12.53it/s]\u001b[A\n",
            "Eval:  34%|███▍      | 11/32 [00:00<00:01, 12.81it/s]\u001b[A\n",
            "Eval:  41%|████      | 13/32 [00:01<00:01, 13.18it/s]\u001b[A\n",
            "Eval:  47%|████▋     | 15/32 [00:01<00:01, 13.32it/s]\u001b[A\n",
            "Eval:  53%|█████▎    | 17/32 [00:01<00:01, 13.48it/s]\u001b[A\n",
            "Eval:  59%|█████▉    | 19/32 [00:01<00:00, 13.55it/s]\u001b[A\n",
            "Eval:  66%|██████▌   | 21/32 [00:01<00:00, 13.79it/s]\u001b[A\n",
            "Eval:  72%|███████▏  | 23/32 [00:01<00:00, 13.80it/s]\u001b[A\n",
            "Eval:  78%|███████▊  | 25/32 [00:01<00:00, 13.77it/s]\u001b[A\n",
            "Eval:  84%|████████▍ | 27/32 [00:02<00:00, 13.63it/s]\u001b[A\n",
            "Eval:  91%|█████████ | 29/32 [00:02<00:00, 13.60it/s]\u001b[A\n",
            "Eval:  97%|█████████▋| 31/32 [00:02<00:00, 13.62it/s]\u001b[A\n",
            "Epoch 4:  78%|███████▊  | 25/32 [00:17<00:07,  1.14s/batch, loss=0.00121]"
          ]
        },
        {
          "output_type": "stream",
          "name": "stdout",
          "text": [
            "4\n"
          ]
        },
        {
          "output_type": "stream",
          "name": "stderr",
          "text": [
            "Epoch 4:  94%|█████████▍| 30/32 [00:18<00:00,  2.35batch/s, loss=0.00128]\n",
            "Eval:   0%|          | 0/32 [00:00<?, ?it/s]\u001b[A\n",
            "Eval:   3%|▎         | 1/32 [00:00<00:07,  4.41it/s]\u001b[A\n",
            "Eval:   9%|▉         | 3/32 [00:00<00:03,  8.84it/s]\u001b[A\n",
            "Eval:  16%|█▌        | 5/32 [00:00<00:02, 10.91it/s]\u001b[A\n",
            "Eval:  22%|██▏       | 7/32 [00:00<00:02, 11.95it/s]\u001b[A\n",
            "Eval:  28%|██▊       | 9/32 [00:00<00:01, 12.52it/s]\u001b[A\n",
            "Eval:  34%|███▍      | 11/32 [00:00<00:01, 12.84it/s]\u001b[A\n",
            "Eval:  41%|████      | 13/32 [00:01<00:01, 13.17it/s]\u001b[A\n",
            "Eval:  47%|████▋     | 15/32 [00:01<00:01, 13.24it/s]\u001b[A\n",
            "Eval:  53%|█████▎    | 17/32 [00:01<00:01, 13.36it/s]\u001b[A\n",
            "Eval:  59%|█████▉    | 19/32 [00:01<00:00, 13.43it/s]\u001b[A\n",
            "Eval:  66%|██████▌   | 21/32 [00:01<00:00, 13.65it/s]\u001b[A\n",
            "Eval:  72%|███████▏  | 23/32 [00:01<00:00, 13.64it/s]\u001b[A\n",
            "Eval:  78%|███████▊  | 25/32 [00:01<00:00, 13.53it/s]\u001b[A\n",
            "Eval:  84%|████████▍ | 27/32 [00:02<00:00, 13.46it/s]\u001b[A\n",
            "Eval:  91%|█████████ | 29/32 [00:02<00:00, 13.44it/s]\u001b[A\n",
            "Eval:  97%|█████████▋| 31/32 [00:02<00:00, 13.54it/s]\u001b[A\n",
            "Epoch 4: 100%|██████████| 32/32 [00:21<00:00,  1.17batch/s, loss=0.000469]"
          ]
        },
        {
          "output_type": "stream",
          "name": "stdout",
          "text": [
            "4\n"
          ]
        },
        {
          "output_type": "stream",
          "name": "stderr",
          "text": [
            "\rEpoch 4: 100%|██████████| 32/32 [00:21<00:00,  1.48batch/s, loss=0.000469]\n"
          ]
        }
      ],
      "source": [
        "train_batch_size=32\n",
        "eval_batch_size=32\n",
        "\n",
        "train_loader = torch.utils.data.DataLoader(train_dataset,\n",
        "                                           batch_size=train_batch_size,\n",
        "                                           shuffle=True, collate_fn=collate_fn_style,\n",
        "                                           pin_memory=True, num_workers=2)\n",
        "dev_loader = torch.utils.data.DataLoader(dev_dataset, batch_size=eval_batch_size,\n",
        "                                         shuffle=False, collate_fn=collate_fn_style,\n",
        "                                         num_workers=2)\n",
        "\n",
        "# 경로설정\n",
        "output_path = '/content/drive/MyDrive/Goorm_Deep_Learning/Projects/project1/checkpoints/'\n",
        "#resume_path = '/content/drive/MyDrive/Colab Notebooks/NLP/project/checkpoints/checkpoint_epoch_1.13850.pth'\n",
        "\n",
        "lr = 5e-5 #5e-5\n",
        "last_epoch = 5\n",
        "\n",
        "trainer = Trainer(device,output_path,lr,None)\n",
        "trainer.training(train_loader, dev_loader, last_epoch)\n"
      ]
    },
    {
      "cell_type": "code",
      "source": [
        "#For Learning curve \n",
        "import pandas as pd\n",
        "\n",
        "# float형은 소수점 이하 두 자리로 출력\n",
        "pd.set_option('precision', 2)\n",
        "\n",
        "# 저장해놓은 trainig,validation의 loss, accuray 로 데이터 프레임 생성\n",
        "df_stats = pd.DataFrame(data=trainer.training_stats)\n",
        "\n",
        "df_stats"
      ],
      "metadata": {
        "colab": {
          "base_uri": "https://localhost:8080/",
          "height": 833
        },
        "id": "FJ40U7caWP-G",
        "outputId": "0dda8295-ba4f-4b2c-d8b2-d2e6a03466fd"
      },
      "execution_count": 52,
      "outputs": [
        {
          "output_type": "execute_result",
          "data": {
            "text/plain": [
              "    epoch  iteration  Training Loss  Valid Loss  Valid Accuracy\n",
              "0       1          6           0.73        0.70            0.50\n",
              "1       1         12           1.05        0.77            0.49\n",
              "2       1         18           1.48        0.85            0.49\n",
              "3       1         24           2.22        1.12            0.50\n",
              "4       1         30           2.34        1.29            0.50\n",
              "5       2          6           4.93        2.46            0.50\n",
              "6       2         12           4.46        2.10            0.50\n",
              "7       2         18           5.10        2.34            0.50\n",
              "8       2         24           5.34        2.44            0.50\n",
              "9       2         30           4.99        2.26            0.50\n",
              "10      3          6           4.94        2.22            0.50\n",
              "11      3         12           5.72        2.81            0.50\n",
              "12      3         18           3.10        1.78            0.50\n",
              "13      3         24           5.47        2.74            0.50\n",
              "14      3         30           5.48        2.47            0.50\n",
              "15      4          6           6.98        3.40            0.50\n",
              "16      4         12           6.68        3.22            0.50\n",
              "17      4         18           6.38        3.07            0.50\n",
              "18      4         24           7.01        3.33            0.50\n",
              "19      4         30           7.46        3.60            0.50\n",
              "20      5          6           7.71        3.69            0.50\n",
              "21      5         12           8.01        3.86            0.50\n",
              "22      5         18           8.23        4.10            0.50\n",
              "23      5         24           8.52        4.17            0.50\n",
              "24      5         30           7.69        3.53            0.50"
            ],
            "text/html": [
              "\n",
              "  <div id=\"df-fcebff73-1358-40fd-9deb-380fb6faf5fc\">\n",
              "    <div class=\"colab-df-container\">\n",
              "      <div>\n",
              "<style scoped>\n",
              "    .dataframe tbody tr th:only-of-type {\n",
              "        vertical-align: middle;\n",
              "    }\n",
              "\n",
              "    .dataframe tbody tr th {\n",
              "        vertical-align: top;\n",
              "    }\n",
              "\n",
              "    .dataframe thead th {\n",
              "        text-align: right;\n",
              "    }\n",
              "</style>\n",
              "<table border=\"1\" class=\"dataframe\">\n",
              "  <thead>\n",
              "    <tr style=\"text-align: right;\">\n",
              "      <th></th>\n",
              "      <th>epoch</th>\n",
              "      <th>iteration</th>\n",
              "      <th>Training Loss</th>\n",
              "      <th>Valid Loss</th>\n",
              "      <th>Valid Accuracy</th>\n",
              "    </tr>\n",
              "  </thead>\n",
              "  <tbody>\n",
              "    <tr>\n",
              "      <th>0</th>\n",
              "      <td>1</td>\n",
              "      <td>6</td>\n",
              "      <td>0.73</td>\n",
              "      <td>0.70</td>\n",
              "      <td>0.50</td>\n",
              "    </tr>\n",
              "    <tr>\n",
              "      <th>1</th>\n",
              "      <td>1</td>\n",
              "      <td>12</td>\n",
              "      <td>1.05</td>\n",
              "      <td>0.77</td>\n",
              "      <td>0.49</td>\n",
              "    </tr>\n",
              "    <tr>\n",
              "      <th>2</th>\n",
              "      <td>1</td>\n",
              "      <td>18</td>\n",
              "      <td>1.48</td>\n",
              "      <td>0.85</td>\n",
              "      <td>0.49</td>\n",
              "    </tr>\n",
              "    <tr>\n",
              "      <th>3</th>\n",
              "      <td>1</td>\n",
              "      <td>24</td>\n",
              "      <td>2.22</td>\n",
              "      <td>1.12</td>\n",
              "      <td>0.50</td>\n",
              "    </tr>\n",
              "    <tr>\n",
              "      <th>4</th>\n",
              "      <td>1</td>\n",
              "      <td>30</td>\n",
              "      <td>2.34</td>\n",
              "      <td>1.29</td>\n",
              "      <td>0.50</td>\n",
              "    </tr>\n",
              "    <tr>\n",
              "      <th>5</th>\n",
              "      <td>2</td>\n",
              "      <td>6</td>\n",
              "      <td>4.93</td>\n",
              "      <td>2.46</td>\n",
              "      <td>0.50</td>\n",
              "    </tr>\n",
              "    <tr>\n",
              "      <th>6</th>\n",
              "      <td>2</td>\n",
              "      <td>12</td>\n",
              "      <td>4.46</td>\n",
              "      <td>2.10</td>\n",
              "      <td>0.50</td>\n",
              "    </tr>\n",
              "    <tr>\n",
              "      <th>7</th>\n",
              "      <td>2</td>\n",
              "      <td>18</td>\n",
              "      <td>5.10</td>\n",
              "      <td>2.34</td>\n",
              "      <td>0.50</td>\n",
              "    </tr>\n",
              "    <tr>\n",
              "      <th>8</th>\n",
              "      <td>2</td>\n",
              "      <td>24</td>\n",
              "      <td>5.34</td>\n",
              "      <td>2.44</td>\n",
              "      <td>0.50</td>\n",
              "    </tr>\n",
              "    <tr>\n",
              "      <th>9</th>\n",
              "      <td>2</td>\n",
              "      <td>30</td>\n",
              "      <td>4.99</td>\n",
              "      <td>2.26</td>\n",
              "      <td>0.50</td>\n",
              "    </tr>\n",
              "    <tr>\n",
              "      <th>10</th>\n",
              "      <td>3</td>\n",
              "      <td>6</td>\n",
              "      <td>4.94</td>\n",
              "      <td>2.22</td>\n",
              "      <td>0.50</td>\n",
              "    </tr>\n",
              "    <tr>\n",
              "      <th>11</th>\n",
              "      <td>3</td>\n",
              "      <td>12</td>\n",
              "      <td>5.72</td>\n",
              "      <td>2.81</td>\n",
              "      <td>0.50</td>\n",
              "    </tr>\n",
              "    <tr>\n",
              "      <th>12</th>\n",
              "      <td>3</td>\n",
              "      <td>18</td>\n",
              "      <td>3.10</td>\n",
              "      <td>1.78</td>\n",
              "      <td>0.50</td>\n",
              "    </tr>\n",
              "    <tr>\n",
              "      <th>13</th>\n",
              "      <td>3</td>\n",
              "      <td>24</td>\n",
              "      <td>5.47</td>\n",
              "      <td>2.74</td>\n",
              "      <td>0.50</td>\n",
              "    </tr>\n",
              "    <tr>\n",
              "      <th>14</th>\n",
              "      <td>3</td>\n",
              "      <td>30</td>\n",
              "      <td>5.48</td>\n",
              "      <td>2.47</td>\n",
              "      <td>0.50</td>\n",
              "    </tr>\n",
              "    <tr>\n",
              "      <th>15</th>\n",
              "      <td>4</td>\n",
              "      <td>6</td>\n",
              "      <td>6.98</td>\n",
              "      <td>3.40</td>\n",
              "      <td>0.50</td>\n",
              "    </tr>\n",
              "    <tr>\n",
              "      <th>16</th>\n",
              "      <td>4</td>\n",
              "      <td>12</td>\n",
              "      <td>6.68</td>\n",
              "      <td>3.22</td>\n",
              "      <td>0.50</td>\n",
              "    </tr>\n",
              "    <tr>\n",
              "      <th>17</th>\n",
              "      <td>4</td>\n",
              "      <td>18</td>\n",
              "      <td>6.38</td>\n",
              "      <td>3.07</td>\n",
              "      <td>0.50</td>\n",
              "    </tr>\n",
              "    <tr>\n",
              "      <th>18</th>\n",
              "      <td>4</td>\n",
              "      <td>24</td>\n",
              "      <td>7.01</td>\n",
              "      <td>3.33</td>\n",
              "      <td>0.50</td>\n",
              "    </tr>\n",
              "    <tr>\n",
              "      <th>19</th>\n",
              "      <td>4</td>\n",
              "      <td>30</td>\n",
              "      <td>7.46</td>\n",
              "      <td>3.60</td>\n",
              "      <td>0.50</td>\n",
              "    </tr>\n",
              "    <tr>\n",
              "      <th>20</th>\n",
              "      <td>5</td>\n",
              "      <td>6</td>\n",
              "      <td>7.71</td>\n",
              "      <td>3.69</td>\n",
              "      <td>0.50</td>\n",
              "    </tr>\n",
              "    <tr>\n",
              "      <th>21</th>\n",
              "      <td>5</td>\n",
              "      <td>12</td>\n",
              "      <td>8.01</td>\n",
              "      <td>3.86</td>\n",
              "      <td>0.50</td>\n",
              "    </tr>\n",
              "    <tr>\n",
              "      <th>22</th>\n",
              "      <td>5</td>\n",
              "      <td>18</td>\n",
              "      <td>8.23</td>\n",
              "      <td>4.10</td>\n",
              "      <td>0.50</td>\n",
              "    </tr>\n",
              "    <tr>\n",
              "      <th>23</th>\n",
              "      <td>5</td>\n",
              "      <td>24</td>\n",
              "      <td>8.52</td>\n",
              "      <td>4.17</td>\n",
              "      <td>0.50</td>\n",
              "    </tr>\n",
              "    <tr>\n",
              "      <th>24</th>\n",
              "      <td>5</td>\n",
              "      <td>30</td>\n",
              "      <td>7.69</td>\n",
              "      <td>3.53</td>\n",
              "      <td>0.50</td>\n",
              "    </tr>\n",
              "  </tbody>\n",
              "</table>\n",
              "</div>\n",
              "      <button class=\"colab-df-convert\" onclick=\"convertToInteractive('df-fcebff73-1358-40fd-9deb-380fb6faf5fc')\"\n",
              "              title=\"Convert this dataframe to an interactive table.\"\n",
              "              style=\"display:none;\">\n",
              "        \n",
              "  <svg xmlns=\"http://www.w3.org/2000/svg\" height=\"24px\"viewBox=\"0 0 24 24\"\n",
              "       width=\"24px\">\n",
              "    <path d=\"M0 0h24v24H0V0z\" fill=\"none\"/>\n",
              "    <path d=\"M18.56 5.44l.94 2.06.94-2.06 2.06-.94-2.06-.94-.94-2.06-.94 2.06-2.06.94zm-11 1L8.5 8.5l.94-2.06 2.06-.94-2.06-.94L8.5 2.5l-.94 2.06-2.06.94zm10 10l.94 2.06.94-2.06 2.06-.94-2.06-.94-.94-2.06-.94 2.06-2.06.94z\"/><path d=\"M17.41 7.96l-1.37-1.37c-.4-.4-.92-.59-1.43-.59-.52 0-1.04.2-1.43.59L10.3 9.45l-7.72 7.72c-.78.78-.78 2.05 0 2.83L4 21.41c.39.39.9.59 1.41.59.51 0 1.02-.2 1.41-.59l7.78-7.78 2.81-2.81c.8-.78.8-2.07 0-2.86zM5.41 20L4 18.59l7.72-7.72 1.47 1.35L5.41 20z\"/>\n",
              "  </svg>\n",
              "      </button>\n",
              "      \n",
              "  <style>\n",
              "    .colab-df-container {\n",
              "      display:flex;\n",
              "      flex-wrap:wrap;\n",
              "      gap: 12px;\n",
              "    }\n",
              "\n",
              "    .colab-df-convert {\n",
              "      background-color: #E8F0FE;\n",
              "      border: none;\n",
              "      border-radius: 50%;\n",
              "      cursor: pointer;\n",
              "      display: none;\n",
              "      fill: #1967D2;\n",
              "      height: 32px;\n",
              "      padding: 0 0 0 0;\n",
              "      width: 32px;\n",
              "    }\n",
              "\n",
              "    .colab-df-convert:hover {\n",
              "      background-color: #E2EBFA;\n",
              "      box-shadow: 0px 1px 2px rgba(60, 64, 67, 0.3), 0px 1px 3px 1px rgba(60, 64, 67, 0.15);\n",
              "      fill: #174EA6;\n",
              "    }\n",
              "\n",
              "    [theme=dark] .colab-df-convert {\n",
              "      background-color: #3B4455;\n",
              "      fill: #D2E3FC;\n",
              "    }\n",
              "\n",
              "    [theme=dark] .colab-df-convert:hover {\n",
              "      background-color: #434B5C;\n",
              "      box-shadow: 0px 1px 3px 1px rgba(0, 0, 0, 0.15);\n",
              "      filter: drop-shadow(0px 1px 2px rgba(0, 0, 0, 0.3));\n",
              "      fill: #FFFFFF;\n",
              "    }\n",
              "  </style>\n",
              "\n",
              "      <script>\n",
              "        const buttonEl =\n",
              "          document.querySelector('#df-fcebff73-1358-40fd-9deb-380fb6faf5fc button.colab-df-convert');\n",
              "        buttonEl.style.display =\n",
              "          google.colab.kernel.accessAllowed ? 'block' : 'none';\n",
              "\n",
              "        async function convertToInteractive(key) {\n",
              "          const element = document.querySelector('#df-fcebff73-1358-40fd-9deb-380fb6faf5fc');\n",
              "          const dataTable =\n",
              "            await google.colab.kernel.invokeFunction('convertToInteractive',\n",
              "                                                     [key], {});\n",
              "          if (!dataTable) return;\n",
              "\n",
              "          const docLinkHtml = 'Like what you see? Visit the ' +\n",
              "            '<a target=\"_blank\" href=https://colab.research.google.com/notebooks/data_table.ipynb>data table notebook</a>'\n",
              "            + ' to learn more about interactive tables.';\n",
              "          element.innerHTML = '';\n",
              "          dataTable['output_type'] = 'display_data';\n",
              "          await google.colab.output.renderOutput(dataTable, element);\n",
              "          const docLink = document.createElement('div');\n",
              "          docLink.innerHTML = docLinkHtml;\n",
              "          element.appendChild(docLink);\n",
              "        }\n",
              "      </script>\n",
              "    </div>\n",
              "  </div>\n",
              "  "
            ]
          },
          "metadata": {},
          "execution_count": 52
        }
      ]
    },
    {
      "cell_type": "code",
      "source": [
        "#For Learning curve \n",
        "import matplotlib.pyplot as plt\n",
        "% matplotlib inline\n",
        "\n",
        "import seaborn as sns\n",
        "\n",
        "# Use plot styling from seaborn.\n",
        "sns.set(style='whitegrid')\n",
        "\n",
        "# polt, font 크기 키우기\n",
        "sns.set(font_scale=1.5)\n",
        "plt.rcParams[\"figure.figsize\"] = (18,9)\n",
        "\n",
        "# Plot the learning curve.\n",
        "plt.plot(df_stats['Training Loss'], 'b-o', label=\"Training\")\n",
        "plt.plot(df_stats['Valid Loss'], 'r-o', label=\"Validation\")\n",
        "\n",
        "# Label the plot.\n",
        "plt.title(\"Training & Validation Loss\")\n",
        "plt.xlabel(\"Epoch\\nIteration\")\n",
        "plt.ylabel(\"Loss\")\n",
        "\n",
        "# \"epoch-iteration\" 형식으로 x축 라벨 만들기\n",
        "epoch_iter = list(zip(list(df_stats['epoch']),list(df_stats['iteration'])))\n",
        "plt.xticks(ticks = range(0,len(df_stats['iteration']+1)),labels = [str(epoch_iter_label[0])+\"\\n\"+str(epoch_iter_label[1]) for epoch_iter_label in epoch_iter])\n",
        "\n",
        "#plot 저장\n",
        "#plt.savefig('Training_Validation_Loss.png')\n",
        "plt.legend()\n",
        "plt.show()"
      ],
      "metadata": {
        "colab": {
          "base_uri": "https://localhost:8080/",
          "height": 631
        },
        "id": "U4PKavn9WTQE",
        "outputId": "b91948d2-ba9a-4215-bd81-c4201ff4f3c6"
      },
      "execution_count": 53,
      "outputs": [
        {
          "output_type": "display_data",
          "data": {
            "text/plain": [
              "<Figure size 1296x648 with 1 Axes>"
            ],
            "image/png": "[encoded data removed]"
          },
          "metadata": {}
        }
      ]
    },
    {
      "cell_type": "code",
      "execution_count": null,
      "metadata": {
        "id": "P95gtlnurvgX"
      },
      "outputs": [],
      "source": [
        "import pandas as pd\n",
        "test_df = pd.read_csv('test_no_label.csv')"
      ]
    },
    {
      "cell_type": "code",
      "execution_count": null,
      "metadata": {
        "id": "cLDzC10ErvgX"
      },
      "outputs": [],
      "source": [
        "test_dataset = test_df['Id']"
      ]
    },
    {
      "cell_type": "code",
      "execution_count": null,
      "metadata": {
        "id": "jnt693N0rvgX"
      },
      "outputs": [],
      "source": [
        "def make_id_file_test(tokenizer, test_dataset):\n",
        "    data_strings = []\n",
        "    id_file_data = [tokenizer.encode(sent.lower()) for sent in test_dataset]\n",
        "    for item in id_file_data:\n",
        "        data_strings.append(' '.join([str(k) for k in item]))\n",
        "    return data_strings"
      ]
    },
    {
      "cell_type": "code",
      "execution_count": null,
      "metadata": {
        "id": "7C5PpXtlrvgY"
      },
      "outputs": [],
      "source": [
        "test = make_id_file_test(tokenizer, test_dataset)"
      ]
    },
    {
      "cell_type": "code",
      "execution_count": null,
      "metadata": {
        "id": "1aqse7SHrvgY"
      },
      "outputs": [],
      "source": [
        "test[:10]"
      ]
    },
    {
      "cell_type": "code",
      "execution_count": null,
      "metadata": {
        "id": "cZi14gnnrvgY"
      },
      "outputs": [],
      "source": [
        "class SentimentTestDataset(object):\n",
        "    def __init__(self, tokenizer, test):\n",
        "        self.tokenizer = tokenizer\n",
        "        self.data = []\n",
        "\n",
        "        for sent in test:\n",
        "            self.data += [self._cast_to_int(sent.strip().split())]\n",
        "\n",
        "    def _cast_to_int(self, sample):\n",
        "        return [int(word_id) for word_id in sample]\n",
        "\n",
        "    def __len__(self):\n",
        "        return len(self.data)\n",
        "\n",
        "    def __getitem__(self, index):\n",
        "        sample = self.data[index]\n",
        "        return np.array(sample)"
      ]
    },
    {
      "cell_type": "code",
      "execution_count": null,
      "metadata": {
        "id": "erHjGE9rrvgY"
      },
      "outputs": [],
      "source": [
        "test_dataset = SentimentTestDataset(tokenizer, test)"
      ]
    },
    {
      "cell_type": "code",
      "execution_count": null,
      "metadata": {
        "id": "y03-nDX9rvgZ"
      },
      "outputs": [],
      "source": [
        "def collate_fn_style_test(samples):\n",
        "    input_ids = samples\n",
        "    print(input_ids)\n",
        "    max_len = max(len(input_id) for input_id in input_ids)\n",
        "    #sorted_indices = np.argsort([len(input_id) for input_id in input_ids])[::-1]\n",
        "    sorted_indices = list(i for i in range(len(input_ids)))\n",
        "\n",
        "    input_ids = pad_sequence([torch.tensor(input_ids[index]) for index in sorted_indices],\n",
        "                             batch_first=True)\n",
        "    attention_mask = torch.tensor(\n",
        "        [[1] * len(input_ids[index]) + [0] * (max_len - len(input_ids[index])) for index in\n",
        "         sorted_indices])\n",
        "    token_type_ids = torch.tensor([[0] * len(input_ids[index]) for index in sorted_indices])\n",
        "    position_ids = torch.tensor([list(range(len(input_ids[index]))) for index in sorted_indices])\n",
        "\n",
        "    return input_ids, attention_mask, token_type_ids, position_ids"
      ]
    },
    {
      "cell_type": "code",
      "execution_count": null,
      "metadata": {
        "id": "gZ0l1HparvgZ"
      },
      "outputs": [],
      "source": [
        "test_batch_size = 32\n",
        "test_loader = torch.utils.data.DataLoader(test_dataset, batch_size=test_batch_size,\n",
        "                                          shuffle=False, collate_fn=collate_fn_style_test,\n",
        "                                          num_workers=2)"
      ]
    },
    {
      "cell_type": "code",
      "execution_count": null,
      "metadata": {
        "id": "XoSHTbJUrvgZ"
      },
      "outputs": [],
      "source": [
        "device = torch.device('cuda' if torch.cuda.is_available() else 'cpu')\n",
        "\n",
        "model_path = '/content/drive/MyDrive/Goorm_Deep_Learning/Projects/project1/checkpoints/checkpoint_epoch_1.8310.pth'\n",
        "model = BertForSequenceClassification.from_pretrained('bert-large-uncased')\n",
        "checkpoint = torch.load(model_path, map_location=device)\n",
        "model.load_state_dict(checkpoint['model_state_dict'])\n",
        "model.to(device)\n",
        "\n",
        "with torch.no_grad():\n",
        "    model.eval()\n",
        "    predictions = []\n",
        "    for input_ids, attention_mask, token_type_ids, position_ids in tqdm(test_loader,\n",
        "                                                                        desc='Test',\n",
        "                                                                        position=1,\n",
        "                                                                        leave=None):\n",
        "\n",
        "        input_ids = input_ids.to(device)\n",
        "        attention_mask = attention_mask.to(device)\n",
        "        token_type_ids = token_type_ids.to(device)\n",
        "        position_ids = position_ids.to(device)\n",
        "\n",
        "        output = model(input_ids=input_ids,\n",
        "                       attention_mask=attention_mask,\n",
        "                       token_type_ids=token_type_ids,\n",
        "                       position_ids=position_ids)\n",
        "\n",
        "        logits = output.logits\n",
        "        batch_predictions = [0 if example[0] > example[1] else 1 for example in logits]\n",
        "        predictions += batch_predictions"
      ]
    },
    {
      "cell_type": "code",
      "execution_count": null,
      "metadata": {
        "id": "tGO3aS-VrvgZ"
      },
      "outputs": [],
      "source": [
        "test_df['Category'] = predictions"
      ]
    },
    {
      "cell_type": "code",
      "execution_count": null,
      "metadata": {
        "id": "VndXxal3rvgZ"
      },
      "outputs": [],
      "source": [
        "test_df.to_csv('submission(bert_large)(batch_36)with_graph.csv', index=False)"
      ]
    },
    {
      "cell_type": "code",
      "source": [
        ""
      ],
      "metadata": {
        "id": "n2BRKm1HuydX"
      },
      "execution_count": null,
      "outputs": []
    }
  ],
  "metadata": {
    "accelerator": "GPU",
    "colab": {
      "background_execution": "on",
      "collapsed_sections": [],
      "name": "baseline_code_with_save_model_colab(make_learning_curve)",
      "provenance": [],
      "machine_shape": "hm"
    },
    "kernelspec": {
      "display_name": "Python 3",
      "language": "python",
      "name": "python3"
    },
    "language_info": {
      "codemirror_mode": {
        "name": "ipython",
        "version": 3
      },
      "file_extension": ".py",
      "mimetype": "text/x-python",
      "name": "python",
      "nbconvert_exporter": "python",
      "pygments_lexer": "ipython3",
      "version": "3.6.4"
    }
  },
  "nbformat": 4,
  "nbformat_minor": 0
}